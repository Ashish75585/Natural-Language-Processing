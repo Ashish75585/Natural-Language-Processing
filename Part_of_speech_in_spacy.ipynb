{
  "nbformat": 4,
  "nbformat_minor": 0,
  "metadata": {
    "colab": {
      "provenance": []
    },
    "kernelspec": {
      "name": "python3",
      "display_name": "Python 3"
    },
    "language_info": {
      "name": "python"
    }
  },
  "cells": [
    {
      "cell_type": "code",
      "execution_count": null,
      "metadata": {
        "id": "YBJLVn70P2-q"
      },
      "outputs": [],
      "source": [
        "import spacy"
      ]
    },
    {
      "cell_type": "code",
      "source": [
        "nlp = spacy.load('en_core_web_sm')"
      ],
      "metadata": {
        "id": "D2J5FByCP_56"
      },
      "execution_count": null,
      "outputs": []
    },
    {
      "cell_type": "code",
      "source": [
        "doc = nlp('Elon flew to mars yesterday. He carried Biryani masala with him')\n",
        "\n",
        "for token in doc:\n",
        "  print(token, \" | \", token.pos_, \" | \", spacy.explain(token.pos_))"
      ],
      "metadata": {
        "colab": {
          "base_uri": "https://localhost:8080/"
        },
        "id": "HcgnkVDrQGVA",
        "outputId": "f7c074b8-5aa5-4826-8335-670929b99862"
      },
      "execution_count": null,
      "outputs": [
        {
          "output_type": "stream",
          "name": "stdout",
          "text": [
            "Elon  |  PROPN  |  proper noun\n",
            "flew  |  VERB  |  verb\n",
            "to  |  ADP  |  adposition\n",
            "mars  |  NOUN  |  noun\n",
            "yesterday  |  NOUN  |  noun\n",
            ".  |  PUNCT  |  punctuation\n",
            "He  |  PRON  |  pronoun\n",
            "carried  |  VERB  |  verb\n",
            "Biryani  |  PROPN  |  proper noun\n",
            "masala  |  NOUN  |  noun\n",
            "with  |  ADP  |  adposition\n",
            "him  |  PRON  |  pronoun\n"
          ]
        }
      ]
    },
    {
      "cell_type": "code",
      "source": [
        "doc = nlp('Wow! Dr. Strange made 250$ million on its first day.')\n",
        "\n",
        "for token in doc:\n",
        "  print(token, \" | \", token.pos_, \" | \", spacy.explain(token.pos_), \" | \", token.tag_, \" | \", spacy.explain(token.tag_))"
      ],
      "metadata": {
        "colab": {
          "base_uri": "https://localhost:8080/"
        },
        "id": "4-soErbPQRlS",
        "outputId": "6c1d6429-8ede-453f-e5fc-7dae3584b394"
      },
      "execution_count": null,
      "outputs": [
        {
          "output_type": "stream",
          "name": "stdout",
          "text": [
            "Wow  |  INTJ  |  interjection  |  UH  |  interjection\n",
            "!  |  PUNCT  |  punctuation  |  .  |  punctuation mark, sentence closer\n",
            "Dr.  |  PROPN  |  proper noun  |  NNP  |  noun, proper singular\n",
            "Strange  |  PROPN  |  proper noun  |  NNP  |  noun, proper singular\n",
            "made  |  VERB  |  verb  |  VBD  |  verb, past tense\n",
            "250  |  NUM  |  numeral  |  CD  |  cardinal number\n",
            "$  |  SYM  |  symbol  |  $  |  symbol, currency\n",
            "million  |  NUM  |  numeral  |  CD  |  cardinal number\n",
            "on  |  ADP  |  adposition  |  IN  |  conjunction, subordinating or preposition\n",
            "its  |  PRON  |  pronoun  |  PRP$  |  pronoun, possessive\n",
            "first  |  ADJ  |  adjective  |  JJ  |  adjective (English), other noun-modifier (Chinese)\n",
            "day  |  NOUN  |  noun  |  NN  |  noun, singular or mass\n",
            ".  |  PUNCT  |  punctuation  |  .  |  punctuation mark, sentence closer\n"
          ]
        }
      ]
    },
    {
      "cell_type": "code",
      "source": [
        "earning_text = \"\"\"\n",
        " Microsoft Corp. today announced the following results for the quarter ended September 30, 2024, as compared to the corresponding period of last fiscal year:\n",
        "\n",
        "·        Revenue was $65.6 billion and increased 16%\n",
        "\n",
        "·        Operating income was $30.6 billion and increased 14%\n",
        "\n",
        "·        Net income was $24.7 billion and increased 11% (up 10% in constant currency)\n",
        "\n",
        "·        Diluted earnings per share was $3.30 and increased 10%\n",
        "\n",
        "“AI-driven transformation is changing work, work artifacts, and workflow across every role, function, and business process,\" said Satya Nadella, chairman and chief executive officer of Microsoft. “We are expanding our opportunity and winning new customers as we help them apply our AI platforms and tools to drive new growth and operating leverage.”\n",
        "\"\"\""
      ],
      "metadata": {
        "id": "e3NJL_8iRs8o"
      },
      "execution_count": null,
      "outputs": []
    },
    {
      "cell_type": "code",
      "source": [
        "doc = nlp(earning_text)"
      ],
      "metadata": {
        "id": "lmDNfg1zS2Fx"
      },
      "execution_count": null,
      "outputs": []
    },
    {
      "cell_type": "code",
      "source": [
        "for token in doc:\n",
        "  print(token, \" | \", token.pos_, \" | \", spacy.explain(token.pos_))"
      ],
      "metadata": {
        "colab": {
          "base_uri": "https://localhost:8080/"
        },
        "collapsed": true,
        "id": "BmGMn0JVS7CE",
        "outputId": "01860d04-f078-44c9-d05c-9e84c14bb521"
      },
      "execution_count": null,
      "outputs": [
        {
          "output_type": "stream",
          "name": "stdout",
          "text": [
            "\n",
            "   |  SPACE  |  space\n",
            "Microsoft  |  PROPN  |  proper noun\n",
            "Corp.  |  PROPN  |  proper noun\n",
            "today  |  NOUN  |  noun\n",
            "announced  |  VERB  |  verb\n",
            "the  |  DET  |  determiner\n",
            "following  |  VERB  |  verb\n",
            "results  |  NOUN  |  noun\n",
            "for  |  ADP  |  adposition\n",
            "the  |  DET  |  determiner\n",
            "quarter  |  NOUN  |  noun\n",
            "ended  |  VERB  |  verb\n",
            "September  |  PROPN  |  proper noun\n",
            "30  |  NUM  |  numeral\n",
            ",  |  PUNCT  |  punctuation\n",
            "2024  |  NUM  |  numeral\n",
            ",  |  PUNCT  |  punctuation\n",
            "as  |  SCONJ  |  subordinating conjunction\n",
            "compared  |  VERB  |  verb\n",
            "to  |  ADP  |  adposition\n",
            "the  |  DET  |  determiner\n",
            "corresponding  |  ADJ  |  adjective\n",
            "period  |  NOUN  |  noun\n",
            "of  |  ADP  |  adposition\n",
            "last  |  ADJ  |  adjective\n",
            "fiscal  |  ADJ  |  adjective\n",
            "year  |  NOUN  |  noun\n",
            ":  |  PUNCT  |  punctuation\n",
            "\n",
            "\n",
            "  |  SPACE  |  space\n",
            "·  |  PUNCT  |  punctuation\n",
            "         |  SPACE  |  space\n",
            "Revenue  |  NOUN  |  noun\n",
            "was  |  AUX  |  auxiliary\n",
            "$  |  SYM  |  symbol\n",
            "65.6  |  NUM  |  numeral\n",
            "billion  |  NUM  |  numeral\n",
            "and  |  CCONJ  |  coordinating conjunction\n",
            "increased  |  VERB  |  verb\n",
            "16  |  NUM  |  numeral\n",
            "%  |  NOUN  |  noun\n",
            "\n",
            "\n",
            "  |  SPACE  |  space\n",
            "·  |  PUNCT  |  punctuation\n",
            "         |  SPACE  |  space\n",
            "Operating  |  VERB  |  verb\n",
            "income  |  NOUN  |  noun\n",
            "was  |  AUX  |  auxiliary\n",
            "$  |  SYM  |  symbol\n",
            "30.6  |  NUM  |  numeral\n",
            "billion  |  NUM  |  numeral\n",
            "and  |  CCONJ  |  coordinating conjunction\n",
            "increased  |  VERB  |  verb\n",
            "14  |  NUM  |  numeral\n",
            "%  |  NOUN  |  noun\n",
            "\n",
            "\n",
            "  |  SPACE  |  space\n",
            "·  |  PUNCT  |  punctuation\n",
            "         |  SPACE  |  space\n",
            "Net  |  ADJ  |  adjective\n",
            "income  |  NOUN  |  noun\n",
            "was  |  AUX  |  auxiliary\n",
            "$  |  SYM  |  symbol\n",
            "24.7  |  NUM  |  numeral\n",
            "billion  |  NUM  |  numeral\n",
            "and  |  CCONJ  |  coordinating conjunction\n",
            "increased  |  VERB  |  verb\n",
            "11  |  NUM  |  numeral\n",
            "%  |  NOUN  |  noun\n",
            "(  |  PUNCT  |  punctuation\n",
            "up  |  ADV  |  adverb\n",
            "10  |  NUM  |  numeral\n",
            "%  |  NOUN  |  noun\n",
            "in  |  ADP  |  adposition\n",
            "constant  |  ADJ  |  adjective\n",
            "currency  |  NOUN  |  noun\n",
            ")  |  PUNCT  |  punctuation\n",
            "\n",
            "\n",
            "  |  SPACE  |  space\n",
            "·  |  PUNCT  |  punctuation\n",
            "         |  SPACE  |  space\n",
            "Diluted  |  VERB  |  verb\n",
            "earnings  |  NOUN  |  noun\n",
            "per  |  ADP  |  adposition\n",
            "share  |  NOUN  |  noun\n",
            "was  |  AUX  |  auxiliary\n",
            "$  |  SYM  |  symbol\n",
            "3.30  |  NUM  |  numeral\n",
            "and  |  CCONJ  |  coordinating conjunction\n",
            "increased  |  VERB  |  verb\n",
            "10  |  NUM  |  numeral\n",
            "%  |  NOUN  |  noun\n",
            "\n",
            "\n",
            "  |  SPACE  |  space\n",
            "“  |  PUNCT  |  punctuation\n",
            "AI  |  PROPN  |  proper noun\n",
            "-  |  PUNCT  |  punctuation\n",
            "driven  |  VERB  |  verb\n",
            "transformation  |  NOUN  |  noun\n",
            "is  |  AUX  |  auxiliary\n",
            "changing  |  VERB  |  verb\n",
            "work  |  NOUN  |  noun\n",
            ",  |  PUNCT  |  punctuation\n",
            "work  |  NOUN  |  noun\n",
            "artifacts  |  NOUN  |  noun\n",
            ",  |  PUNCT  |  punctuation\n",
            "and  |  CCONJ  |  coordinating conjunction\n",
            "workflow  |  VERB  |  verb\n",
            "across  |  ADP  |  adposition\n",
            "every  |  DET  |  determiner\n",
            "role  |  NOUN  |  noun\n",
            ",  |  PUNCT  |  punctuation\n",
            "function  |  NOUN  |  noun\n",
            ",  |  PUNCT  |  punctuation\n",
            "and  |  CCONJ  |  coordinating conjunction\n",
            "business  |  NOUN  |  noun\n",
            "process  |  NOUN  |  noun\n",
            ",  |  PUNCT  |  punctuation\n",
            "\"  |  PUNCT  |  punctuation\n",
            "said  |  VERB  |  verb\n",
            "Satya  |  PROPN  |  proper noun\n",
            "Nadella  |  PROPN  |  proper noun\n",
            ",  |  PUNCT  |  punctuation\n",
            "chairman  |  NOUN  |  noun\n",
            "and  |  CCONJ  |  coordinating conjunction\n",
            "chief  |  ADJ  |  adjective\n",
            "executive  |  ADJ  |  adjective\n",
            "officer  |  NOUN  |  noun\n",
            "of  |  ADP  |  adposition\n",
            "Microsoft  |  PROPN  |  proper noun\n",
            ".  |  PUNCT  |  punctuation\n",
            "“  |  PUNCT  |  punctuation\n",
            "We  |  PRON  |  pronoun\n",
            "are  |  AUX  |  auxiliary\n",
            "expanding  |  VERB  |  verb\n",
            "our  |  PRON  |  pronoun\n",
            "opportunity  |  NOUN  |  noun\n",
            "and  |  CCONJ  |  coordinating conjunction\n",
            "winning  |  VERB  |  verb\n",
            "new  |  ADJ  |  adjective\n",
            "customers  |  NOUN  |  noun\n",
            "as  |  SCONJ  |  subordinating conjunction\n",
            "we  |  PRON  |  pronoun\n",
            "help  |  VERB  |  verb\n",
            "them  |  PRON  |  pronoun\n",
            "apply  |  VERB  |  verb\n",
            "our  |  PRON  |  pronoun\n",
            "AI  |  PROPN  |  proper noun\n",
            "platforms  |  NOUN  |  noun\n",
            "and  |  CCONJ  |  coordinating conjunction\n",
            "tools  |  NOUN  |  noun\n",
            "to  |  PART  |  particle\n",
            "drive  |  VERB  |  verb\n",
            "new  |  ADJ  |  adjective\n",
            "growth  |  NOUN  |  noun\n",
            "and  |  CCONJ  |  coordinating conjunction\n",
            "operating  |  NOUN  |  noun\n",
            "leverage  |  NOUN  |  noun\n",
            ".  |  PUNCT  |  punctuation\n",
            "”  |  PUNCT  |  punctuation\n",
            "\n",
            "  |  SPACE  |  space\n"
          ]
        }
      ]
    },
    {
      "cell_type": "code",
      "source": [
        "# removing all the puntuations and spaces from above text.\n",
        "filtered_tokens = []\n",
        "\n",
        "for token in doc:\n",
        "  if token.pos_ not in [\"SPACE\", \"X\", \"PUNCT\"]:\n",
        "    filtered_tokens.append(token)"
      ],
      "metadata": {
        "id": "I-WBXvKBTQYs"
      },
      "execution_count": null,
      "outputs": []
    },
    {
      "cell_type": "code",
      "source": [
        "filtered_tokens"
      ],
      "metadata": {
        "colab": {
          "base_uri": "https://localhost:8080/"
        },
        "collapsed": true,
        "id": "RrOuhjp7T8Zt",
        "outputId": "bc8e9e36-4172-4392-880c-555392f23f2d"
      },
      "execution_count": null,
      "outputs": [
        {
          "output_type": "execute_result",
          "data": {
            "text/plain": [
              "[Microsoft,\n",
              " Corp.,\n",
              " today,\n",
              " announced,\n",
              " the,\n",
              " following,\n",
              " results,\n",
              " for,\n",
              " the,\n",
              " quarter,\n",
              " ended,\n",
              " September,\n",
              " 30,\n",
              " 2024,\n",
              " as,\n",
              " compared,\n",
              " to,\n",
              " the,\n",
              " corresponding,\n",
              " period,\n",
              " of,\n",
              " last,\n",
              " fiscal,\n",
              " year,\n",
              " Revenue,\n",
              " was,\n",
              " $,\n",
              " 65.6,\n",
              " billion,\n",
              " and,\n",
              " increased,\n",
              " 16,\n",
              " %,\n",
              " Operating,\n",
              " income,\n",
              " was,\n",
              " $,\n",
              " 30.6,\n",
              " billion,\n",
              " and,\n",
              " increased,\n",
              " 14,\n",
              " %,\n",
              " Net,\n",
              " income,\n",
              " was,\n",
              " $,\n",
              " 24.7,\n",
              " billion,\n",
              " and,\n",
              " increased,\n",
              " 11,\n",
              " %,\n",
              " up,\n",
              " 10,\n",
              " %,\n",
              " in,\n",
              " constant,\n",
              " currency,\n",
              " Diluted,\n",
              " earnings,\n",
              " per,\n",
              " share,\n",
              " was,\n",
              " $,\n",
              " 3.30,\n",
              " and,\n",
              " increased,\n",
              " 10,\n",
              " %,\n",
              " AI,\n",
              " driven,\n",
              " transformation,\n",
              " is,\n",
              " changing,\n",
              " work,\n",
              " work,\n",
              " artifacts,\n",
              " and,\n",
              " workflow,\n",
              " across,\n",
              " every,\n",
              " role,\n",
              " function,\n",
              " and,\n",
              " business,\n",
              " process,\n",
              " said,\n",
              " Satya,\n",
              " Nadella,\n",
              " chairman,\n",
              " and,\n",
              " chief,\n",
              " executive,\n",
              " officer,\n",
              " of,\n",
              " Microsoft,\n",
              " We,\n",
              " are,\n",
              " expanding,\n",
              " our,\n",
              " opportunity,\n",
              " and,\n",
              " winning,\n",
              " new,\n",
              " customers,\n",
              " as,\n",
              " we,\n",
              " help,\n",
              " them,\n",
              " apply,\n",
              " our,\n",
              " AI,\n",
              " platforms,\n",
              " and,\n",
              " tools,\n",
              " to,\n",
              " drive,\n",
              " new,\n",
              " growth,\n",
              " and,\n",
              " operating,\n",
              " leverage]"
            ]
          },
          "metadata": {},
          "execution_count": 15
        }
      ]
    },
    {
      "cell_type": "code",
      "source": [
        "# counting each POS\n",
        "count = doc.count_by(spacy.attrs.POS)\n",
        "count"
      ],
      "metadata": {
        "colab": {
          "base_uri": "https://localhost:8080/"
        },
        "id": "AVBkbi5-T-HJ",
        "outputId": "a17671b1-ba98-4df6-d435-8420f194bb2d"
      },
      "execution_count": null,
      "outputs": [
        {
          "output_type": "execute_result",
          "data": {
            "text/plain": [
              "{103: 11,\n",
              " 96: 8,\n",
              " 92: 33,\n",
              " 100: 19,\n",
              " 90: 4,\n",
              " 85: 7,\n",
              " 93: 14,\n",
              " 97: 22,\n",
              " 98: 2,\n",
              " 84: 9,\n",
              " 87: 6,\n",
              " 99: 4,\n",
              " 89: 10,\n",
              " 86: 1,\n",
              " 95: 5,\n",
              " 94: 1}"
            ]
          },
          "metadata": {},
          "execution_count": 16
        }
      ]
    },
    {
      "cell_type": "code",
      "source": [
        "doc.vocab[96].text"
      ],
      "metadata": {
        "colab": {
          "base_uri": "https://localhost:8080/",
          "height": 36
        },
        "id": "LC6eFmXEUVPA",
        "outputId": "c21ea41c-6003-4798-efad-7d3b467dc6df"
      },
      "execution_count": null,
      "outputs": [
        {
          "output_type": "execute_result",
          "data": {
            "text/plain": [
              "'PROPN'"
            ],
            "application/vnd.google.colaboratory.intrinsic+json": {
              "type": "string"
            }
          },
          "metadata": {},
          "execution_count": 17
        }
      ]
    },
    {
      "cell_type": "markdown",
      "source": [
        "`96` represents `proper noun`\n"
      ],
      "metadata": {
        "id": "uoCDw8WTUgL5"
      }
    },
    {
      "cell_type": "code",
      "source": [
        "for k,v in count.items():\n",
        "  print(doc.vocab[k].text, \" | \", v)"
      ],
      "metadata": {
        "colab": {
          "base_uri": "https://localhost:8080/"
        },
        "id": "qsz2BRLNUeaN",
        "outputId": "75d5d5b7-6b9f-4816-ed12-1cdaf250dfb4"
      },
      "execution_count": null,
      "outputs": [
        {
          "output_type": "stream",
          "name": "stdout",
          "text": [
            "SPACE  |  11\n",
            "PROPN  |  8\n",
            "NOUN  |  33\n",
            "VERB  |  19\n",
            "DET  |  4\n",
            "ADP  |  7\n",
            "NUM  |  14\n",
            "PUNCT  |  22\n",
            "SCONJ  |  2\n",
            "ADJ  |  9\n",
            "AUX  |  6\n",
            "SYM  |  4\n",
            "CCONJ  |  10\n",
            "ADV  |  1\n",
            "PRON  |  5\n",
            "PART  |  1\n"
          ]
        }
      ]
    },
    {
      "cell_type": "markdown",
      "source": [
        "## Exercise\n"
      ],
      "metadata": {
        "id": "Lo-1oKonVQcN"
      }
    },
    {
      "cell_type": "code",
      "source": [
        "text = \"\"\"\n",
        "Inflation rose again in April, continuing a climb that has pushed consumers to the brink and is threatening the economic expansion, the Bureau of Labor Statistics reported Wednesday.\n",
        "\n",
        "The consumer price index, a broad-based measure of prices for goods and services, increased 8.3% from a year ago, higher than the Dow Jones estimate for an 8.1% gain. That represented a slight ease from March’s peak but was still close to the highest level since the summer of 1982.\n",
        "\n",
        "Removing volatile food and energy prices, so-called core CPI still rose 6.2%, against expectations for a 6% gain, clouding hopes that inflation had peaked in March.\n",
        "\n",
        "The month-over-month gains also were higher than expectations — 0.3% on headline CPI versus the 0.2% estimate and a 0.6% increase for core, against the outlook for a 0.4% gain.\n",
        "\n",
        "The price gains also meant that workers continued to lose ground. Real wages adjusted for inflation decreased 0.1% on the month despite a nominal increase of 0.3% in average hourly earnings. Over the past year, real earnings have dropped 2.6% even though average hourly earnings are up 5.5%.\n",
        "\n",
        "Inflation has been the single biggest threat to a recovery that began early in the Covid pandemic and saw the economy in 2021 stage its biggest single-year growth level since 1984. Rising prices at the pump and in grocery stores have been one problem, but inflation has spread beyond those two areas into housing, auto sales and a host of other areas.\n",
        "\n",
        "Federal Reserve officials have responded to the problem with two interest rate hikes so far this year and pledges of more until inflation comes down to the central bank’s 2% goal. However, Wednesday’s data shows that the Fed has a big job ahead.\n",
        "\n",
        "Credits: cnbc.com\n",
        "\"\"\""
      ],
      "metadata": {
        "id": "KeTm0IbHU8jp"
      },
      "execution_count": null,
      "outputs": []
    },
    {
      "cell_type": "markdown",
      "source": [
        "### 1. Extract all NOUN tokens from this story. You will have to read the file in python first to collect all the text and then extract NOUNs in a python list"
      ],
      "metadata": {
        "id": "afvZsgD7Vvay"
      }
    },
    {
      "cell_type": "code",
      "source": [
        "doc = nlp(text)"
      ],
      "metadata": {
        "id": "TlME7Zp0Vq3G"
      },
      "execution_count": null,
      "outputs": []
    },
    {
      "cell_type": "code",
      "source": [
        "noun = []\n",
        "\n",
        "for token in doc:\n",
        "  if token.pos_ == \"NOUN\":\n",
        "    noun.append(token)"
      ],
      "metadata": {
        "id": "LH4RgLb7V1EI"
      },
      "execution_count": null,
      "outputs": []
    },
    {
      "cell_type": "code",
      "source": [
        "noun"
      ],
      "metadata": {
        "colab": {
          "base_uri": "https://localhost:8080/"
        },
        "collapsed": true,
        "id": "ZSXGvKq3WUY9",
        "outputId": "65b39a2e-a9a5-49d0-a47c-16ae8cb0c971"
      },
      "execution_count": null,
      "outputs": [
        {
          "output_type": "execute_result",
          "data": {
            "text/plain": [
              "[Inflation,\n",
              " climb,\n",
              " consumers,\n",
              " brink,\n",
              " expansion,\n",
              " consumer,\n",
              " price,\n",
              " index,\n",
              " measure,\n",
              " prices,\n",
              " goods,\n",
              " services,\n",
              " %,\n",
              " year,\n",
              " estimate,\n",
              " %,\n",
              " gain,\n",
              " ease,\n",
              " peak,\n",
              " level,\n",
              " summer,\n",
              " food,\n",
              " energy,\n",
              " prices,\n",
              " core,\n",
              " %,\n",
              " expectations,\n",
              " %,\n",
              " gain,\n",
              " hopes,\n",
              " inflation,\n",
              " month,\n",
              " month,\n",
              " gains,\n",
              " expectations,\n",
              " %,\n",
              " headline,\n",
              " %,\n",
              " estimate,\n",
              " %,\n",
              " increase,\n",
              " core,\n",
              " outlook,\n",
              " %,\n",
              " gain,\n",
              " price,\n",
              " gains,\n",
              " workers,\n",
              " ground,\n",
              " wages,\n",
              " inflation,\n",
              " %,\n",
              " month,\n",
              " increase,\n",
              " %,\n",
              " earnings,\n",
              " year,\n",
              " earnings,\n",
              " %,\n",
              " earnings,\n",
              " %,\n",
              " Inflation,\n",
              " threat,\n",
              " recovery,\n",
              " pandemic,\n",
              " economy,\n",
              " stage,\n",
              " year,\n",
              " growth,\n",
              " level,\n",
              " prices,\n",
              " pump,\n",
              " grocery,\n",
              " stores,\n",
              " problem,\n",
              " inflation,\n",
              " areas,\n",
              " housing,\n",
              " auto,\n",
              " sales,\n",
              " host,\n",
              " areas,\n",
              " officials,\n",
              " problem,\n",
              " interest,\n",
              " rate,\n",
              " hikes,\n",
              " year,\n",
              " pledges,\n",
              " inflation,\n",
              " bank,\n",
              " %,\n",
              " goal,\n",
              " data,\n",
              " job,\n",
              " Credits]"
            ]
          },
          "metadata": {},
          "execution_count": 30
        }
      ]
    },
    {
      "cell_type": "markdown",
      "source": [
        "### 2. Extract all numbers (NUM POS type) in a python list"
      ],
      "metadata": {
        "id": "8m_nQfJUWqKl"
      }
    },
    {
      "cell_type": "code",
      "source": [
        "numbers = []\n",
        "\n",
        "for token in doc:\n",
        "  if token.pos_ == \"NUM\":\n",
        "    numbers.append(token.text)"
      ],
      "metadata": {
        "id": "19pO0wDlWVCT"
      },
      "execution_count": null,
      "outputs": []
    },
    {
      "cell_type": "code",
      "source": [
        "numbers"
      ],
      "metadata": {
        "colab": {
          "base_uri": "https://localhost:8080/"
        },
        "id": "PJfDxV56W-As",
        "outputId": "c79a2ce0-3c7f-4448-9af2-cb9da6cbff07"
      },
      "execution_count": null,
      "outputs": [
        {
          "output_type": "execute_result",
          "data": {
            "text/plain": [
              "['8.3',\n",
              " '8.1',\n",
              " '1982',\n",
              " '6.2',\n",
              " '6',\n",
              " '0.3',\n",
              " '0.2',\n",
              " '0.6',\n",
              " '0.4',\n",
              " '0.1',\n",
              " '0.3',\n",
              " '2.6',\n",
              " '5.5',\n",
              " '2021',\n",
              " '1984',\n",
              " 'one',\n",
              " 'two',\n",
              " 'two',\n",
              " '2']"
            ]
          },
          "metadata": {},
          "execution_count": 26
        }
      ]
    },
    {
      "cell_type": "markdown",
      "source": [
        "### 3. Print a count of all POS tags in this story"
      ],
      "metadata": {
        "id": "_WlUvQDnXApr"
      }
    },
    {
      "cell_type": "code",
      "source": [
        "count = doc.count_by(spacy.attrs.POS)"
      ],
      "metadata": {
        "id": "F7Do2BlOW_DY"
      },
      "execution_count": null,
      "outputs": []
    },
    {
      "cell_type": "code",
      "source": [
        "count"
      ],
      "metadata": {
        "colab": {
          "base_uri": "https://localhost:8080/"
        },
        "id": "BE6VlUnTXTJb",
        "outputId": "62f0ca53-d6a5-456b-e6c8-e5f1142774f8"
      },
      "execution_count": null,
      "outputs": [
        {
          "output_type": "execute_result",
          "data": {
            "text/plain": [
              "{103: 9,\n",
              " 92: 96,\n",
              " 100: 27,\n",
              " 86: 15,\n",
              " 85: 39,\n",
              " 96: 16,\n",
              " 97: 32,\n",
              " 90: 34,\n",
              " 95: 4,\n",
              " 87: 13,\n",
              " 89: 10,\n",
              " 84: 23,\n",
              " 93: 19,\n",
              " 94: 4,\n",
              " 98: 8,\n",
              " 101: 1}"
            ]
          },
          "metadata": {},
          "execution_count": 28
        }
      ]
    },
    {
      "cell_type": "code",
      "source": [],
      "metadata": {
        "id": "G3vrJV-5XUav"
      },
      "execution_count": null,
      "outputs": []
    }
  ]
}