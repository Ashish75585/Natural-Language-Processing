{
  "nbformat": 4,
  "nbformat_minor": 0,
  "metadata": {
    "colab": {
      "provenance": []
    },
    "kernelspec": {
      "name": "python3",
      "display_name": "Python 3"
    },
    "language_info": {
      "name": "python"
    }
  },
  "cells": [
    {
      "cell_type": "code",
      "execution_count": null,
      "metadata": {
        "id": "FnWz-WKs0QJC"
      },
      "outputs": [],
      "source": [
        "import re"
      ]
    },
    {
      "cell_type": "code",
      "source": [
        "text = '''\n",
        "My name is Ashish Yadav, My phone number is 1714212212.\n",
        "My future's slef salary will be around 5,00,00 INR/month as a Employee and around 1 million $ as CEO of my company.\n",
        "\n",
        "Ashva (111)-333-5555\n",
        "'''"
      ],
      "metadata": {
        "id": "-H2Dn8CR4g5c"
      },
      "execution_count": null,
      "outputs": []
    },
    {
      "cell_type": "code",
      "source": [
        "pattern = '\\(\\d{3}\\)-\\d{3}-\\d{4}|\\d{10}'\n",
        "matches = re.findall(pattern, text)"
      ],
      "metadata": {
        "id": "VmBi7Uqj4pxt"
      },
      "execution_count": null,
      "outputs": []
    },
    {
      "cell_type": "code",
      "source": [
        "matches"
      ],
      "metadata": {
        "colab": {
          "base_uri": "https://localhost:8080/"
        },
        "id": "Brvoev5H44IV",
        "outputId": "ba5fb534-5c77-4e12-e457-1711753aaa97"
      },
      "execution_count": null,
      "outputs": [
        {
          "output_type": "execute_result",
          "data": {
            "text/plain": [
              "['1714212212', '(111)-333-5555']"
            ]
          },
          "metadata": {},
          "execution_count": 4
        }
      ]
    },
    {
      "cell_type": "code",
      "source": [
        "text = ' my name is ashish yadav and my emailid is abc123@gmail.com'\n",
        "pattern = '[a-zA-Z0-9]*@[a-z]*\\.[a-z]*'\n",
        "matches = re.findall(pattern, text)\n",
        "matches"
      ],
      "metadata": {
        "colab": {
          "base_uri": "https://localhost:8080/"
        },
        "id": "_b9kfuXwQQ2P",
        "outputId": "518f0137-5410-4aad-ef77-3754bd1d0451"
      },
      "execution_count": null,
      "outputs": [
        {
          "output_type": "execute_result",
          "data": {
            "text/plain": [
              "['abc123@gmail.com']"
            ]
          },
          "metadata": {},
          "execution_count": 13
        }
      ]
    },
    {
      "cell_type": "markdown",
      "source": [
        "## Extracting financial periods from a company's financial reporting"
      ],
      "metadata": {
        "id": "yo3ryiRD6atT"
      }
    },
    {
      "cell_type": "code",
      "source": [
        "text = '''\n",
        "The gross cost of operating lease vehicles in FY2021 Q1 was $4.85 billion.\n",
        "In previous quarter i.e. fy2020 Q4 it was $3 billion.\n",
        "'''"
      ],
      "metadata": {
        "id": "e20DPJ5e45Qt"
      },
      "execution_count": null,
      "outputs": []
    },
    {
      "cell_type": "code",
      "source": [
        "pattern = 'FY\\d{4} Q[1-4]'\n",
        "matches = re.findall(pattern, text, flags=re.IGNORECASE)"
      ],
      "metadata": {
        "id": "4N42Za2_60yp"
      },
      "execution_count": null,
      "outputs": []
    },
    {
      "cell_type": "code",
      "source": [
        "matches"
      ],
      "metadata": {
        "colab": {
          "base_uri": "https://localhost:8080/"
        },
        "id": "lIjiB1aI7sP8",
        "outputId": "56df1da3-848e-45b6-a4c5-b730c3ec5e20"
      },
      "execution_count": null,
      "outputs": [
        {
          "output_type": "execute_result",
          "data": {
            "text/plain": [
              "['FY2021 Q1', 'fy2020 Q4']"
            ]
          },
          "metadata": {},
          "execution_count": 7
        }
      ]
    },
    {
      "cell_type": "code",
      "source": [
        "pattern = '\\$[\\d\\.]* [\\w]+'\n",
        "matches = re.findall(pattern ,text)"
      ],
      "metadata": {
        "id": "vXvtbBP68BLQ"
      },
      "execution_count": null,
      "outputs": []
    },
    {
      "cell_type": "code",
      "source": [
        "matches"
      ],
      "metadata": {
        "colab": {
          "base_uri": "https://localhost:8080/"
        },
        "id": "OAGM3kcu93h0",
        "outputId": "3fc1a3d4-1714-4844-82df-13754b8d1357"
      },
      "execution_count": null,
      "outputs": [
        {
          "output_type": "execute_result",
          "data": {
            "text/plain": [
              "['$4.85 billion', '$3 billion']"
            ]
          },
          "metadata": {},
          "execution_count": 9
        }
      ]
    },
    {
      "cell_type": "code",
      "source": [
        "text = '''\n",
        "The gross cost of operating lease vehicles in FY2021 Q1 was $4.85 billion.\n",
        "In previous quarter i.e. FY2020 Q4 it was $3 billion.\n",
        "'''\n",
        "\n",
        "pat = 'FY(\\d{4} Q[1-4])[^\\$]+\\$([\\d\\.]+)'\n",
        "mat = re.findall(pat, text)\n",
        "mat"
      ],
      "metadata": {
        "colab": {
          "base_uri": "https://localhost:8080/"
        },
        "id": "rcLYuNT69484",
        "outputId": "031a41a4-5f08-465e-a7de-7ad902223393"
      },
      "execution_count": null,
      "outputs": [
        {
          "output_type": "execute_result",
          "data": {
            "text/plain": [
              "[('2021 Q1', '4.85'), ('2020 Q4', '3')]"
            ]
          },
          "metadata": {},
          "execution_count": 10
        }
      ]
    },
    {
      "cell_type": "code",
      "source": [],
      "metadata": {
        "id": "oJfPcvJz_Ous"
      },
      "execution_count": null,
      "outputs": []
    }
  ]
}