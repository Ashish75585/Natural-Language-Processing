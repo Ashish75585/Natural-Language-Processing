{
  "nbformat": 4,
  "nbformat_minor": 0,
  "metadata": {
    "colab": {
      "provenance": []
    },
    "kernelspec": {
      "name": "python3",
      "display_name": "Python 3"
    },
    "language_info": {
      "name": "python"
    }
  },
  "cells": [
    {
      "cell_type": "code",
      "execution_count": null,
      "metadata": {
        "colab": {
          "base_uri": "https://localhost:8080/"
        },
        "id": "ZWWnzgFyxIoA",
        "outputId": "d7ac55d6-d413-4f5c-b50c-04dc977c3612"
      },
      "outputs": [
        {
          "output_type": "stream",
          "name": "stdout",
          "text": [
            "[==================================================] 100.0% 1662.8/1662.8MB downloaded\n"
          ]
        }
      ],
      "source": [
        "import gensim.downloader as api\n",
        "\n",
        "wv = api.load('word2vec-google-news-300')"
      ]
    },
    {
      "cell_type": "code",
      "source": [
        "import pandas as pd\n",
        "import numpy as np"
      ],
      "metadata": {
        "id": "LABlunSxyPpn"
      },
      "execution_count": null,
      "outputs": []
    },
    {
      "cell_type": "code",
      "source": [
        "# we can directly convert words to vector\n",
        "wv_great = wv['great']"
      ],
      "metadata": {
        "id": "WyWsOFb01qbB"
      },
      "execution_count": null,
      "outputs": []
    },
    {
      "cell_type": "code",
      "source": [
        "# the size of vector is usually 300\n",
        "wv_great.shape"
      ],
      "metadata": {
        "colab": {
          "base_uri": "https://localhost:8080/"
        },
        "id": "2Oyc-1Aa26Ji",
        "outputId": "f3c3ca8d-85ac-4c36-c655-05e93d9a9313"
      },
      "execution_count": null,
      "outputs": [
        {
          "output_type": "execute_result",
          "data": {
            "text/plain": [
              "(300,)"
            ]
          },
          "metadata": {},
          "execution_count": 4
        }
      ]
    },
    {
      "cell_type": "code",
      "source": [
        "wv_great"
      ],
      "metadata": {
        "colab": {
          "base_uri": "https://localhost:8080/"
        },
        "collapsed": true,
        "id": "j8XDGGih3ATJ",
        "outputId": "639dd50e-6dac-41b1-8df5-71481fb47660"
      },
      "execution_count": null,
      "outputs": [
        {
          "output_type": "execute_result",
          "data": {
            "text/plain": [
              "array([ 7.17773438e-02,  2.08007812e-01, -2.84423828e-02,  1.78710938e-01,\n",
              "        1.32812500e-01, -9.96093750e-02,  9.61914062e-02, -1.16699219e-01,\n",
              "       -8.54492188e-03,  1.48437500e-01, -3.34472656e-02, -1.85546875e-01,\n",
              "        4.10156250e-02, -8.98437500e-02,  2.17285156e-02,  6.93359375e-02,\n",
              "        1.80664062e-01,  2.22656250e-01, -1.00585938e-01, -6.93359375e-02,\n",
              "        1.04427338e-04,  1.60156250e-01,  4.07714844e-02,  7.37304688e-02,\n",
              "        1.53320312e-01,  6.78710938e-02, -1.03027344e-01,  4.17480469e-02,\n",
              "        4.27246094e-02, -1.10351562e-01, -6.68945312e-02,  4.19921875e-02,\n",
              "        2.50000000e-01,  2.12890625e-01,  1.59179688e-01,  1.44653320e-02,\n",
              "       -4.88281250e-02,  1.39770508e-02,  3.55529785e-03,  2.09960938e-01,\n",
              "        1.52343750e-01, -7.32421875e-02,  2.16796875e-01, -5.76171875e-02,\n",
              "       -2.84423828e-02, -3.60107422e-03,  1.52343750e-01, -2.63671875e-02,\n",
              "        2.13623047e-02, -1.51367188e-01,  1.04003906e-01,  3.18359375e-01,\n",
              "       -1.85546875e-01,  3.68652344e-02, -1.10839844e-01, -3.17382812e-02,\n",
              "       -1.01562500e-01, -1.21093750e-01,  3.22265625e-01, -7.32421875e-02,\n",
              "       -1.52343750e-01,  2.67578125e-01, -1.50390625e-01, -1.23046875e-01,\n",
              "        1.07910156e-01,  6.68945312e-02, -2.13623047e-02, -1.00585938e-01,\n",
              "       -2.05078125e-01,  1.17675781e-01,  6.15234375e-02,  6.78710938e-02,\n",
              "        1.06933594e-01, -7.71484375e-02, -1.52343750e-01, -4.24194336e-03,\n",
              "       -1.45507812e-01,  2.53906250e-01,  4.80957031e-02,  9.71679688e-02,\n",
              "       -8.36181641e-03,  1.12792969e-01,  5.34667969e-02,  1.79443359e-02,\n",
              "       -5.63964844e-02, -3.30078125e-01, -9.76562500e-02,  1.42578125e-01,\n",
              "       -1.37695312e-01,  2.20947266e-02,  1.00097656e-01, -5.71289062e-02,\n",
              "       -1.56250000e-01, -6.37817383e-03, -9.37500000e-02, -4.68750000e-02,\n",
              "        8.59375000e-02,  3.06640625e-01, -1.11328125e-01, -1.94335938e-01,\n",
              "       -2.08007812e-01,  8.10546875e-02, -4.19921875e-02, -8.30078125e-02,\n",
              "       -1.04003906e-01,  2.92968750e-01,  2.39257812e-02, -3.85742188e-02,\n",
              "        3.56445312e-02, -1.04980469e-01, -6.54296875e-02,  2.79296875e-01,\n",
              "       -1.16210938e-01, -1.45874023e-02,  3.84765625e-01, -7.81250000e-02,\n",
              "       -2.92968750e-02, -1.35742188e-01, -5.39550781e-02, -5.49316406e-02,\n",
              "       -8.10546875e-02, -2.88085938e-02,  8.34960938e-02,  2.73437500e-01,\n",
              "       -6.20117188e-02, -4.78515625e-02, -1.09252930e-02, -1.13769531e-01,\n",
              "       -1.09863281e-01,  2.02148438e-01, -1.28906250e-01, -6.68945312e-02,\n",
              "       -2.67578125e-01,  9.61914062e-02,  1.04003906e-01, -1.69921875e-01,\n",
              "        5.56640625e-02,  1.54296875e-01,  8.05664062e-02,  2.19726562e-01,\n",
              "       -2.27539062e-01,  1.10351562e-01, -8.11767578e-03, -5.63964844e-02,\n",
              "       -9.03320312e-02, -7.76367188e-02, -3.61328125e-02,  3.61328125e-02,\n",
              "        1.58203125e-01, -1.56250000e-01,  2.26562500e-01,  2.85156250e-01,\n",
              "       -5.51757812e-02,  3.53515625e-01, -1.20605469e-01,  1.05957031e-01,\n",
              "        3.11279297e-02, -1.91406250e-01, -2.31445312e-01, -1.11816406e-01,\n",
              "        2.38037109e-03,  7.51953125e-02, -1.28784180e-02,  1.00585938e-01,\n",
              "        4.45312500e-01, -2.77343750e-01,  6.68945312e-02, -8.10546875e-02,\n",
              "        6.39648438e-02,  1.85546875e-02, -1.11328125e-01,  9.76562500e-02,\n",
              "        2.06054688e-01, -1.30859375e-01,  2.39257812e-02,  1.10839844e-01,\n",
              "        8.05664062e-02, -1.52343750e-01,  4.85229492e-03,  1.84326172e-02,\n",
              "       -9.17968750e-02, -2.41210938e-01,  8.39843750e-02, -1.00585938e-01,\n",
              "       -1.54296875e-01,  2.75878906e-02, -1.64062500e-01, -1.01562500e-01,\n",
              "       -6.07299805e-03,  1.33514404e-03, -2.53906250e-01,  3.14453125e-01,\n",
              "        1.31835938e-01, -1.31835938e-01,  2.17285156e-02, -1.56250000e-01,\n",
              "       -1.46484375e-01, -5.12695312e-02, -1.20605469e-01, -2.15820312e-01,\n",
              "        3.10058594e-02,  1.30859375e-01,  9.71679688e-02,  5.67626953e-03,\n",
              "        2.20947266e-02,  1.26953125e-01, -1.24511719e-02,  6.15234375e-02,\n",
              "       -2.23388672e-02,  2.50000000e-01, -7.17773438e-02,  1.58203125e-01,\n",
              "       -7.27539062e-02,  1.97753906e-02,  8.85009766e-03, -9.08203125e-02,\n",
              "        3.63281250e-01, -9.03320312e-02,  2.41699219e-02, -1.39770508e-02,\n",
              "       -5.10253906e-02,  2.40478516e-02,  5.88989258e-03, -1.02050781e-01,\n",
              "       -8.85009766e-03,  3.05175781e-02, -7.81250000e-02, -1.27929688e-01,\n",
              "        3.85742188e-02,  2.86865234e-02, -2.28515625e-01, -1.25122070e-02,\n",
              "        1.54296875e-01,  9.13085938e-02,  1.05468750e-01, -6.44531250e-02,\n",
              "       -1.28906250e-01, -1.02050781e-01, -2.16064453e-02, -3.29589844e-02,\n",
              "        7.47070312e-02,  3.78417969e-02,  7.42187500e-02, -1.23901367e-02,\n",
              "       -4.68750000e-02,  4.88281250e-03,  1.03515625e-01, -8.69140625e-02,\n",
              "       -2.26562500e-01, -2.53906250e-01,  3.58886719e-02,  4.45312500e-01,\n",
              "        5.56640625e-02,  1.59179688e-01,  2.71484375e-01, -1.08398438e-01,\n",
              "        6.25000000e-02, -5.59082031e-02, -2.50000000e-01, -1.55273438e-01,\n",
              "       -6.83593750e-02, -1.39648438e-01, -1.59179688e-01, -1.79443359e-02,\n",
              "        2.12402344e-02,  7.37304688e-02,  1.30859375e-01, -8.05664062e-02,\n",
              "        2.99072266e-02,  1.55639648e-02, -1.66015625e-01,  1.50390625e-01,\n",
              "       -6.77490234e-03,  1.01318359e-02,  1.14746094e-01, -1.48437500e-01,\n",
              "       -4.58984375e-02, -1.39648438e-01, -1.73828125e-01, -4.27246094e-02,\n",
              "       -5.81054688e-02,  5.22460938e-02, -1.11328125e-01,  8.44726562e-02,\n",
              "       -2.55126953e-02,  1.40625000e-01, -1.81640625e-01,  1.72119141e-02,\n",
              "       -1.37695312e-01, -1.47705078e-02, -1.14746094e-02,  6.44531250e-02,\n",
              "       -2.89062500e-01, -4.80957031e-02, -1.99218750e-01, -7.12890625e-02,\n",
              "        6.44531250e-02, -1.67968750e-01, -2.08740234e-02, -1.42578125e-01],\n",
              "      dtype=float32)"
            ]
          },
          "metadata": {},
          "execution_count": 6
        }
      ]
    },
    {
      "cell_type": "code",
      "source": [
        "df = pd.read_csv('fake_and_real_news.csv')"
      ],
      "metadata": {
        "id": "9dkaGsKu3CBn"
      },
      "execution_count": null,
      "outputs": []
    },
    {
      "cell_type": "code",
      "source": [
        "df.shape"
      ],
      "metadata": {
        "colab": {
          "base_uri": "https://localhost:8080/"
        },
        "id": "J7OV1slI3aDl",
        "outputId": "ea9a501a-8a1e-4d77-a71d-755b62f83c4b"
      },
      "execution_count": null,
      "outputs": [
        {
          "output_type": "execute_result",
          "data": {
            "text/plain": [
              "(9900, 2)"
            ]
          },
          "metadata": {},
          "execution_count": 8
        }
      ]
    },
    {
      "cell_type": "code",
      "source": [
        "df.head()"
      ],
      "metadata": {
        "colab": {
          "base_uri": "https://localhost:8080/",
          "height": 206
        },
        "id": "nRSYjeY63auB",
        "outputId": "820f6ed1-285d-43d8-f5a8-63052411a5ab"
      },
      "execution_count": null,
      "outputs": [
        {
          "output_type": "execute_result",
          "data": {
            "text/plain": [
              "                                                Text label\n",
              "0   Top Trump Surrogate BRUTALLY Stabs Him In The...  Fake\n",
              "1  U.S. conservative leader optimistic of common ...  Real\n",
              "2  Trump proposes U.S. tax overhaul, stirs concer...  Real\n",
              "3   Court Forces Ohio To Allow Millions Of Illega...  Fake\n",
              "4  Democrats say Trump agrees to work on immigrat...  Real"
            ],
            "text/html": [
              "\n",
              "  <div id=\"df-818c7f39-5be6-4a9d-a670-fc710597ba49\" class=\"colab-df-container\">\n",
              "    <div>\n",
              "<style scoped>\n",
              "    .dataframe tbody tr th:only-of-type {\n",
              "        vertical-align: middle;\n",
              "    }\n",
              "\n",
              "    .dataframe tbody tr th {\n",
              "        vertical-align: top;\n",
              "    }\n",
              "\n",
              "    .dataframe thead th {\n",
              "        text-align: right;\n",
              "    }\n",
              "</style>\n",
              "<table border=\"1\" class=\"dataframe\">\n",
              "  <thead>\n",
              "    <tr style=\"text-align: right;\">\n",
              "      <th></th>\n",
              "      <th>Text</th>\n",
              "      <th>label</th>\n",
              "    </tr>\n",
              "  </thead>\n",
              "  <tbody>\n",
              "    <tr>\n",
              "      <th>0</th>\n",
              "      <td>Top Trump Surrogate BRUTALLY Stabs Him In The...</td>\n",
              "      <td>Fake</td>\n",
              "    </tr>\n",
              "    <tr>\n",
              "      <th>1</th>\n",
              "      <td>U.S. conservative leader optimistic of common ...</td>\n",
              "      <td>Real</td>\n",
              "    </tr>\n",
              "    <tr>\n",
              "      <th>2</th>\n",
              "      <td>Trump proposes U.S. tax overhaul, stirs concer...</td>\n",
              "      <td>Real</td>\n",
              "    </tr>\n",
              "    <tr>\n",
              "      <th>3</th>\n",
              "      <td>Court Forces Ohio To Allow Millions Of Illega...</td>\n",
              "      <td>Fake</td>\n",
              "    </tr>\n",
              "    <tr>\n",
              "      <th>4</th>\n",
              "      <td>Democrats say Trump agrees to work on immigrat...</td>\n",
              "      <td>Real</td>\n",
              "    </tr>\n",
              "  </tbody>\n",
              "</table>\n",
              "</div>\n",
              "    <div class=\"colab-df-buttons\">\n",
              "\n",
              "  <div class=\"colab-df-container\">\n",
              "    <button class=\"colab-df-convert\" onclick=\"convertToInteractive('df-818c7f39-5be6-4a9d-a670-fc710597ba49')\"\n",
              "            title=\"Convert this dataframe to an interactive table.\"\n",
              "            style=\"display:none;\">\n",
              "\n",
              "  <svg xmlns=\"http://www.w3.org/2000/svg\" height=\"24px\" viewBox=\"0 -960 960 960\">\n",
              "    <path d=\"M120-120v-720h720v720H120Zm60-500h600v-160H180v160Zm220 220h160v-160H400v160Zm0 220h160v-160H400v160ZM180-400h160v-160H180v160Zm440 0h160v-160H620v160ZM180-180h160v-160H180v160Zm440 0h160v-160H620v160Z\"/>\n",
              "  </svg>\n",
              "    </button>\n",
              "\n",
              "  <style>\n",
              "    .colab-df-container {\n",
              "      display:flex;\n",
              "      gap: 12px;\n",
              "    }\n",
              "\n",
              "    .colab-df-convert {\n",
              "      background-color: #E8F0FE;\n",
              "      border: none;\n",
              "      border-radius: 50%;\n",
              "      cursor: pointer;\n",
              "      display: none;\n",
              "      fill: #1967D2;\n",
              "      height: 32px;\n",
              "      padding: 0 0 0 0;\n",
              "      width: 32px;\n",
              "    }\n",
              "\n",
              "    .colab-df-convert:hover {\n",
              "      background-color: #E2EBFA;\n",
              "      box-shadow: 0px 1px 2px rgba(60, 64, 67, 0.3), 0px 1px 3px 1px rgba(60, 64, 67, 0.15);\n",
              "      fill: #174EA6;\n",
              "    }\n",
              "\n",
              "    .colab-df-buttons div {\n",
              "      margin-bottom: 4px;\n",
              "    }\n",
              "\n",
              "    [theme=dark] .colab-df-convert {\n",
              "      background-color: #3B4455;\n",
              "      fill: #D2E3FC;\n",
              "    }\n",
              "\n",
              "    [theme=dark] .colab-df-convert:hover {\n",
              "      background-color: #434B5C;\n",
              "      box-shadow: 0px 1px 3px 1px rgba(0, 0, 0, 0.15);\n",
              "      filter: drop-shadow(0px 1px 2px rgba(0, 0, 0, 0.3));\n",
              "      fill: #FFFFFF;\n",
              "    }\n",
              "  </style>\n",
              "\n",
              "    <script>\n",
              "      const buttonEl =\n",
              "        document.querySelector('#df-818c7f39-5be6-4a9d-a670-fc710597ba49 button.colab-df-convert');\n",
              "      buttonEl.style.display =\n",
              "        google.colab.kernel.accessAllowed ? 'block' : 'none';\n",
              "\n",
              "      async function convertToInteractive(key) {\n",
              "        const element = document.querySelector('#df-818c7f39-5be6-4a9d-a670-fc710597ba49');\n",
              "        const dataTable =\n",
              "          await google.colab.kernel.invokeFunction('convertToInteractive',\n",
              "                                                    [key], {});\n",
              "        if (!dataTable) return;\n",
              "\n",
              "        const docLinkHtml = 'Like what you see? Visit the ' +\n",
              "          '<a target=\"_blank\" href=https://colab.research.google.com/notebooks/data_table.ipynb>data table notebook</a>'\n",
              "          + ' to learn more about interactive tables.';\n",
              "        element.innerHTML = '';\n",
              "        dataTable['output_type'] = 'display_data';\n",
              "        await google.colab.output.renderOutput(dataTable, element);\n",
              "        const docLink = document.createElement('div');\n",
              "        docLink.innerHTML = docLinkHtml;\n",
              "        element.appendChild(docLink);\n",
              "      }\n",
              "    </script>\n",
              "  </div>\n",
              "\n",
              "\n",
              "<div id=\"df-f4420e29-4cef-4d4a-a4bb-c19454aba432\">\n",
              "  <button class=\"colab-df-quickchart\" onclick=\"quickchart('df-f4420e29-4cef-4d4a-a4bb-c19454aba432')\"\n",
              "            title=\"Suggest charts\"\n",
              "            style=\"display:none;\">\n",
              "\n",
              "<svg xmlns=\"http://www.w3.org/2000/svg\" height=\"24px\"viewBox=\"0 0 24 24\"\n",
              "     width=\"24px\">\n",
              "    <g>\n",
              "        <path d=\"M19 3H5c-1.1 0-2 .9-2 2v14c0 1.1.9 2 2 2h14c1.1 0 2-.9 2-2V5c0-1.1-.9-2-2-2zM9 17H7v-7h2v7zm4 0h-2V7h2v10zm4 0h-2v-4h2v4z\"/>\n",
              "    </g>\n",
              "</svg>\n",
              "  </button>\n",
              "\n",
              "<style>\n",
              "  .colab-df-quickchart {\n",
              "      --bg-color: #E8F0FE;\n",
              "      --fill-color: #1967D2;\n",
              "      --hover-bg-color: #E2EBFA;\n",
              "      --hover-fill-color: #174EA6;\n",
              "      --disabled-fill-color: #AAA;\n",
              "      --disabled-bg-color: #DDD;\n",
              "  }\n",
              "\n",
              "  [theme=dark] .colab-df-quickchart {\n",
              "      --bg-color: #3B4455;\n",
              "      --fill-color: #D2E3FC;\n",
              "      --hover-bg-color: #434B5C;\n",
              "      --hover-fill-color: #FFFFFF;\n",
              "      --disabled-bg-color: #3B4455;\n",
              "      --disabled-fill-color: #666;\n",
              "  }\n",
              "\n",
              "  .colab-df-quickchart {\n",
              "    background-color: var(--bg-color);\n",
              "    border: none;\n",
              "    border-radius: 50%;\n",
              "    cursor: pointer;\n",
              "    display: none;\n",
              "    fill: var(--fill-color);\n",
              "    height: 32px;\n",
              "    padding: 0;\n",
              "    width: 32px;\n",
              "  }\n",
              "\n",
              "  .colab-df-quickchart:hover {\n",
              "    background-color: var(--hover-bg-color);\n",
              "    box-shadow: 0 1px 2px rgba(60, 64, 67, 0.3), 0 1px 3px 1px rgba(60, 64, 67, 0.15);\n",
              "    fill: var(--button-hover-fill-color);\n",
              "  }\n",
              "\n",
              "  .colab-df-quickchart-complete:disabled,\n",
              "  .colab-df-quickchart-complete:disabled:hover {\n",
              "    background-color: var(--disabled-bg-color);\n",
              "    fill: var(--disabled-fill-color);\n",
              "    box-shadow: none;\n",
              "  }\n",
              "\n",
              "  .colab-df-spinner {\n",
              "    border: 2px solid var(--fill-color);\n",
              "    border-color: transparent;\n",
              "    border-bottom-color: var(--fill-color);\n",
              "    animation:\n",
              "      spin 1s steps(1) infinite;\n",
              "  }\n",
              "\n",
              "  @keyframes spin {\n",
              "    0% {\n",
              "      border-color: transparent;\n",
              "      border-bottom-color: var(--fill-color);\n",
              "      border-left-color: var(--fill-color);\n",
              "    }\n",
              "    20% {\n",
              "      border-color: transparent;\n",
              "      border-left-color: var(--fill-color);\n",
              "      border-top-color: var(--fill-color);\n",
              "    }\n",
              "    30% {\n",
              "      border-color: transparent;\n",
              "      border-left-color: var(--fill-color);\n",
              "      border-top-color: var(--fill-color);\n",
              "      border-right-color: var(--fill-color);\n",
              "    }\n",
              "    40% {\n",
              "      border-color: transparent;\n",
              "      border-right-color: var(--fill-color);\n",
              "      border-top-color: var(--fill-color);\n",
              "    }\n",
              "    60% {\n",
              "      border-color: transparent;\n",
              "      border-right-color: var(--fill-color);\n",
              "    }\n",
              "    80% {\n",
              "      border-color: transparent;\n",
              "      border-right-color: var(--fill-color);\n",
              "      border-bottom-color: var(--fill-color);\n",
              "    }\n",
              "    90% {\n",
              "      border-color: transparent;\n",
              "      border-bottom-color: var(--fill-color);\n",
              "    }\n",
              "  }\n",
              "</style>\n",
              "\n",
              "  <script>\n",
              "    async function quickchart(key) {\n",
              "      const quickchartButtonEl =\n",
              "        document.querySelector('#' + key + ' button');\n",
              "      quickchartButtonEl.disabled = true;  // To prevent multiple clicks.\n",
              "      quickchartButtonEl.classList.add('colab-df-spinner');\n",
              "      try {\n",
              "        const charts = await google.colab.kernel.invokeFunction(\n",
              "            'suggestCharts', [key], {});\n",
              "      } catch (error) {\n",
              "        console.error('Error during call to suggestCharts:', error);\n",
              "      }\n",
              "      quickchartButtonEl.classList.remove('colab-df-spinner');\n",
              "      quickchartButtonEl.classList.add('colab-df-quickchart-complete');\n",
              "    }\n",
              "    (() => {\n",
              "      let quickchartButtonEl =\n",
              "        document.querySelector('#df-f4420e29-4cef-4d4a-a4bb-c19454aba432 button');\n",
              "      quickchartButtonEl.style.display =\n",
              "        google.colab.kernel.accessAllowed ? 'block' : 'none';\n",
              "    })();\n",
              "  </script>\n",
              "</div>\n",
              "\n",
              "    </div>\n",
              "  </div>\n"
            ],
            "application/vnd.google.colaboratory.intrinsic+json": {
              "type": "dataframe",
              "variable_name": "df",
              "summary": "{\n  \"name\": \"df\",\n  \"rows\": 9900,\n  \"fields\": [\n    {\n      \"column\": \"Text\",\n      \"properties\": {\n        \"dtype\": \"string\",\n        \"num_unique_values\": 9865,\n        \"samples\": [\n          \" ICYMI: SNL Skewers \\u201cMorning Joe\\u201d And It Is Hilarious This week s cold open for Saturday Night Live featured a parody of the morning show, Morning Joe. The sketch featured Alex Moffat as host Joe Scarborough and Kate McKinnon as Mika Mika Brzezinski. The sketch also has Alec Baldwin as President Donald Trump, who calls into the show as  John Miller,  a spokesperson for the White House. Back in the day, Trump was known for calling reporters all over the New York area pretending to be his own publicist. He would call, not to tout his business successes but to brag about his sex life.The sketch also made fun of the relationship between the hosts. The pair got engaged recently when they were celebrating Mika s 50th birthday. The sketch shows the response from the other panelists on the show, Mark Halperin, Willie Geist and Mike Barnacle, who all have no idea how to respond to Joe and Mika s behavior on the set.Featured image via Frederick M. Brown/Getty Images.\",\n          \" BOMBSHELL: Information Suggests Trump Associates DID Collude With Russia, According To Officials Wednesday was not a good day to be Donald Trump. In the aftermath of the disastrous Comey hearing where it was confirmed that The Donald s team was indeed being investigated   and of Rep. Nunes  decision to skip informing his fellow congressional Russia investigators of perfectly legal  incidental collection  of information about Trump associates and possibly the President* himself and run to The Donald with it instead   Trump has been flailing, attempting to distract from the whole Russia thing as much as possible.That s going to be very hard now, as U.S. officials have now confirmed that the facts suggest that members of his team were indeed working with the enemy. CNN reports:The FBI has information that indicates associates of President Donald Trump communicated with suspected Russian operatives to possibly coordinate the release of information damaging to Hillary Clinton s campaign, US officials told CNN.\",\n          \" Vladimir Putin Just Defended Trump In The WORST Way Possible (VIDEO) According to Russian dictator Vladimir Putin, it s silly to worry about little things like whether or not a couple of Russian ladies peed on Donald Trump s bed because it s much, much worse to publish memos that reveal these allegations.Putin says that there is a conspiracy to  delegitimize  the man and his team of hackers, fake news writers, and trolls he worked hard to install in the Oval Office by hacking Trump s political opponents and running an aggressive propaganda campaign. I don t know Mr. Trump, I have never met him, I don t know what he will do in the international arena, so I have no reason either to attack him, criticize him or defend him, Putin said at a press conference. Donald Trump has been with the most beautiful women in the world, so why would he need prostitutes in Moscow? To answer that question, we need only look to a 2001 edition of the Howard Stern Show in which Trump was reminded that he bragged that he likes to go to Russia to have sex with women because they  have no morals. Putin says that Russian security services  do not chase every US billionaire,  and that the release of the documents was worse than prostitutes. In a way, he s right, as the documents presented to both Trump and President Obama also allege that members of the President-elect s campaign staff directly worked with the Russian government during the campaign.On numerous occasions, Trump has repeated Russian propaganda while attacking U.S. intelligence agencies that have been exposing him for what he is and, of course, has directly quoted Putin (a man whom Trump says is  very smart ) while hurling barbs at Hillary Clinton.Trump and Putin have been screaming about the  fake news  release of actual documents that actual intelligence agencies are in possession of, but the BBC reported recently that the whole pissing Russian ladies thing is just the tip of the iceberg. Correspondent Paul Wood revealed last week that at least four sources have confirmed the information, with one U.S. intelligence source informing him that there is audio and video of The Donald s escapades, and an Israeli news source reports that the country s spies have been warned against sharing information with the United States for fear that Trump will relay it to Putin.Putin and Trump s bromance is disconcerting at best   especially when more than a baker s dozen intelligence agencies have confirmed that the man who stood up to join Trump in his attacks on our intelligence agencies has been confirmed to have interfered in our election.Watch it below:Featured image via Getty Images\"\n        ],\n        \"semantic_type\": \"\",\n        \"description\": \"\"\n      }\n    },\n    {\n      \"column\": \"label\",\n      \"properties\": {\n        \"dtype\": \"category\",\n        \"num_unique_values\": 2,\n        \"samples\": [\n          \"Real\",\n          \"Fake\"\n        ],\n        \"semantic_type\": \"\",\n        \"description\": \"\"\n      }\n    }\n  ]\n}"
            }
          },
          "metadata": {},
          "execution_count": 9
        }
      ]
    },
    {
      "cell_type": "markdown",
      "source": [
        "## Preprocessing"
      ],
      "metadata": {
        "id": "5MLo57ih39iA"
      }
    },
    {
      "cell_type": "code",
      "source": [
        "# conveting the label column into numeric\n",
        "\n",
        "df['label_num'] = df['label'].map({'Fake': 0, 'Real': 1})"
      ],
      "metadata": {
        "id": "FDNUkXEG3cst"
      },
      "execution_count": null,
      "outputs": []
    },
    {
      "cell_type": "code",
      "source": [
        "df.head()"
      ],
      "metadata": {
        "colab": {
          "base_uri": "https://localhost:8080/",
          "height": 206
        },
        "id": "0IfYwiIY3opl",
        "outputId": "81bee890-0b86-4a99-cf2a-1de9d4f2ee9c"
      },
      "execution_count": null,
      "outputs": [
        {
          "output_type": "execute_result",
          "data": {
            "text/plain": [
              "                                                Text label  label_num\n",
              "0   Top Trump Surrogate BRUTALLY Stabs Him In The...  Fake          0\n",
              "1  U.S. conservative leader optimistic of common ...  Real          1\n",
              "2  Trump proposes U.S. tax overhaul, stirs concer...  Real          1\n",
              "3   Court Forces Ohio To Allow Millions Of Illega...  Fake          0\n",
              "4  Democrats say Trump agrees to work on immigrat...  Real          1"
            ],
            "text/html": [
              "\n",
              "  <div id=\"df-15da5f28-4a1a-4be2-af73-64cde52a0862\" class=\"colab-df-container\">\n",
              "    <div>\n",
              "<style scoped>\n",
              "    .dataframe tbody tr th:only-of-type {\n",
              "        vertical-align: middle;\n",
              "    }\n",
              "\n",
              "    .dataframe tbody tr th {\n",
              "        vertical-align: top;\n",
              "    }\n",
              "\n",
              "    .dataframe thead th {\n",
              "        text-align: right;\n",
              "    }\n",
              "</style>\n",
              "<table border=\"1\" class=\"dataframe\">\n",
              "  <thead>\n",
              "    <tr style=\"text-align: right;\">\n",
              "      <th></th>\n",
              "      <th>Text</th>\n",
              "      <th>label</th>\n",
              "      <th>label_num</th>\n",
              "    </tr>\n",
              "  </thead>\n",
              "  <tbody>\n",
              "    <tr>\n",
              "      <th>0</th>\n",
              "      <td>Top Trump Surrogate BRUTALLY Stabs Him In The...</td>\n",
              "      <td>Fake</td>\n",
              "      <td>0</td>\n",
              "    </tr>\n",
              "    <tr>\n",
              "      <th>1</th>\n",
              "      <td>U.S. conservative leader optimistic of common ...</td>\n",
              "      <td>Real</td>\n",
              "      <td>1</td>\n",
              "    </tr>\n",
              "    <tr>\n",
              "      <th>2</th>\n",
              "      <td>Trump proposes U.S. tax overhaul, stirs concer...</td>\n",
              "      <td>Real</td>\n",
              "      <td>1</td>\n",
              "    </tr>\n",
              "    <tr>\n",
              "      <th>3</th>\n",
              "      <td>Court Forces Ohio To Allow Millions Of Illega...</td>\n",
              "      <td>Fake</td>\n",
              "      <td>0</td>\n",
              "    </tr>\n",
              "    <tr>\n",
              "      <th>4</th>\n",
              "      <td>Democrats say Trump agrees to work on immigrat...</td>\n",
              "      <td>Real</td>\n",
              "      <td>1</td>\n",
              "    </tr>\n",
              "  </tbody>\n",
              "</table>\n",
              "</div>\n",
              "    <div class=\"colab-df-buttons\">\n",
              "\n",
              "  <div class=\"colab-df-container\">\n",
              "    <button class=\"colab-df-convert\" onclick=\"convertToInteractive('df-15da5f28-4a1a-4be2-af73-64cde52a0862')\"\n",
              "            title=\"Convert this dataframe to an interactive table.\"\n",
              "            style=\"display:none;\">\n",
              "\n",
              "  <svg xmlns=\"http://www.w3.org/2000/svg\" height=\"24px\" viewBox=\"0 -960 960 960\">\n",
              "    <path d=\"M120-120v-720h720v720H120Zm60-500h600v-160H180v160Zm220 220h160v-160H400v160Zm0 220h160v-160H400v160ZM180-400h160v-160H180v160Zm440 0h160v-160H620v160ZM180-180h160v-160H180v160Zm440 0h160v-160H620v160Z\"/>\n",
              "  </svg>\n",
              "    </button>\n",
              "\n",
              "  <style>\n",
              "    .colab-df-container {\n",
              "      display:flex;\n",
              "      gap: 12px;\n",
              "    }\n",
              "\n",
              "    .colab-df-convert {\n",
              "      background-color: #E8F0FE;\n",
              "      border: none;\n",
              "      border-radius: 50%;\n",
              "      cursor: pointer;\n",
              "      display: none;\n",
              "      fill: #1967D2;\n",
              "      height: 32px;\n",
              "      padding: 0 0 0 0;\n",
              "      width: 32px;\n",
              "    }\n",
              "\n",
              "    .colab-df-convert:hover {\n",
              "      background-color: #E2EBFA;\n",
              "      box-shadow: 0px 1px 2px rgba(60, 64, 67, 0.3), 0px 1px 3px 1px rgba(60, 64, 67, 0.15);\n",
              "      fill: #174EA6;\n",
              "    }\n",
              "\n",
              "    .colab-df-buttons div {\n",
              "      margin-bottom: 4px;\n",
              "    }\n",
              "\n",
              "    [theme=dark] .colab-df-convert {\n",
              "      background-color: #3B4455;\n",
              "      fill: #D2E3FC;\n",
              "    }\n",
              "\n",
              "    [theme=dark] .colab-df-convert:hover {\n",
              "      background-color: #434B5C;\n",
              "      box-shadow: 0px 1px 3px 1px rgba(0, 0, 0, 0.15);\n",
              "      filter: drop-shadow(0px 1px 2px rgba(0, 0, 0, 0.3));\n",
              "      fill: #FFFFFF;\n",
              "    }\n",
              "  </style>\n",
              "\n",
              "    <script>\n",
              "      const buttonEl =\n",
              "        document.querySelector('#df-15da5f28-4a1a-4be2-af73-64cde52a0862 button.colab-df-convert');\n",
              "      buttonEl.style.display =\n",
              "        google.colab.kernel.accessAllowed ? 'block' : 'none';\n",
              "\n",
              "      async function convertToInteractive(key) {\n",
              "        const element = document.querySelector('#df-15da5f28-4a1a-4be2-af73-64cde52a0862');\n",
              "        const dataTable =\n",
              "          await google.colab.kernel.invokeFunction('convertToInteractive',\n",
              "                                                    [key], {});\n",
              "        if (!dataTable) return;\n",
              "\n",
              "        const docLinkHtml = 'Like what you see? Visit the ' +\n",
              "          '<a target=\"_blank\" href=https://colab.research.google.com/notebooks/data_table.ipynb>data table notebook</a>'\n",
              "          + ' to learn more about interactive tables.';\n",
              "        element.innerHTML = '';\n",
              "        dataTable['output_type'] = 'display_data';\n",
              "        await google.colab.output.renderOutput(dataTable, element);\n",
              "        const docLink = document.createElement('div');\n",
              "        docLink.innerHTML = docLinkHtml;\n",
              "        element.appendChild(docLink);\n",
              "      }\n",
              "    </script>\n",
              "  </div>\n",
              "\n",
              "\n",
              "<div id=\"df-76552166-6d87-4f7a-85f2-1cce03c722c9\">\n",
              "  <button class=\"colab-df-quickchart\" onclick=\"quickchart('df-76552166-6d87-4f7a-85f2-1cce03c722c9')\"\n",
              "            title=\"Suggest charts\"\n",
              "            style=\"display:none;\">\n",
              "\n",
              "<svg xmlns=\"http://www.w3.org/2000/svg\" height=\"24px\"viewBox=\"0 0 24 24\"\n",
              "     width=\"24px\">\n",
              "    <g>\n",
              "        <path d=\"M19 3H5c-1.1 0-2 .9-2 2v14c0 1.1.9 2 2 2h14c1.1 0 2-.9 2-2V5c0-1.1-.9-2-2-2zM9 17H7v-7h2v7zm4 0h-2V7h2v10zm4 0h-2v-4h2v4z\"/>\n",
              "    </g>\n",
              "</svg>\n",
              "  </button>\n",
              "\n",
              "<style>\n",
              "  .colab-df-quickchart {\n",
              "      --bg-color: #E8F0FE;\n",
              "      --fill-color: #1967D2;\n",
              "      --hover-bg-color: #E2EBFA;\n",
              "      --hover-fill-color: #174EA6;\n",
              "      --disabled-fill-color: #AAA;\n",
              "      --disabled-bg-color: #DDD;\n",
              "  }\n",
              "\n",
              "  [theme=dark] .colab-df-quickchart {\n",
              "      --bg-color: #3B4455;\n",
              "      --fill-color: #D2E3FC;\n",
              "      --hover-bg-color: #434B5C;\n",
              "      --hover-fill-color: #FFFFFF;\n",
              "      --disabled-bg-color: #3B4455;\n",
              "      --disabled-fill-color: #666;\n",
              "  }\n",
              "\n",
              "  .colab-df-quickchart {\n",
              "    background-color: var(--bg-color);\n",
              "    border: none;\n",
              "    border-radius: 50%;\n",
              "    cursor: pointer;\n",
              "    display: none;\n",
              "    fill: var(--fill-color);\n",
              "    height: 32px;\n",
              "    padding: 0;\n",
              "    width: 32px;\n",
              "  }\n",
              "\n",
              "  .colab-df-quickchart:hover {\n",
              "    background-color: var(--hover-bg-color);\n",
              "    box-shadow: 0 1px 2px rgba(60, 64, 67, 0.3), 0 1px 3px 1px rgba(60, 64, 67, 0.15);\n",
              "    fill: var(--button-hover-fill-color);\n",
              "  }\n",
              "\n",
              "  .colab-df-quickchart-complete:disabled,\n",
              "  .colab-df-quickchart-complete:disabled:hover {\n",
              "    background-color: var(--disabled-bg-color);\n",
              "    fill: var(--disabled-fill-color);\n",
              "    box-shadow: none;\n",
              "  }\n",
              "\n",
              "  .colab-df-spinner {\n",
              "    border: 2px solid var(--fill-color);\n",
              "    border-color: transparent;\n",
              "    border-bottom-color: var(--fill-color);\n",
              "    animation:\n",
              "      spin 1s steps(1) infinite;\n",
              "  }\n",
              "\n",
              "  @keyframes spin {\n",
              "    0% {\n",
              "      border-color: transparent;\n",
              "      border-bottom-color: var(--fill-color);\n",
              "      border-left-color: var(--fill-color);\n",
              "    }\n",
              "    20% {\n",
              "      border-color: transparent;\n",
              "      border-left-color: var(--fill-color);\n",
              "      border-top-color: var(--fill-color);\n",
              "    }\n",
              "    30% {\n",
              "      border-color: transparent;\n",
              "      border-left-color: var(--fill-color);\n",
              "      border-top-color: var(--fill-color);\n",
              "      border-right-color: var(--fill-color);\n",
              "    }\n",
              "    40% {\n",
              "      border-color: transparent;\n",
              "      border-right-color: var(--fill-color);\n",
              "      border-top-color: var(--fill-color);\n",
              "    }\n",
              "    60% {\n",
              "      border-color: transparent;\n",
              "      border-right-color: var(--fill-color);\n",
              "    }\n",
              "    80% {\n",
              "      border-color: transparent;\n",
              "      border-right-color: var(--fill-color);\n",
              "      border-bottom-color: var(--fill-color);\n",
              "    }\n",
              "    90% {\n",
              "      border-color: transparent;\n",
              "      border-bottom-color: var(--fill-color);\n",
              "    }\n",
              "  }\n",
              "</style>\n",
              "\n",
              "  <script>\n",
              "    async function quickchart(key) {\n",
              "      const quickchartButtonEl =\n",
              "        document.querySelector('#' + key + ' button');\n",
              "      quickchartButtonEl.disabled = true;  // To prevent multiple clicks.\n",
              "      quickchartButtonEl.classList.add('colab-df-spinner');\n",
              "      try {\n",
              "        const charts = await google.colab.kernel.invokeFunction(\n",
              "            'suggestCharts', [key], {});\n",
              "      } catch (error) {\n",
              "        console.error('Error during call to suggestCharts:', error);\n",
              "      }\n",
              "      quickchartButtonEl.classList.remove('colab-df-spinner');\n",
              "      quickchartButtonEl.classList.add('colab-df-quickchart-complete');\n",
              "    }\n",
              "    (() => {\n",
              "      let quickchartButtonEl =\n",
              "        document.querySelector('#df-76552166-6d87-4f7a-85f2-1cce03c722c9 button');\n",
              "      quickchartButtonEl.style.display =\n",
              "        google.colab.kernel.accessAllowed ? 'block' : 'none';\n",
              "    })();\n",
              "  </script>\n",
              "</div>\n",
              "\n",
              "    </div>\n",
              "  </div>\n"
            ],
            "application/vnd.google.colaboratory.intrinsic+json": {
              "type": "dataframe",
              "variable_name": "df",
              "summary": "{\n  \"name\": \"df\",\n  \"rows\": 9900,\n  \"fields\": [\n    {\n      \"column\": \"Text\",\n      \"properties\": {\n        \"dtype\": \"string\",\n        \"num_unique_values\": 9865,\n        \"samples\": [\n          \" ICYMI: SNL Skewers \\u201cMorning Joe\\u201d And It Is Hilarious This week s cold open for Saturday Night Live featured a parody of the morning show, Morning Joe. The sketch featured Alex Moffat as host Joe Scarborough and Kate McKinnon as Mika Mika Brzezinski. The sketch also has Alec Baldwin as President Donald Trump, who calls into the show as  John Miller,  a spokesperson for the White House. Back in the day, Trump was known for calling reporters all over the New York area pretending to be his own publicist. He would call, not to tout his business successes but to brag about his sex life.The sketch also made fun of the relationship between the hosts. The pair got engaged recently when they were celebrating Mika s 50th birthday. The sketch shows the response from the other panelists on the show, Mark Halperin, Willie Geist and Mike Barnacle, who all have no idea how to respond to Joe and Mika s behavior on the set.Featured image via Frederick M. Brown/Getty Images.\",\n          \" BOMBSHELL: Information Suggests Trump Associates DID Collude With Russia, According To Officials Wednesday was not a good day to be Donald Trump. In the aftermath of the disastrous Comey hearing where it was confirmed that The Donald s team was indeed being investigated   and of Rep. Nunes  decision to skip informing his fellow congressional Russia investigators of perfectly legal  incidental collection  of information about Trump associates and possibly the President* himself and run to The Donald with it instead   Trump has been flailing, attempting to distract from the whole Russia thing as much as possible.That s going to be very hard now, as U.S. officials have now confirmed that the facts suggest that members of his team were indeed working with the enemy. CNN reports:The FBI has information that indicates associates of President Donald Trump communicated with suspected Russian operatives to possibly coordinate the release of information damaging to Hillary Clinton s campaign, US officials told CNN.\",\n          \" Vladimir Putin Just Defended Trump In The WORST Way Possible (VIDEO) According to Russian dictator Vladimir Putin, it s silly to worry about little things like whether or not a couple of Russian ladies peed on Donald Trump s bed because it s much, much worse to publish memos that reveal these allegations.Putin says that there is a conspiracy to  delegitimize  the man and his team of hackers, fake news writers, and trolls he worked hard to install in the Oval Office by hacking Trump s political opponents and running an aggressive propaganda campaign. I don t know Mr. Trump, I have never met him, I don t know what he will do in the international arena, so I have no reason either to attack him, criticize him or defend him, Putin said at a press conference. Donald Trump has been with the most beautiful women in the world, so why would he need prostitutes in Moscow? To answer that question, we need only look to a 2001 edition of the Howard Stern Show in which Trump was reminded that he bragged that he likes to go to Russia to have sex with women because they  have no morals. Putin says that Russian security services  do not chase every US billionaire,  and that the release of the documents was worse than prostitutes. In a way, he s right, as the documents presented to both Trump and President Obama also allege that members of the President-elect s campaign staff directly worked with the Russian government during the campaign.On numerous occasions, Trump has repeated Russian propaganda while attacking U.S. intelligence agencies that have been exposing him for what he is and, of course, has directly quoted Putin (a man whom Trump says is  very smart ) while hurling barbs at Hillary Clinton.Trump and Putin have been screaming about the  fake news  release of actual documents that actual intelligence agencies are in possession of, but the BBC reported recently that the whole pissing Russian ladies thing is just the tip of the iceberg. Correspondent Paul Wood revealed last week that at least four sources have confirmed the information, with one U.S. intelligence source informing him that there is audio and video of The Donald s escapades, and an Israeli news source reports that the country s spies have been warned against sharing information with the United States for fear that Trump will relay it to Putin.Putin and Trump s bromance is disconcerting at best   especially when more than a baker s dozen intelligence agencies have confirmed that the man who stood up to join Trump in his attacks on our intelligence agencies has been confirmed to have interfered in our election.Watch it below:Featured image via Getty Images\"\n        ],\n        \"semantic_type\": \"\",\n        \"description\": \"\"\n      }\n    },\n    {\n      \"column\": \"label\",\n      \"properties\": {\n        \"dtype\": \"category\",\n        \"num_unique_values\": 2,\n        \"samples\": [\n          \"Real\",\n          \"Fake\"\n        ],\n        \"semantic_type\": \"\",\n        \"description\": \"\"\n      }\n    },\n    {\n      \"column\": \"label_num\",\n      \"properties\": {\n        \"dtype\": \"number\",\n        \"std\": 0,\n        \"min\": 0,\n        \"max\": 1,\n        \"num_unique_values\": 2,\n        \"samples\": [\n          1,\n          0\n        ],\n        \"semantic_type\": \"\",\n        \"description\": \"\"\n      }\n    }\n  ]\n}"
            }
          },
          "metadata": {},
          "execution_count": 11
        }
      ]
    },
    {
      "cell_type": "code",
      "source": [
        "df.label.value_counts()"
      ],
      "metadata": {
        "colab": {
          "base_uri": "https://localhost:8080/",
          "height": 178
        },
        "id": "LNPnsvQO3prt",
        "outputId": "dc146e1f-8819-42cf-95c7-13b1ff5a736d"
      },
      "execution_count": null,
      "outputs": [
        {
          "output_type": "execute_result",
          "data": {
            "text/plain": [
              "label\n",
              "Fake    5000\n",
              "Real    4900\n",
              "Name: count, dtype: int64"
            ],
            "text/html": [
              "<div>\n",
              "<style scoped>\n",
              "    .dataframe tbody tr th:only-of-type {\n",
              "        vertical-align: middle;\n",
              "    }\n",
              "\n",
              "    .dataframe tbody tr th {\n",
              "        vertical-align: top;\n",
              "    }\n",
              "\n",
              "    .dataframe thead th {\n",
              "        text-align: right;\n",
              "    }\n",
              "</style>\n",
              "<table border=\"1\" class=\"dataframe\">\n",
              "  <thead>\n",
              "    <tr style=\"text-align: right;\">\n",
              "      <th></th>\n",
              "      <th>count</th>\n",
              "    </tr>\n",
              "    <tr>\n",
              "      <th>label</th>\n",
              "      <th></th>\n",
              "    </tr>\n",
              "  </thead>\n",
              "  <tbody>\n",
              "    <tr>\n",
              "      <th>Fake</th>\n",
              "      <td>5000</td>\n",
              "    </tr>\n",
              "    <tr>\n",
              "      <th>Real</th>\n",
              "      <td>4900</td>\n",
              "    </tr>\n",
              "  </tbody>\n",
              "</table>\n",
              "</div><br><label><b>dtype:</b> int64</label>"
            ]
          },
          "metadata": {},
          "execution_count": 12
        }
      ]
    },
    {
      "cell_type": "code",
      "source": [
        "!python -m spacy download en_core_web_lg"
      ],
      "metadata": {
        "colab": {
          "base_uri": "https://localhost:8080/"
        },
        "collapsed": true,
        "id": "Jkcb5iua4YzN",
        "outputId": "58e7a383-b400-41fa-911f-2a38a515dee5"
      },
      "execution_count": null,
      "outputs": [
        {
          "output_type": "stream",
          "name": "stdout",
          "text": [
            "Collecting en-core-web-lg==3.7.1\n",
            "  Downloading https://github.com/explosion/spacy-models/releases/download/en_core_web_lg-3.7.1/en_core_web_lg-3.7.1-py3-none-any.whl (587.7 MB)\n",
            "\u001b[2K     \u001b[90m━━━━━━━━━━━━━━━━━━━━━━━━━━━━━━━━━━━━━━━━\u001b[0m \u001b[32m587.7/587.7 MB\u001b[0m \u001b[31m3.5 MB/s\u001b[0m eta \u001b[36m0:00:00\u001b[0m\n",
            "\u001b[?25hRequirement already satisfied: spacy<3.8.0,>=3.7.2 in /usr/local/lib/python3.10/dist-packages (from en-core-web-lg==3.7.1) (3.7.5)\n",
            "Requirement already satisfied: spacy-legacy<3.1.0,>=3.0.11 in /usr/local/lib/python3.10/dist-packages (from spacy<3.8.0,>=3.7.2->en-core-web-lg==3.7.1) (3.0.12)\n",
            "Requirement already satisfied: spacy-loggers<2.0.0,>=1.0.0 in /usr/local/lib/python3.10/dist-packages (from spacy<3.8.0,>=3.7.2->en-core-web-lg==3.7.1) (1.0.5)\n",
            "Requirement already satisfied: murmurhash<1.1.0,>=0.28.0 in /usr/local/lib/python3.10/dist-packages (from spacy<3.8.0,>=3.7.2->en-core-web-lg==3.7.1) (1.0.11)\n",
            "Requirement already satisfied: cymem<2.1.0,>=2.0.2 in /usr/local/lib/python3.10/dist-packages (from spacy<3.8.0,>=3.7.2->en-core-web-lg==3.7.1) (2.0.10)\n",
            "Requirement already satisfied: preshed<3.1.0,>=3.0.2 in /usr/local/lib/python3.10/dist-packages (from spacy<3.8.0,>=3.7.2->en-core-web-lg==3.7.1) (3.0.9)\n",
            "Requirement already satisfied: thinc<8.3.0,>=8.2.2 in /usr/local/lib/python3.10/dist-packages (from spacy<3.8.0,>=3.7.2->en-core-web-lg==3.7.1) (8.2.5)\n",
            "Requirement already satisfied: wasabi<1.2.0,>=0.9.1 in /usr/local/lib/python3.10/dist-packages (from spacy<3.8.0,>=3.7.2->en-core-web-lg==3.7.1) (1.1.3)\n",
            "Requirement already satisfied: srsly<3.0.0,>=2.4.3 in /usr/local/lib/python3.10/dist-packages (from spacy<3.8.0,>=3.7.2->en-core-web-lg==3.7.1) (2.5.0)\n",
            "Requirement already satisfied: catalogue<2.1.0,>=2.0.6 in /usr/local/lib/python3.10/dist-packages (from spacy<3.8.0,>=3.7.2->en-core-web-lg==3.7.1) (2.0.10)\n",
            "Requirement already satisfied: weasel<0.5.0,>=0.1.0 in /usr/local/lib/python3.10/dist-packages (from spacy<3.8.0,>=3.7.2->en-core-web-lg==3.7.1) (0.4.1)\n",
            "Requirement already satisfied: typer<1.0.0,>=0.3.0 in /usr/local/lib/python3.10/dist-packages (from spacy<3.8.0,>=3.7.2->en-core-web-lg==3.7.1) (0.15.1)\n",
            "Requirement already satisfied: tqdm<5.0.0,>=4.38.0 in /usr/local/lib/python3.10/dist-packages (from spacy<3.8.0,>=3.7.2->en-core-web-lg==3.7.1) (4.67.1)\n",
            "Requirement already satisfied: requests<3.0.0,>=2.13.0 in /usr/local/lib/python3.10/dist-packages (from spacy<3.8.0,>=3.7.2->en-core-web-lg==3.7.1) (2.32.3)\n",
            "Requirement already satisfied: pydantic!=1.8,!=1.8.1,<3.0.0,>=1.7.4 in /usr/local/lib/python3.10/dist-packages (from spacy<3.8.0,>=3.7.2->en-core-web-lg==3.7.1) (2.10.3)\n",
            "Requirement already satisfied: jinja2 in /usr/local/lib/python3.10/dist-packages (from spacy<3.8.0,>=3.7.2->en-core-web-lg==3.7.1) (3.1.4)\n",
            "Requirement already satisfied: setuptools in /usr/local/lib/python3.10/dist-packages (from spacy<3.8.0,>=3.7.2->en-core-web-lg==3.7.1) (75.1.0)\n",
            "Requirement already satisfied: packaging>=20.0 in /usr/local/lib/python3.10/dist-packages (from spacy<3.8.0,>=3.7.2->en-core-web-lg==3.7.1) (24.2)\n",
            "Requirement already satisfied: langcodes<4.0.0,>=3.2.0 in /usr/local/lib/python3.10/dist-packages (from spacy<3.8.0,>=3.7.2->en-core-web-lg==3.7.1) (3.5.0)\n",
            "Requirement already satisfied: numpy>=1.19.0 in /usr/local/lib/python3.10/dist-packages (from spacy<3.8.0,>=3.7.2->en-core-web-lg==3.7.1) (1.26.4)\n",
            "Requirement already satisfied: language-data>=1.2 in /usr/local/lib/python3.10/dist-packages (from langcodes<4.0.0,>=3.2.0->spacy<3.8.0,>=3.7.2->en-core-web-lg==3.7.1) (1.3.0)\n",
            "Requirement already satisfied: annotated-types>=0.6.0 in /usr/local/lib/python3.10/dist-packages (from pydantic!=1.8,!=1.8.1,<3.0.0,>=1.7.4->spacy<3.8.0,>=3.7.2->en-core-web-lg==3.7.1) (0.7.0)\n",
            "Requirement already satisfied: pydantic-core==2.27.1 in /usr/local/lib/python3.10/dist-packages (from pydantic!=1.8,!=1.8.1,<3.0.0,>=1.7.4->spacy<3.8.0,>=3.7.2->en-core-web-lg==3.7.1) (2.27.1)\n",
            "Requirement already satisfied: typing-extensions>=4.12.2 in /usr/local/lib/python3.10/dist-packages (from pydantic!=1.8,!=1.8.1,<3.0.0,>=1.7.4->spacy<3.8.0,>=3.7.2->en-core-web-lg==3.7.1) (4.12.2)\n",
            "Requirement already satisfied: charset-normalizer<4,>=2 in /usr/local/lib/python3.10/dist-packages (from requests<3.0.0,>=2.13.0->spacy<3.8.0,>=3.7.2->en-core-web-lg==3.7.1) (3.4.0)\n",
            "Requirement already satisfied: idna<4,>=2.5 in /usr/local/lib/python3.10/dist-packages (from requests<3.0.0,>=2.13.0->spacy<3.8.0,>=3.7.2->en-core-web-lg==3.7.1) (3.10)\n",
            "Requirement already satisfied: urllib3<3,>=1.21.1 in /usr/local/lib/python3.10/dist-packages (from requests<3.0.0,>=2.13.0->spacy<3.8.0,>=3.7.2->en-core-web-lg==3.7.1) (2.2.3)\n",
            "Requirement already satisfied: certifi>=2017.4.17 in /usr/local/lib/python3.10/dist-packages (from requests<3.0.0,>=2.13.0->spacy<3.8.0,>=3.7.2->en-core-web-lg==3.7.1) (2024.12.14)\n",
            "Requirement already satisfied: blis<0.8.0,>=0.7.8 in /usr/local/lib/python3.10/dist-packages (from thinc<8.3.0,>=8.2.2->spacy<3.8.0,>=3.7.2->en-core-web-lg==3.7.1) (0.7.11)\n",
            "Requirement already satisfied: confection<1.0.0,>=0.0.1 in /usr/local/lib/python3.10/dist-packages (from thinc<8.3.0,>=8.2.2->spacy<3.8.0,>=3.7.2->en-core-web-lg==3.7.1) (0.1.5)\n",
            "Requirement already satisfied: click>=8.0.0 in /usr/local/lib/python3.10/dist-packages (from typer<1.0.0,>=0.3.0->spacy<3.8.0,>=3.7.2->en-core-web-lg==3.7.1) (8.1.7)\n",
            "Requirement already satisfied: shellingham>=1.3.0 in /usr/local/lib/python3.10/dist-packages (from typer<1.0.0,>=0.3.0->spacy<3.8.0,>=3.7.2->en-core-web-lg==3.7.1) (1.5.4)\n",
            "Requirement already satisfied: rich>=10.11.0 in /usr/local/lib/python3.10/dist-packages (from typer<1.0.0,>=0.3.0->spacy<3.8.0,>=3.7.2->en-core-web-lg==3.7.1) (13.9.4)\n",
            "Requirement already satisfied: cloudpathlib<1.0.0,>=0.7.0 in /usr/local/lib/python3.10/dist-packages (from weasel<0.5.0,>=0.1.0->spacy<3.8.0,>=3.7.2->en-core-web-lg==3.7.1) (0.20.0)\n",
            "Requirement already satisfied: smart-open<8.0.0,>=5.2.1 in /usr/local/lib/python3.10/dist-packages (from weasel<0.5.0,>=0.1.0->spacy<3.8.0,>=3.7.2->en-core-web-lg==3.7.1) (7.0.5)\n",
            "Requirement already satisfied: MarkupSafe>=2.0 in /usr/local/lib/python3.10/dist-packages (from jinja2->spacy<3.8.0,>=3.7.2->en-core-web-lg==3.7.1) (3.0.2)\n",
            "Requirement already satisfied: marisa-trie>=1.1.0 in /usr/local/lib/python3.10/dist-packages (from language-data>=1.2->langcodes<4.0.0,>=3.2.0->spacy<3.8.0,>=3.7.2->en-core-web-lg==3.7.1) (1.2.1)\n",
            "Requirement already satisfied: markdown-it-py>=2.2.0 in /usr/local/lib/python3.10/dist-packages (from rich>=10.11.0->typer<1.0.0,>=0.3.0->spacy<3.8.0,>=3.7.2->en-core-web-lg==3.7.1) (3.0.0)\n",
            "Requirement already satisfied: pygments<3.0.0,>=2.13.0 in /usr/local/lib/python3.10/dist-packages (from rich>=10.11.0->typer<1.0.0,>=0.3.0->spacy<3.8.0,>=3.7.2->en-core-web-lg==3.7.1) (2.18.0)\n",
            "Requirement already satisfied: wrapt in /usr/local/lib/python3.10/dist-packages (from smart-open<8.0.0,>=5.2.1->weasel<0.5.0,>=0.1.0->spacy<3.8.0,>=3.7.2->en-core-web-lg==3.7.1) (1.17.0)\n",
            "Requirement already satisfied: mdurl~=0.1 in /usr/local/lib/python3.10/dist-packages (from markdown-it-py>=2.2.0->rich>=10.11.0->typer<1.0.0,>=0.3.0->spacy<3.8.0,>=3.7.2->en-core-web-lg==3.7.1) (0.1.2)\n",
            "Installing collected packages: en-core-web-lg\n",
            "Successfully installed en-core-web-lg-3.7.1\n",
            "\u001b[38;5;2m✔ Download and installation successful\u001b[0m\n",
            "You can now load the package via spacy.load('en_core_web_lg')\n",
            "\u001b[38;5;3m⚠ Restart to reload dependencies\u001b[0m\n",
            "If you are in a Jupyter or Colab notebook, you may need to restart Python in\n",
            "order to load all the package's dependencies. You can do this by selecting the\n",
            "'Restart kernel' or 'Restart runtime' option.\n"
          ]
        }
      ]
    },
    {
      "cell_type": "markdown",
      "source": [
        "**Sentence Embedding**  \n",
        "A sentence embedding is a vector representation of an entire sentence or phrase in a continuous vector space. It captures the meaning of the sentence as a whole.\n",
        "\n",
        "*for example:* Consider the sentence `Don't worry if you don't understand.`  \n",
        "\n",
        "*Step-1:* After performing `preprocessing` and `lemmatization`, we will get ['worry', 'understand'] in a list.  \n",
        "*Step-2:* We will vectorize each word in the list individually (`word embedding`) then take the average of all to create `sentence embedding`.\n",
        "\n"
      ],
      "metadata": {
        "id": "MEW9egsf5z8R"
      }
    },
    {
      "cell_type": "code",
      "source": [
        "# removing stop words and performing lemmatization and then vectorization\n",
        "import spacy\n",
        "\n",
        "nlp = spacy.load('en_core_web_lg')\n",
        "\n",
        "def preprocess_and_vectorize(text):\n",
        "  doc = nlp(text)\n",
        "  filtered_tokens = []\n",
        "  for token in doc:\n",
        "    if token.is_stop or token.is_punct:\n",
        "      continue\n",
        "\n",
        "    filtered_tokens.append(token.lemma_)\n",
        "\n",
        "  return wv.get_mean_vector(filtered_tokens) # sentence embedding\n",
        "\n"
      ],
      "metadata": {
        "id": "zS-jdggR3wpL"
      },
      "execution_count": null,
      "outputs": []
    },
    {
      "cell_type": "code",
      "source": [
        "preprocess_and_vectorize(\"Don't worry if you don't understand\").shape"
      ],
      "metadata": {
        "colab": {
          "base_uri": "https://localhost:8080/"
        },
        "id": "P0QIHY8G4rVm",
        "outputId": "e2d92be4-640d-4fc5-84bd-21c378f15921"
      },
      "execution_count": null,
      "outputs": [
        {
          "output_type": "execute_result",
          "data": {
            "text/plain": [
              "(300,)"
            ]
          },
          "metadata": {},
          "execution_count": 17
        }
      ]
    },
    {
      "cell_type": "code",
      "source": [
        "# creating a column to store the vectorize form of text in dataframe\n",
        "df['vector'] = df['Text'].apply(lambda text: preprocess_and_vectorize(text))"
      ],
      "metadata": {
        "id": "c0PRChh182Io"
      },
      "execution_count": null,
      "outputs": []
    },
    {
      "cell_type": "code",
      "source": [
        "df.head()"
      ],
      "metadata": {
        "colab": {
          "base_uri": "https://localhost:8080/",
          "height": 206
        },
        "id": "DQbgdm929hVa",
        "outputId": "96db7e7b-4e24-4e38-e42e-0c2cfe0863f6"
      },
      "execution_count": null,
      "outputs": [
        {
          "output_type": "execute_result",
          "data": {
            "text/plain": [
              "                                                Text label  label_num  \\\n",
              "0   Top Trump Surrogate BRUTALLY Stabs Him In The...  Fake          0   \n",
              "1  U.S. conservative leader optimistic of common ...  Real          1   \n",
              "2  Trump proposes U.S. tax overhaul, stirs concer...  Real          1   \n",
              "3   Court Forces Ohio To Allow Millions Of Illega...  Fake          0   \n",
              "4  Democrats say Trump agrees to work on immigrat...  Real          1   \n",
              "\n",
              "                                              vector  \n",
              "0  [0.008657642, 0.019024342, -0.011917442, 0.032...  \n",
              "1  [0.010864096, 0.007960429, 0.0011915653, 0.014...  \n",
              "2  [0.018134918, 0.0062743523, -0.005872244, 0.03...  \n",
              "3  [0.01255197, 0.012613623, 5.9780963e-05, 0.021...  \n",
              "4  [-0.0019059887, 0.011889367, 0.0035395357, 0.0...  "
            ],
            "text/html": [
              "\n",
              "  <div id=\"df-31d93e6f-a5c1-42ad-b317-b2703f3745fa\" class=\"colab-df-container\">\n",
              "    <div>\n",
              "<style scoped>\n",
              "    .dataframe tbody tr th:only-of-type {\n",
              "        vertical-align: middle;\n",
              "    }\n",
              "\n",
              "    .dataframe tbody tr th {\n",
              "        vertical-align: top;\n",
              "    }\n",
              "\n",
              "    .dataframe thead th {\n",
              "        text-align: right;\n",
              "    }\n",
              "</style>\n",
              "<table border=\"1\" class=\"dataframe\">\n",
              "  <thead>\n",
              "    <tr style=\"text-align: right;\">\n",
              "      <th></th>\n",
              "      <th>Text</th>\n",
              "      <th>label</th>\n",
              "      <th>label_num</th>\n",
              "      <th>vector</th>\n",
              "    </tr>\n",
              "  </thead>\n",
              "  <tbody>\n",
              "    <tr>\n",
              "      <th>0</th>\n",
              "      <td>Top Trump Surrogate BRUTALLY Stabs Him In The...</td>\n",
              "      <td>Fake</td>\n",
              "      <td>0</td>\n",
              "      <td>[0.008657642, 0.019024342, -0.011917442, 0.032...</td>\n",
              "    </tr>\n",
              "    <tr>\n",
              "      <th>1</th>\n",
              "      <td>U.S. conservative leader optimistic of common ...</td>\n",
              "      <td>Real</td>\n",
              "      <td>1</td>\n",
              "      <td>[0.010864096, 0.007960429, 0.0011915653, 0.014...</td>\n",
              "    </tr>\n",
              "    <tr>\n",
              "      <th>2</th>\n",
              "      <td>Trump proposes U.S. tax overhaul, stirs concer...</td>\n",
              "      <td>Real</td>\n",
              "      <td>1</td>\n",
              "      <td>[0.018134918, 0.0062743523, -0.005872244, 0.03...</td>\n",
              "    </tr>\n",
              "    <tr>\n",
              "      <th>3</th>\n",
              "      <td>Court Forces Ohio To Allow Millions Of Illega...</td>\n",
              "      <td>Fake</td>\n",
              "      <td>0</td>\n",
              "      <td>[0.01255197, 0.012613623, 5.9780963e-05, 0.021...</td>\n",
              "    </tr>\n",
              "    <tr>\n",
              "      <th>4</th>\n",
              "      <td>Democrats say Trump agrees to work on immigrat...</td>\n",
              "      <td>Real</td>\n",
              "      <td>1</td>\n",
              "      <td>[-0.0019059887, 0.011889367, 0.0035395357, 0.0...</td>\n",
              "    </tr>\n",
              "  </tbody>\n",
              "</table>\n",
              "</div>\n",
              "    <div class=\"colab-df-buttons\">\n",
              "\n",
              "  <div class=\"colab-df-container\">\n",
              "    <button class=\"colab-df-convert\" onclick=\"convertToInteractive('df-31d93e6f-a5c1-42ad-b317-b2703f3745fa')\"\n",
              "            title=\"Convert this dataframe to an interactive table.\"\n",
              "            style=\"display:none;\">\n",
              "\n",
              "  <svg xmlns=\"http://www.w3.org/2000/svg\" height=\"24px\" viewBox=\"0 -960 960 960\">\n",
              "    <path d=\"M120-120v-720h720v720H120Zm60-500h600v-160H180v160Zm220 220h160v-160H400v160Zm0 220h160v-160H400v160ZM180-400h160v-160H180v160Zm440 0h160v-160H620v160ZM180-180h160v-160H180v160Zm440 0h160v-160H620v160Z\"/>\n",
              "  </svg>\n",
              "    </button>\n",
              "\n",
              "  <style>\n",
              "    .colab-df-container {\n",
              "      display:flex;\n",
              "      gap: 12px;\n",
              "    }\n",
              "\n",
              "    .colab-df-convert {\n",
              "      background-color: #E8F0FE;\n",
              "      border: none;\n",
              "      border-radius: 50%;\n",
              "      cursor: pointer;\n",
              "      display: none;\n",
              "      fill: #1967D2;\n",
              "      height: 32px;\n",
              "      padding: 0 0 0 0;\n",
              "      width: 32px;\n",
              "    }\n",
              "\n",
              "    .colab-df-convert:hover {\n",
              "      background-color: #E2EBFA;\n",
              "      box-shadow: 0px 1px 2px rgba(60, 64, 67, 0.3), 0px 1px 3px 1px rgba(60, 64, 67, 0.15);\n",
              "      fill: #174EA6;\n",
              "    }\n",
              "\n",
              "    .colab-df-buttons div {\n",
              "      margin-bottom: 4px;\n",
              "    }\n",
              "\n",
              "    [theme=dark] .colab-df-convert {\n",
              "      background-color: #3B4455;\n",
              "      fill: #D2E3FC;\n",
              "    }\n",
              "\n",
              "    [theme=dark] .colab-df-convert:hover {\n",
              "      background-color: #434B5C;\n",
              "      box-shadow: 0px 1px 3px 1px rgba(0, 0, 0, 0.15);\n",
              "      filter: drop-shadow(0px 1px 2px rgba(0, 0, 0, 0.3));\n",
              "      fill: #FFFFFF;\n",
              "    }\n",
              "  </style>\n",
              "\n",
              "    <script>\n",
              "      const buttonEl =\n",
              "        document.querySelector('#df-31d93e6f-a5c1-42ad-b317-b2703f3745fa button.colab-df-convert');\n",
              "      buttonEl.style.display =\n",
              "        google.colab.kernel.accessAllowed ? 'block' : 'none';\n",
              "\n",
              "      async function convertToInteractive(key) {\n",
              "        const element = document.querySelector('#df-31d93e6f-a5c1-42ad-b317-b2703f3745fa');\n",
              "        const dataTable =\n",
              "          await google.colab.kernel.invokeFunction('convertToInteractive',\n",
              "                                                    [key], {});\n",
              "        if (!dataTable) return;\n",
              "\n",
              "        const docLinkHtml = 'Like what you see? Visit the ' +\n",
              "          '<a target=\"_blank\" href=https://colab.research.google.com/notebooks/data_table.ipynb>data table notebook</a>'\n",
              "          + ' to learn more about interactive tables.';\n",
              "        element.innerHTML = '';\n",
              "        dataTable['output_type'] = 'display_data';\n",
              "        await google.colab.output.renderOutput(dataTable, element);\n",
              "        const docLink = document.createElement('div');\n",
              "        docLink.innerHTML = docLinkHtml;\n",
              "        element.appendChild(docLink);\n",
              "      }\n",
              "    </script>\n",
              "  </div>\n",
              "\n",
              "\n",
              "<div id=\"df-0e9e2052-619c-4edf-bf41-eb47f22804f7\">\n",
              "  <button class=\"colab-df-quickchart\" onclick=\"quickchart('df-0e9e2052-619c-4edf-bf41-eb47f22804f7')\"\n",
              "            title=\"Suggest charts\"\n",
              "            style=\"display:none;\">\n",
              "\n",
              "<svg xmlns=\"http://www.w3.org/2000/svg\" height=\"24px\"viewBox=\"0 0 24 24\"\n",
              "     width=\"24px\">\n",
              "    <g>\n",
              "        <path d=\"M19 3H5c-1.1 0-2 .9-2 2v14c0 1.1.9 2 2 2h14c1.1 0 2-.9 2-2V5c0-1.1-.9-2-2-2zM9 17H7v-7h2v7zm4 0h-2V7h2v10zm4 0h-2v-4h2v4z\"/>\n",
              "    </g>\n",
              "</svg>\n",
              "  </button>\n",
              "\n",
              "<style>\n",
              "  .colab-df-quickchart {\n",
              "      --bg-color: #E8F0FE;\n",
              "      --fill-color: #1967D2;\n",
              "      --hover-bg-color: #E2EBFA;\n",
              "      --hover-fill-color: #174EA6;\n",
              "      --disabled-fill-color: #AAA;\n",
              "      --disabled-bg-color: #DDD;\n",
              "  }\n",
              "\n",
              "  [theme=dark] .colab-df-quickchart {\n",
              "      --bg-color: #3B4455;\n",
              "      --fill-color: #D2E3FC;\n",
              "      --hover-bg-color: #434B5C;\n",
              "      --hover-fill-color: #FFFFFF;\n",
              "      --disabled-bg-color: #3B4455;\n",
              "      --disabled-fill-color: #666;\n",
              "  }\n",
              "\n",
              "  .colab-df-quickchart {\n",
              "    background-color: var(--bg-color);\n",
              "    border: none;\n",
              "    border-radius: 50%;\n",
              "    cursor: pointer;\n",
              "    display: none;\n",
              "    fill: var(--fill-color);\n",
              "    height: 32px;\n",
              "    padding: 0;\n",
              "    width: 32px;\n",
              "  }\n",
              "\n",
              "  .colab-df-quickchart:hover {\n",
              "    background-color: var(--hover-bg-color);\n",
              "    box-shadow: 0 1px 2px rgba(60, 64, 67, 0.3), 0 1px 3px 1px rgba(60, 64, 67, 0.15);\n",
              "    fill: var(--button-hover-fill-color);\n",
              "  }\n",
              "\n",
              "  .colab-df-quickchart-complete:disabled,\n",
              "  .colab-df-quickchart-complete:disabled:hover {\n",
              "    background-color: var(--disabled-bg-color);\n",
              "    fill: var(--disabled-fill-color);\n",
              "    box-shadow: none;\n",
              "  }\n",
              "\n",
              "  .colab-df-spinner {\n",
              "    border: 2px solid var(--fill-color);\n",
              "    border-color: transparent;\n",
              "    border-bottom-color: var(--fill-color);\n",
              "    animation:\n",
              "      spin 1s steps(1) infinite;\n",
              "  }\n",
              "\n",
              "  @keyframes spin {\n",
              "    0% {\n",
              "      border-color: transparent;\n",
              "      border-bottom-color: var(--fill-color);\n",
              "      border-left-color: var(--fill-color);\n",
              "    }\n",
              "    20% {\n",
              "      border-color: transparent;\n",
              "      border-left-color: var(--fill-color);\n",
              "      border-top-color: var(--fill-color);\n",
              "    }\n",
              "    30% {\n",
              "      border-color: transparent;\n",
              "      border-left-color: var(--fill-color);\n",
              "      border-top-color: var(--fill-color);\n",
              "      border-right-color: var(--fill-color);\n",
              "    }\n",
              "    40% {\n",
              "      border-color: transparent;\n",
              "      border-right-color: var(--fill-color);\n",
              "      border-top-color: var(--fill-color);\n",
              "    }\n",
              "    60% {\n",
              "      border-color: transparent;\n",
              "      border-right-color: var(--fill-color);\n",
              "    }\n",
              "    80% {\n",
              "      border-color: transparent;\n",
              "      border-right-color: var(--fill-color);\n",
              "      border-bottom-color: var(--fill-color);\n",
              "    }\n",
              "    90% {\n",
              "      border-color: transparent;\n",
              "      border-bottom-color: var(--fill-color);\n",
              "    }\n",
              "  }\n",
              "</style>\n",
              "\n",
              "  <script>\n",
              "    async function quickchart(key) {\n",
              "      const quickchartButtonEl =\n",
              "        document.querySelector('#' + key + ' button');\n",
              "      quickchartButtonEl.disabled = true;  // To prevent multiple clicks.\n",
              "      quickchartButtonEl.classList.add('colab-df-spinner');\n",
              "      try {\n",
              "        const charts = await google.colab.kernel.invokeFunction(\n",
              "            'suggestCharts', [key], {});\n",
              "      } catch (error) {\n",
              "        console.error('Error during call to suggestCharts:', error);\n",
              "      }\n",
              "      quickchartButtonEl.classList.remove('colab-df-spinner');\n",
              "      quickchartButtonEl.classList.add('colab-df-quickchart-complete');\n",
              "    }\n",
              "    (() => {\n",
              "      let quickchartButtonEl =\n",
              "        document.querySelector('#df-0e9e2052-619c-4edf-bf41-eb47f22804f7 button');\n",
              "      quickchartButtonEl.style.display =\n",
              "        google.colab.kernel.accessAllowed ? 'block' : 'none';\n",
              "    })();\n",
              "  </script>\n",
              "</div>\n",
              "\n",
              "    </div>\n",
              "  </div>\n"
            ],
            "application/vnd.google.colaboratory.intrinsic+json": {
              "type": "dataframe",
              "variable_name": "df",
              "summary": "{\n  \"name\": \"df\",\n  \"rows\": 9900,\n  \"fields\": [\n    {\n      \"column\": \"Text\",\n      \"properties\": {\n        \"dtype\": \"string\",\n        \"num_unique_values\": 9865,\n        \"samples\": [\n          \" ICYMI: SNL Skewers \\u201cMorning Joe\\u201d And It Is Hilarious This week s cold open for Saturday Night Live featured a parody of the morning show, Morning Joe. The sketch featured Alex Moffat as host Joe Scarborough and Kate McKinnon as Mika Mika Brzezinski. The sketch also has Alec Baldwin as President Donald Trump, who calls into the show as  John Miller,  a spokesperson for the White House. Back in the day, Trump was known for calling reporters all over the New York area pretending to be his own publicist. He would call, not to tout his business successes but to brag about his sex life.The sketch also made fun of the relationship between the hosts. The pair got engaged recently when they were celebrating Mika s 50th birthday. The sketch shows the response from the other panelists on the show, Mark Halperin, Willie Geist and Mike Barnacle, who all have no idea how to respond to Joe and Mika s behavior on the set.Featured image via Frederick M. Brown/Getty Images.\",\n          \" BOMBSHELL: Information Suggests Trump Associates DID Collude With Russia, According To Officials Wednesday was not a good day to be Donald Trump. In the aftermath of the disastrous Comey hearing where it was confirmed that The Donald s team was indeed being investigated   and of Rep. Nunes  decision to skip informing his fellow congressional Russia investigators of perfectly legal  incidental collection  of information about Trump associates and possibly the President* himself and run to The Donald with it instead   Trump has been flailing, attempting to distract from the whole Russia thing as much as possible.That s going to be very hard now, as U.S. officials have now confirmed that the facts suggest that members of his team were indeed working with the enemy. CNN reports:The FBI has information that indicates associates of President Donald Trump communicated with suspected Russian operatives to possibly coordinate the release of information damaging to Hillary Clinton s campaign, US officials told CNN.\",\n          \" Vladimir Putin Just Defended Trump In The WORST Way Possible (VIDEO) According to Russian dictator Vladimir Putin, it s silly to worry about little things like whether or not a couple of Russian ladies peed on Donald Trump s bed because it s much, much worse to publish memos that reveal these allegations.Putin says that there is a conspiracy to  delegitimize  the man and his team of hackers, fake news writers, and trolls he worked hard to install in the Oval Office by hacking Trump s political opponents and running an aggressive propaganda campaign. I don t know Mr. Trump, I have never met him, I don t know what he will do in the international arena, so I have no reason either to attack him, criticize him or defend him, Putin said at a press conference. Donald Trump has been with the most beautiful women in the world, so why would he need prostitutes in Moscow? To answer that question, we need only look to a 2001 edition of the Howard Stern Show in which Trump was reminded that he bragged that he likes to go to Russia to have sex with women because they  have no morals. Putin says that Russian security services  do not chase every US billionaire,  and that the release of the documents was worse than prostitutes. In a way, he s right, as the documents presented to both Trump and President Obama also allege that members of the President-elect s campaign staff directly worked with the Russian government during the campaign.On numerous occasions, Trump has repeated Russian propaganda while attacking U.S. intelligence agencies that have been exposing him for what he is and, of course, has directly quoted Putin (a man whom Trump says is  very smart ) while hurling barbs at Hillary Clinton.Trump and Putin have been screaming about the  fake news  release of actual documents that actual intelligence agencies are in possession of, but the BBC reported recently that the whole pissing Russian ladies thing is just the tip of the iceberg. Correspondent Paul Wood revealed last week that at least four sources have confirmed the information, with one U.S. intelligence source informing him that there is audio and video of The Donald s escapades, and an Israeli news source reports that the country s spies have been warned against sharing information with the United States for fear that Trump will relay it to Putin.Putin and Trump s bromance is disconcerting at best   especially when more than a baker s dozen intelligence agencies have confirmed that the man who stood up to join Trump in his attacks on our intelligence agencies has been confirmed to have interfered in our election.Watch it below:Featured image via Getty Images\"\n        ],\n        \"semantic_type\": \"\",\n        \"description\": \"\"\n      }\n    },\n    {\n      \"column\": \"label\",\n      \"properties\": {\n        \"dtype\": \"category\",\n        \"num_unique_values\": 2,\n        \"samples\": [\n          \"Real\",\n          \"Fake\"\n        ],\n        \"semantic_type\": \"\",\n        \"description\": \"\"\n      }\n    },\n    {\n      \"column\": \"label_num\",\n      \"properties\": {\n        \"dtype\": \"number\",\n        \"std\": 0,\n        \"min\": 0,\n        \"max\": 1,\n        \"num_unique_values\": 2,\n        \"samples\": [\n          1,\n          0\n        ],\n        \"semantic_type\": \"\",\n        \"description\": \"\"\n      }\n    },\n    {\n      \"column\": \"vector\",\n      \"properties\": {\n        \"dtype\": \"object\",\n        \"semantic_type\": \"\",\n        \"description\": \"\"\n      }\n    }\n  ]\n}"
            }
          },
          "metadata": {},
          "execution_count": 19
        }
      ]
    },
    {
      "cell_type": "code",
      "source": [
        "# splitting the data into training and test set\n",
        "from sklearn.model_selection import train_test_split\n",
        "\n",
        "X_train, X_test, y_train, y_test = train_test_split(\n",
        "    df['vector'].values,\n",
        "    df['label_num'],\n",
        "    test_size=0.2,\n",
        "    random_state=2022,\n",
        "    stratify=df['label_num']\n",
        ")"
      ],
      "metadata": {
        "id": "vY4YxPmS_EH-"
      },
      "execution_count": null,
      "outputs": []
    },
    {
      "cell_type": "code",
      "source": [
        "X_train[:2]"
      ],
      "metadata": {
        "colab": {
          "base_uri": "https://localhost:8080/"
        },
        "collapsed": true,
        "id": "AWiRj-56Cx6d",
        "outputId": "6297c246-2038-4c8b-8aa2-cfba6974b1dc"
      },
      "execution_count": null,
      "outputs": [
        {
          "output_type": "execute_result",
          "data": {
            "text/plain": [
              "array([array([-2.58219568e-03,  6.66544260e-03,  2.52646767e-03,  3.95730063e-02,\n",
              "              -1.41182542e-02, -7.22123589e-03,  3.15938070e-02, -3.18326391e-02,\n",
              "               1.62770562e-02,  2.15391051e-02, -2.36972049e-02, -3.72144543e-02,\n",
              "              -6.70092739e-03,  1.64224133e-02, -2.48180293e-02,  4.60469536e-02,\n",
              "               6.02065027e-03,  2.53213309e-02,  4.08343738e-03, -3.32745500e-02,\n",
              "               6.01468608e-03,  1.92604307e-02,  4.28487025e-02, -2.15403945e-03,\n",
              "               2.04510838e-02,  3.04712215e-03, -2.73784697e-02, -1.53319014e-03,\n",
              "               6.67838380e-03, -3.27401888e-03, -1.53824072e-02,  9.19036320e-05,\n",
              "              -2.74383668e-02, -3.54807038e-04, -1.12002371e-02, -1.66487973e-02,\n",
              "               1.40579836e-02,  2.69189221e-03, -4.44610231e-03,  3.41382883e-02,\n",
              "               5.02199680e-03, -1.35964267e-02,  4.29993980e-02,  1.10096289e-02,\n",
              "              -5.67582203e-03, -1.63680799e-02, -2.08231565e-02,  8.67405720e-03,\n",
              "              -1.27506657e-02,  3.22506502e-02, -1.29026920e-02,  2.64204424e-02,\n",
              "              -4.90747951e-03, -4.95679071e-03,  3.24445846e-03,  5.05160249e-04,\n",
              "              -1.06441928e-02, -2.69884747e-02, -9.40681156e-03, -3.02510597e-02,\n",
              "               6.06752140e-03,  2.97850110e-02, -2.75506414e-02, -1.17566157e-03,\n",
              "               1.70167554e-02, -1.53231900e-02, -2.12831516e-02, -6.69188192e-03,\n",
              "              -3.28447693e-03,  2.26514768e-02,  1.15149254e-02,  1.44865084e-03,\n",
              "               2.79989429e-02,  2.49321526e-03, -2.24706046e-02, -2.50821244e-02,\n",
              "               9.00601223e-03,  1.73658188e-02,  2.09767334e-02,  3.03668417e-02,\n",
              "              -1.38382493e-02, -2.01829318e-02,  1.25048012e-02, -5.96598722e-03,\n",
              "              -9.37698036e-03, -2.76826620e-02, -3.20913680e-02,  5.39542213e-02,\n",
              "               1.66598021e-03,  4.34976909e-03,  5.92936715e-03, -1.17840115e-02,\n",
              "              -4.50106449e-02, -2.10491549e-02, -7.83731975e-03, -3.38384211e-02,\n",
              "               1.77004468e-02,  1.65641699e-02,  1.81579106e-02, -1.59047600e-02,\n",
              "              -1.97536778e-02, -1.95956491e-02,  3.34207085e-03,  5.66034287e-04,\n",
              "              -1.82805564e-02, -5.11482451e-03,  1.91473309e-03, -2.90830061e-02,\n",
              "              -4.02855873e-03, -1.70079172e-02, -2.80600488e-02, -2.30379254e-02,\n",
              "               3.85570107e-03, -4.13628295e-03,  3.18104029e-02, -7.97387213e-03,\n",
              "               2.08447948e-02, -2.53612529e-02,  2.59634871e-02,  9.27834585e-03,\n",
              "              -2.49574985e-02, -1.68696162e-03, -1.31695597e-02,  3.27412300e-02,\n",
              "              -9.09329578e-03, -9.97136813e-03, -1.87872127e-02, -1.40376640e-02,\n",
              "               2.25356244e-03,  1.18356198e-02, -1.46980733e-02, -1.03703476e-02,\n",
              "              -9.65756085e-03,  2.03495752e-03, -1.37474597e-03,  6.44901593e-04,\n",
              "               8.42744485e-04,  9.56854783e-03,  1.62692107e-02,  2.09762473e-02,\n",
              "               1.75422449e-02, -3.16296630e-02,  5.90677382e-06, -2.29953676e-02,\n",
              "               6.40219403e-03,  1.87074654e-02, -9.91857960e-04, -1.86910927e-02,\n",
              "              -2.17829552e-02, -9.49366670e-03,  2.86281612e-02,  3.71174840e-03,\n",
              "              -1.77340824e-02,  9.86514892e-03, -9.20616928e-03, -1.98866650e-02,\n",
              "              -1.91071425e-02, -2.04391424e-02, -3.09219416e-02, -1.72982889e-03,\n",
              "              -1.07584614e-02,  1.39104780e-02,  2.45051328e-02,  3.70833022e-03,\n",
              "               2.79449136e-03, -3.55861522e-02,  3.36412825e-02, -2.76993625e-02,\n",
              "               1.65360924e-02,  1.39565663e-02, -4.55296002e-02, -1.55951101e-02,\n",
              "               3.87999811e-03, -3.82097885e-02, -2.24316940e-02,  1.71218568e-03,\n",
              "               4.88877147e-02, -1.15567949e-02, -1.87324528e-02,  1.31809525e-03,\n",
              "              -3.80796418e-02, -3.36076878e-02,  2.78875028e-04,  1.28483062e-03,\n",
              "               7.60526350e-03, -2.05869917e-02,  1.58092240e-03,  7.51892757e-03,\n",
              "               7.68930838e-03,  1.25378063e-02,  1.36432834e-02,  1.14829717e-02,\n",
              "               1.41548784e-02, -4.13198257e-03, -1.49158137e-02,  2.08327454e-02,\n",
              "              -2.84223375e-03, -1.58541873e-02, -1.04070315e-02, -3.68304327e-02,\n",
              "              -4.91411285e-03,  1.87549163e-02, -3.40520777e-02, -1.62067097e-02,\n",
              "               5.68619184e-03, -8.47611111e-03, -1.11561473e-02,  3.54032358e-03,\n",
              "              -1.16867870e-02, -1.37257082e-02, -1.94537435e-02,  2.42985766e-02,\n",
              "              -1.35805095e-02,  1.61051843e-02, -2.10284349e-02,  1.16373412e-02,\n",
              "               1.96997579e-02,  9.77004319e-03, -1.66528262e-02, -7.03769503e-03,\n",
              "              -1.81460963e-03,  7.39465700e-03, -7.26237474e-03, -1.74880668e-03,\n",
              "               1.77141968e-02, -1.75314303e-02,  2.42351256e-02,  1.62910130e-02,\n",
              "               1.78544186e-02, -1.56693615e-03,  3.79178370e-03, -2.79820003e-02,\n",
              "              -2.02034432e-02,  8.82263109e-03,  3.21880840e-02, -9.67869069e-03,\n",
              "               4.31459816e-03, -1.42114758e-02,  2.08534133e-02, -4.28876933e-03,\n",
              "               2.28563286e-02, -1.60417296e-02, -5.78556443e-03, -2.37584747e-02,\n",
              "               8.75278004e-03,  1.60861202e-02, -8.45332761e-05,  2.10649539e-02,\n",
              "              -1.66019727e-05, -1.88836530e-02, -7.06376787e-03,  5.08249458e-03,\n",
              "               2.84847282e-02,  1.59216225e-02,  1.74269099e-02, -2.39274707e-02,\n",
              "              -5.86959031e-05, -5.77230332e-03, -2.36098450e-02, -2.45136973e-02,\n",
              "              -1.02915857e-02,  8.43222812e-03, -3.07602398e-02,  1.54398857e-02,\n",
              "               1.55886393e-02,  2.81415936e-02, -2.85637062e-02,  1.80450315e-03,\n",
              "              -3.09008081e-02, -1.18106315e-02,  3.28004290e-03,  4.91940342e-02,\n",
              "               3.65938395e-02, -6.09787356e-04,  2.48469375e-02, -1.50327878e-02,\n",
              "              -7.36492546e-03, -3.35881002e-02, -2.00746804e-02, -4.90521546e-03,\n",
              "               6.53967867e-03, -6.76556863e-03,  6.88001327e-03,  2.16812659e-02,\n",
              "              -7.28771463e-03, -1.14062512e-02, -4.03991155e-02,  1.94410849e-02,\n",
              "              -1.40634703e-03,  1.64838545e-02, -1.48565881e-02,  2.08342960e-03,\n",
              "              -3.16918269e-02,  5.97297307e-03, -3.67120816e-03, -3.15995738e-02,\n",
              "              -7.82863528e-04, -1.25296628e-02,  6.69139950e-03, -7.04595260e-03],\n",
              "             dtype=float32)                                                       ,\n",
              "       array([ 7.61839328e-03,  2.48901360e-03, -1.75990649e-02,  2.47240961e-02,\n",
              "              -2.41719354e-02, -1.11895250e-02,  1.31364698e-02, -1.97860003e-02,\n",
              "               3.31146531e-02,  2.78986362e-03, -1.67687330e-02, -2.31624320e-02,\n",
              "              -6.92144409e-03,  1.74218323e-02, -4.65728678e-02,  2.70272344e-02,\n",
              "               2.60086581e-02,  3.41436937e-02, -4.35897475e-03, -3.42064388e-02,\n",
              "              -1.01944339e-03,  3.56212035e-02,  2.29995959e-02, -1.13711110e-03,\n",
              "               5.53720258e-03, -2.41591968e-03, -1.80803798e-02,  4.61178087e-03,\n",
              "               7.85050821e-03, -2.73307879e-03, -8.38370621e-03,  1.65733155e-02,\n",
              "              -3.41971666e-02, -8.46128166e-03,  1.51049681e-02, -9.43373982e-03,\n",
              "               2.91350503e-02,  1.13155255e-02,  1.23835551e-02,  2.07179282e-02,\n",
              "               2.03372147e-02, -1.28414240e-02,  3.21734063e-02,  9.44645703e-03,\n",
              "              -2.84845568e-02, -1.42605202e-02, -1.27588259e-02, -5.38629433e-03,\n",
              "               3.49768292e-04,  3.31922434e-02, -6.77333865e-03,  2.29963865e-02,\n",
              "              -9.46350116e-03, -4.35577153e-04,  2.39531491e-02,  9.68174264e-03,\n",
              "              -1.65491328e-02, -2.45410148e-02, -5.44043025e-03, -4.56561670e-02,\n",
              "               1.36039341e-02,  1.41238077e-02, -3.47780585e-02, -1.52507974e-02,\n",
              "               1.87275244e-03, -1.29849464e-02, -2.87824105e-02,  2.79011931e-02,\n",
              "              -8.60539824e-03,  2.01764740e-02,  1.41488910e-02, -2.42584874e-03,\n",
              "               3.22721153e-02, -2.27102404e-03, -3.65049392e-02, -1.01456633e-02,\n",
              "               2.68128999e-02,  1.60697922e-02,  2.16152817e-02,  3.34012322e-02,\n",
              "              -9.00445506e-03, -1.84810385e-02,  1.28829265e-02, -1.88954792e-03,\n",
              "              -2.13786308e-03, -1.92300044e-02, -4.03218083e-02,  4.60176691e-02,\n",
              "               2.44368985e-03, -5.67324506e-03,  3.64971370e-03, -1.82167371e-03,\n",
              "              -3.13196592e-02, -3.08300517e-02, -4.12316993e-03, -2.67038438e-02,\n",
              "               2.38231458e-02,  2.81435754e-02,  8.47664010e-03, -2.02848352e-02,\n",
              "              -2.76100170e-02, -8.65201000e-03, -1.51599722e-03,  1.08909691e-02,\n",
              "              -2.87382770e-03, -1.04992148e-02,  9.98641457e-03, -3.13883424e-02,\n",
              "              -1.14303455e-03, -2.12973803e-02, -2.63449568e-02, -8.84092227e-03,\n",
              "               1.24737126e-04, -5.88685134e-03,  3.17105837e-02, -1.20779558e-03,\n",
              "               1.74003243e-02, -1.75342187e-02,  3.21287364e-02,  3.95246828e-03,\n",
              "              -1.49770537e-02, -2.32566404e-03, -2.39785090e-02,  2.34642122e-02,\n",
              "               4.26932471e-03, -1.68141350e-02, -2.60243788e-02, -1.53796263e-02,\n",
              "               5.49782114e-03, -3.99563694e-03, -8.93418957e-03, -4.90568206e-02,\n",
              "               4.12235595e-03,  1.61021948e-03, -6.87933387e-03, -1.69086233e-02,\n",
              "               6.38794911e-04,  1.96823031e-02,  2.52989819e-03,  1.70600191e-02,\n",
              "               2.85134520e-02, -2.08935644e-02, -4.63349745e-03, -5.34560950e-03,\n",
              "               7.34509481e-03,  1.16142714e-02,  4.63041198e-03, -2.49365922e-02,\n",
              "              -1.45528931e-02, -7.45379645e-03,  3.37615609e-02,  8.61671939e-03,\n",
              "               3.23594012e-03,  4.74232808e-03, -1.20612187e-02, -2.76914029e-03,\n",
              "              -1.25498101e-02, -1.32020917e-02, -2.25676745e-02, -1.69887729e-02,\n",
              "              -1.93500391e-03,  1.91561058e-02,  2.15707738e-02,  2.69462448e-02,\n",
              "               8.55851080e-03, -5.04989289e-02,  2.12491546e-02, -2.83882972e-02,\n",
              "               1.86042115e-02,  1.04778046e-02, -2.51076743e-02, -8.03315360e-03,\n",
              "               1.07341511e-02, -3.97358537e-02, -1.01266550e-02, -1.09029131e-03,\n",
              "               4.07587066e-02, -2.88273450e-02, -2.01926399e-02,  3.68208671e-03,\n",
              "              -3.20190266e-02, -1.62980258e-02,  1.38105303e-02,  6.92324014e-03,\n",
              "              -7.06163421e-03, -1.32437767e-02, -1.06240567e-02, -2.04231730e-03,\n",
              "               2.42656171e-02,  1.98493041e-02,  1.32926935e-02,  1.60794575e-02,\n",
              "               2.76196375e-02,  8.33252538e-03, -9.20007657e-03,  2.04604985e-05,\n",
              "               5.31374011e-03, -2.51546735e-03, -1.00021437e-02, -2.39096303e-02,\n",
              "               1.34380460e-02,  1.09240226e-02, -1.57587677e-02, -5.89396339e-03,\n",
              "               1.52660841e-02, -9.39623918e-03, -2.77841091e-03,  1.44762993e-02,\n",
              "              -3.77341988e-03,  4.03093128e-03, -4.37797885e-03,  2.57939100e-02,\n",
              "              -1.85448327e-03,  9.47148167e-03, -2.45696083e-02,  1.59193436e-03,\n",
              "               1.76750664e-02,  1.61942746e-03, -2.42997389e-02, -2.31370237e-02,\n",
              "              -1.79241505e-02,  9.53366514e-03, -5.86229889e-03, -2.00316729e-03,\n",
              "               2.80104969e-02,  1.02044083e-03,  1.78160369e-02,  1.12123517e-02,\n",
              "               9.40180942e-03,  2.19245767e-03, -6.96356059e-04, -8.70561413e-03,\n",
              "              -1.97520629e-02,  2.97583081e-03,  4.07212116e-02, -1.49234349e-03,\n",
              "               1.35377198e-02, -3.22625339e-02,  3.32045071e-02,  6.73261192e-03,\n",
              "               6.78172475e-03, -1.64962467e-02,  1.21568458e-03, -3.58572751e-02,\n",
              "               6.08490664e-04,  1.56283695e-02,  2.92140944e-03,  4.50175405e-02,\n",
              "               1.16154607e-02, -1.95105039e-02,  5.86558785e-03,  2.57815290e-02,\n",
              "               1.39427967e-02,  2.11952962e-02,  2.15386115e-02, -8.69167596e-03,\n",
              "               1.58564150e-02,  1.30048348e-02, -1.29147787e-02, -3.06457188e-02,\n",
              "              -5.97112579e-03,  5.48157375e-03, -8.04628339e-03,  7.44501548e-03,\n",
              "               8.63005407e-03,  4.03764136e-02, -1.93056595e-02,  7.44999386e-04,\n",
              "              -2.02009361e-02, -8.74405634e-03,  9.62434337e-03,  2.80249547e-02,\n",
              "               4.36448194e-02,  1.67162102e-02,  2.40177084e-02, -1.14410110e-02,\n",
              "              -1.55535368e-02, -3.61048467e-02, -1.94389913e-02, -6.92108693e-03,\n",
              "              -1.87933410e-03,  5.07606892e-03,  1.36998678e-02,  2.12604720e-02,\n",
              "              -5.47241047e-03, -4.19171248e-03, -1.87924989e-02,  1.90158060e-03,\n",
              "               2.01105159e-02,  1.59618165e-02, -5.76482154e-03,  1.30583234e-02,\n",
              "              -3.04674953e-02, -1.14500914e-02, -1.27121946e-03, -1.80392712e-02,\n",
              "               1.41185289e-02, -3.34623046e-02,  1.28318779e-02,  1.60798361e-03],\n",
              "             dtype=float32)                                                       ],\n",
              "      dtype=object)"
            ]
          },
          "metadata": {},
          "execution_count": 21
        }
      ]
    },
    {
      "cell_type": "markdown",
      "source": [
        "*The array is present inside the array.* So this is not in the proper format.  \n",
        "We have to convert the array into **`2d`** array"
      ],
      "metadata": {
        "id": "_B9_VHxLDC07"
      }
    },
    {
      "cell_type": "code",
      "source": [
        "print(\"Shape of X_train before reshaping: \", X_train.shape)\n",
        "print(\"Shape of X_test before reshaping: \", X_test.shape)\n"
      ],
      "metadata": {
        "colab": {
          "base_uri": "https://localhost:8080/"
        },
        "id": "cOKMLsjvDmZ2",
        "outputId": "7f79b6a0-d31f-4b66-dbca-f624028d0f71"
      },
      "execution_count": null,
      "outputs": [
        {
          "output_type": "stream",
          "name": "stdout",
          "text": [
            "Shape of X_train before reshaping:  (7920,)\n",
            "Shape of X_test before reshaping:  (1980,)\n"
          ]
        }
      ]
    },
    {
      "cell_type": "code",
      "source": [
        "X_train_2d = np.stack(X_train)\n",
        "X_test_2d = np.stack(X_test)"
      ],
      "metadata": {
        "id": "obHe_tthDAKq"
      },
      "execution_count": null,
      "outputs": []
    },
    {
      "cell_type": "code",
      "source": [
        "print(\"Shape of X_train after reshaping: \", X_train_2d.shape)\n",
        "print(\"Shape of X_test after reshaping: \", X_test_2d.shape)"
      ],
      "metadata": {
        "colab": {
          "base_uri": "https://localhost:8080/"
        },
        "id": "gAeD6cg_DeaB",
        "outputId": "6223b118-e615-4fa2-ac07-c62231a5840c"
      },
      "execution_count": null,
      "outputs": [
        {
          "output_type": "stream",
          "name": "stdout",
          "text": [
            "Shape of X_train after reshaping:  (7920, 300)\n",
            "Shape of X_test after reshaping:  (1980, 300)\n"
          ]
        }
      ]
    },
    {
      "cell_type": "code",
      "source": [
        "X_train_2d[:2]"
      ],
      "metadata": {
        "colab": {
          "base_uri": "https://localhost:8080/"
        },
        "collapsed": true,
        "id": "le2_v9RxD5rS",
        "outputId": "cc5147b0-8cf2-4514-895e-fecf560f6393"
      },
      "execution_count": null,
      "outputs": [
        {
          "output_type": "execute_result",
          "data": {
            "text/plain": [
              "array([[-2.58219568e-03,  6.66544260e-03,  2.52646767e-03,\n",
              "         3.95730063e-02, -1.41182542e-02, -7.22123589e-03,\n",
              "         3.15938070e-02, -3.18326391e-02,  1.62770562e-02,\n",
              "         2.15391051e-02, -2.36972049e-02, -3.72144543e-02,\n",
              "        -6.70092739e-03,  1.64224133e-02, -2.48180293e-02,\n",
              "         4.60469536e-02,  6.02065027e-03,  2.53213309e-02,\n",
              "         4.08343738e-03, -3.32745500e-02,  6.01468608e-03,\n",
              "         1.92604307e-02,  4.28487025e-02, -2.15403945e-03,\n",
              "         2.04510838e-02,  3.04712215e-03, -2.73784697e-02,\n",
              "        -1.53319014e-03,  6.67838380e-03, -3.27401888e-03,\n",
              "        -1.53824072e-02,  9.19036320e-05, -2.74383668e-02,\n",
              "        -3.54807038e-04, -1.12002371e-02, -1.66487973e-02,\n",
              "         1.40579836e-02,  2.69189221e-03, -4.44610231e-03,\n",
              "         3.41382883e-02,  5.02199680e-03, -1.35964267e-02,\n",
              "         4.29993980e-02,  1.10096289e-02, -5.67582203e-03,\n",
              "        -1.63680799e-02, -2.08231565e-02,  8.67405720e-03,\n",
              "        -1.27506657e-02,  3.22506502e-02, -1.29026920e-02,\n",
              "         2.64204424e-02, -4.90747951e-03, -4.95679071e-03,\n",
              "         3.24445846e-03,  5.05160249e-04, -1.06441928e-02,\n",
              "        -2.69884747e-02, -9.40681156e-03, -3.02510597e-02,\n",
              "         6.06752140e-03,  2.97850110e-02, -2.75506414e-02,\n",
              "        -1.17566157e-03,  1.70167554e-02, -1.53231900e-02,\n",
              "        -2.12831516e-02, -6.69188192e-03, -3.28447693e-03,\n",
              "         2.26514768e-02,  1.15149254e-02,  1.44865084e-03,\n",
              "         2.79989429e-02,  2.49321526e-03, -2.24706046e-02,\n",
              "        -2.50821244e-02,  9.00601223e-03,  1.73658188e-02,\n",
              "         2.09767334e-02,  3.03668417e-02, -1.38382493e-02,\n",
              "        -2.01829318e-02,  1.25048012e-02, -5.96598722e-03,\n",
              "        -9.37698036e-03, -2.76826620e-02, -3.20913680e-02,\n",
              "         5.39542213e-02,  1.66598021e-03,  4.34976909e-03,\n",
              "         5.92936715e-03, -1.17840115e-02, -4.50106449e-02,\n",
              "        -2.10491549e-02, -7.83731975e-03, -3.38384211e-02,\n",
              "         1.77004468e-02,  1.65641699e-02,  1.81579106e-02,\n",
              "        -1.59047600e-02, -1.97536778e-02, -1.95956491e-02,\n",
              "         3.34207085e-03,  5.66034287e-04, -1.82805564e-02,\n",
              "        -5.11482451e-03,  1.91473309e-03, -2.90830061e-02,\n",
              "        -4.02855873e-03, -1.70079172e-02, -2.80600488e-02,\n",
              "        -2.30379254e-02,  3.85570107e-03, -4.13628295e-03,\n",
              "         3.18104029e-02, -7.97387213e-03,  2.08447948e-02,\n",
              "        -2.53612529e-02,  2.59634871e-02,  9.27834585e-03,\n",
              "        -2.49574985e-02, -1.68696162e-03, -1.31695597e-02,\n",
              "         3.27412300e-02, -9.09329578e-03, -9.97136813e-03,\n",
              "        -1.87872127e-02, -1.40376640e-02,  2.25356244e-03,\n",
              "         1.18356198e-02, -1.46980733e-02, -1.03703476e-02,\n",
              "        -9.65756085e-03,  2.03495752e-03, -1.37474597e-03,\n",
              "         6.44901593e-04,  8.42744485e-04,  9.56854783e-03,\n",
              "         1.62692107e-02,  2.09762473e-02,  1.75422449e-02,\n",
              "        -3.16296630e-02,  5.90677382e-06, -2.29953676e-02,\n",
              "         6.40219403e-03,  1.87074654e-02, -9.91857960e-04,\n",
              "        -1.86910927e-02, -2.17829552e-02, -9.49366670e-03,\n",
              "         2.86281612e-02,  3.71174840e-03, -1.77340824e-02,\n",
              "         9.86514892e-03, -9.20616928e-03, -1.98866650e-02,\n",
              "        -1.91071425e-02, -2.04391424e-02, -3.09219416e-02,\n",
              "        -1.72982889e-03, -1.07584614e-02,  1.39104780e-02,\n",
              "         2.45051328e-02,  3.70833022e-03,  2.79449136e-03,\n",
              "        -3.55861522e-02,  3.36412825e-02, -2.76993625e-02,\n",
              "         1.65360924e-02,  1.39565663e-02, -4.55296002e-02,\n",
              "        -1.55951101e-02,  3.87999811e-03, -3.82097885e-02,\n",
              "        -2.24316940e-02,  1.71218568e-03,  4.88877147e-02,\n",
              "        -1.15567949e-02, -1.87324528e-02,  1.31809525e-03,\n",
              "        -3.80796418e-02, -3.36076878e-02,  2.78875028e-04,\n",
              "         1.28483062e-03,  7.60526350e-03, -2.05869917e-02,\n",
              "         1.58092240e-03,  7.51892757e-03,  7.68930838e-03,\n",
              "         1.25378063e-02,  1.36432834e-02,  1.14829717e-02,\n",
              "         1.41548784e-02, -4.13198257e-03, -1.49158137e-02,\n",
              "         2.08327454e-02, -2.84223375e-03, -1.58541873e-02,\n",
              "        -1.04070315e-02, -3.68304327e-02, -4.91411285e-03,\n",
              "         1.87549163e-02, -3.40520777e-02, -1.62067097e-02,\n",
              "         5.68619184e-03, -8.47611111e-03, -1.11561473e-02,\n",
              "         3.54032358e-03, -1.16867870e-02, -1.37257082e-02,\n",
              "        -1.94537435e-02,  2.42985766e-02, -1.35805095e-02,\n",
              "         1.61051843e-02, -2.10284349e-02,  1.16373412e-02,\n",
              "         1.96997579e-02,  9.77004319e-03, -1.66528262e-02,\n",
              "        -7.03769503e-03, -1.81460963e-03,  7.39465700e-03,\n",
              "        -7.26237474e-03, -1.74880668e-03,  1.77141968e-02,\n",
              "        -1.75314303e-02,  2.42351256e-02,  1.62910130e-02,\n",
              "         1.78544186e-02, -1.56693615e-03,  3.79178370e-03,\n",
              "        -2.79820003e-02, -2.02034432e-02,  8.82263109e-03,\n",
              "         3.21880840e-02, -9.67869069e-03,  4.31459816e-03,\n",
              "        -1.42114758e-02,  2.08534133e-02, -4.28876933e-03,\n",
              "         2.28563286e-02, -1.60417296e-02, -5.78556443e-03,\n",
              "        -2.37584747e-02,  8.75278004e-03,  1.60861202e-02,\n",
              "        -8.45332761e-05,  2.10649539e-02, -1.66019727e-05,\n",
              "        -1.88836530e-02, -7.06376787e-03,  5.08249458e-03,\n",
              "         2.84847282e-02,  1.59216225e-02,  1.74269099e-02,\n",
              "        -2.39274707e-02, -5.86959031e-05, -5.77230332e-03,\n",
              "        -2.36098450e-02, -2.45136973e-02, -1.02915857e-02,\n",
              "         8.43222812e-03, -3.07602398e-02,  1.54398857e-02,\n",
              "         1.55886393e-02,  2.81415936e-02, -2.85637062e-02,\n",
              "         1.80450315e-03, -3.09008081e-02, -1.18106315e-02,\n",
              "         3.28004290e-03,  4.91940342e-02,  3.65938395e-02,\n",
              "        -6.09787356e-04,  2.48469375e-02, -1.50327878e-02,\n",
              "        -7.36492546e-03, -3.35881002e-02, -2.00746804e-02,\n",
              "        -4.90521546e-03,  6.53967867e-03, -6.76556863e-03,\n",
              "         6.88001327e-03,  2.16812659e-02, -7.28771463e-03,\n",
              "        -1.14062512e-02, -4.03991155e-02,  1.94410849e-02,\n",
              "        -1.40634703e-03,  1.64838545e-02, -1.48565881e-02,\n",
              "         2.08342960e-03, -3.16918269e-02,  5.97297307e-03,\n",
              "        -3.67120816e-03, -3.15995738e-02, -7.82863528e-04,\n",
              "        -1.25296628e-02,  6.69139950e-03, -7.04595260e-03],\n",
              "       [ 7.61839328e-03,  2.48901360e-03, -1.75990649e-02,\n",
              "         2.47240961e-02, -2.41719354e-02, -1.11895250e-02,\n",
              "         1.31364698e-02, -1.97860003e-02,  3.31146531e-02,\n",
              "         2.78986362e-03, -1.67687330e-02, -2.31624320e-02,\n",
              "        -6.92144409e-03,  1.74218323e-02, -4.65728678e-02,\n",
              "         2.70272344e-02,  2.60086581e-02,  3.41436937e-02,\n",
              "        -4.35897475e-03, -3.42064388e-02, -1.01944339e-03,\n",
              "         3.56212035e-02,  2.29995959e-02, -1.13711110e-03,\n",
              "         5.53720258e-03, -2.41591968e-03, -1.80803798e-02,\n",
              "         4.61178087e-03,  7.85050821e-03, -2.73307879e-03,\n",
              "        -8.38370621e-03,  1.65733155e-02, -3.41971666e-02,\n",
              "        -8.46128166e-03,  1.51049681e-02, -9.43373982e-03,\n",
              "         2.91350503e-02,  1.13155255e-02,  1.23835551e-02,\n",
              "         2.07179282e-02,  2.03372147e-02, -1.28414240e-02,\n",
              "         3.21734063e-02,  9.44645703e-03, -2.84845568e-02,\n",
              "        -1.42605202e-02, -1.27588259e-02, -5.38629433e-03,\n",
              "         3.49768292e-04,  3.31922434e-02, -6.77333865e-03,\n",
              "         2.29963865e-02, -9.46350116e-03, -4.35577153e-04,\n",
              "         2.39531491e-02,  9.68174264e-03, -1.65491328e-02,\n",
              "        -2.45410148e-02, -5.44043025e-03, -4.56561670e-02,\n",
              "         1.36039341e-02,  1.41238077e-02, -3.47780585e-02,\n",
              "        -1.52507974e-02,  1.87275244e-03, -1.29849464e-02,\n",
              "        -2.87824105e-02,  2.79011931e-02, -8.60539824e-03,\n",
              "         2.01764740e-02,  1.41488910e-02, -2.42584874e-03,\n",
              "         3.22721153e-02, -2.27102404e-03, -3.65049392e-02,\n",
              "        -1.01456633e-02,  2.68128999e-02,  1.60697922e-02,\n",
              "         2.16152817e-02,  3.34012322e-02, -9.00445506e-03,\n",
              "        -1.84810385e-02,  1.28829265e-02, -1.88954792e-03,\n",
              "        -2.13786308e-03, -1.92300044e-02, -4.03218083e-02,\n",
              "         4.60176691e-02,  2.44368985e-03, -5.67324506e-03,\n",
              "         3.64971370e-03, -1.82167371e-03, -3.13196592e-02,\n",
              "        -3.08300517e-02, -4.12316993e-03, -2.67038438e-02,\n",
              "         2.38231458e-02,  2.81435754e-02,  8.47664010e-03,\n",
              "        -2.02848352e-02, -2.76100170e-02, -8.65201000e-03,\n",
              "        -1.51599722e-03,  1.08909691e-02, -2.87382770e-03,\n",
              "        -1.04992148e-02,  9.98641457e-03, -3.13883424e-02,\n",
              "        -1.14303455e-03, -2.12973803e-02, -2.63449568e-02,\n",
              "        -8.84092227e-03,  1.24737126e-04, -5.88685134e-03,\n",
              "         3.17105837e-02, -1.20779558e-03,  1.74003243e-02,\n",
              "        -1.75342187e-02,  3.21287364e-02,  3.95246828e-03,\n",
              "        -1.49770537e-02, -2.32566404e-03, -2.39785090e-02,\n",
              "         2.34642122e-02,  4.26932471e-03, -1.68141350e-02,\n",
              "        -2.60243788e-02, -1.53796263e-02,  5.49782114e-03,\n",
              "        -3.99563694e-03, -8.93418957e-03, -4.90568206e-02,\n",
              "         4.12235595e-03,  1.61021948e-03, -6.87933387e-03,\n",
              "        -1.69086233e-02,  6.38794911e-04,  1.96823031e-02,\n",
              "         2.52989819e-03,  1.70600191e-02,  2.85134520e-02,\n",
              "        -2.08935644e-02, -4.63349745e-03, -5.34560950e-03,\n",
              "         7.34509481e-03,  1.16142714e-02,  4.63041198e-03,\n",
              "        -2.49365922e-02, -1.45528931e-02, -7.45379645e-03,\n",
              "         3.37615609e-02,  8.61671939e-03,  3.23594012e-03,\n",
              "         4.74232808e-03, -1.20612187e-02, -2.76914029e-03,\n",
              "        -1.25498101e-02, -1.32020917e-02, -2.25676745e-02,\n",
              "        -1.69887729e-02, -1.93500391e-03,  1.91561058e-02,\n",
              "         2.15707738e-02,  2.69462448e-02,  8.55851080e-03,\n",
              "        -5.04989289e-02,  2.12491546e-02, -2.83882972e-02,\n",
              "         1.86042115e-02,  1.04778046e-02, -2.51076743e-02,\n",
              "        -8.03315360e-03,  1.07341511e-02, -3.97358537e-02,\n",
              "        -1.01266550e-02, -1.09029131e-03,  4.07587066e-02,\n",
              "        -2.88273450e-02, -2.01926399e-02,  3.68208671e-03,\n",
              "        -3.20190266e-02, -1.62980258e-02,  1.38105303e-02,\n",
              "         6.92324014e-03, -7.06163421e-03, -1.32437767e-02,\n",
              "        -1.06240567e-02, -2.04231730e-03,  2.42656171e-02,\n",
              "         1.98493041e-02,  1.32926935e-02,  1.60794575e-02,\n",
              "         2.76196375e-02,  8.33252538e-03, -9.20007657e-03,\n",
              "         2.04604985e-05,  5.31374011e-03, -2.51546735e-03,\n",
              "        -1.00021437e-02, -2.39096303e-02,  1.34380460e-02,\n",
              "         1.09240226e-02, -1.57587677e-02, -5.89396339e-03,\n",
              "         1.52660841e-02, -9.39623918e-03, -2.77841091e-03,\n",
              "         1.44762993e-02, -3.77341988e-03,  4.03093128e-03,\n",
              "        -4.37797885e-03,  2.57939100e-02, -1.85448327e-03,\n",
              "         9.47148167e-03, -2.45696083e-02,  1.59193436e-03,\n",
              "         1.76750664e-02,  1.61942746e-03, -2.42997389e-02,\n",
              "        -2.31370237e-02, -1.79241505e-02,  9.53366514e-03,\n",
              "        -5.86229889e-03, -2.00316729e-03,  2.80104969e-02,\n",
              "         1.02044083e-03,  1.78160369e-02,  1.12123517e-02,\n",
              "         9.40180942e-03,  2.19245767e-03, -6.96356059e-04,\n",
              "        -8.70561413e-03, -1.97520629e-02,  2.97583081e-03,\n",
              "         4.07212116e-02, -1.49234349e-03,  1.35377198e-02,\n",
              "        -3.22625339e-02,  3.32045071e-02,  6.73261192e-03,\n",
              "         6.78172475e-03, -1.64962467e-02,  1.21568458e-03,\n",
              "        -3.58572751e-02,  6.08490664e-04,  1.56283695e-02,\n",
              "         2.92140944e-03,  4.50175405e-02,  1.16154607e-02,\n",
              "        -1.95105039e-02,  5.86558785e-03,  2.57815290e-02,\n",
              "         1.39427967e-02,  2.11952962e-02,  2.15386115e-02,\n",
              "        -8.69167596e-03,  1.58564150e-02,  1.30048348e-02,\n",
              "        -1.29147787e-02, -3.06457188e-02, -5.97112579e-03,\n",
              "         5.48157375e-03, -8.04628339e-03,  7.44501548e-03,\n",
              "         8.63005407e-03,  4.03764136e-02, -1.93056595e-02,\n",
              "         7.44999386e-04, -2.02009361e-02, -8.74405634e-03,\n",
              "         9.62434337e-03,  2.80249547e-02,  4.36448194e-02,\n",
              "         1.67162102e-02,  2.40177084e-02, -1.14410110e-02,\n",
              "        -1.55535368e-02, -3.61048467e-02, -1.94389913e-02,\n",
              "        -6.92108693e-03, -1.87933410e-03,  5.07606892e-03,\n",
              "         1.36998678e-02,  2.12604720e-02, -5.47241047e-03,\n",
              "        -4.19171248e-03, -1.87924989e-02,  1.90158060e-03,\n",
              "         2.01105159e-02,  1.59618165e-02, -5.76482154e-03,\n",
              "         1.30583234e-02, -3.04674953e-02, -1.14500914e-02,\n",
              "        -1.27121946e-03, -1.80392712e-02,  1.41185289e-02,\n",
              "        -3.34623046e-02,  1.28318779e-02,  1.60798361e-03]], dtype=float32)"
            ]
          },
          "metadata": {},
          "execution_count": 25
        }
      ]
    },
    {
      "cell_type": "markdown",
      "source": [
        "**Train Machine Learning Model**"
      ],
      "metadata": {
        "id": "1pyMFEraEGzP"
      }
    },
    {
      "cell_type": "markdown",
      "source": [
        "**1. Gradient Boosting**"
      ],
      "metadata": {
        "id": "yi20BXR-ELkh"
      }
    },
    {
      "cell_type": "code",
      "source": [
        "from sklearn.ensemble import GradientBoostingClassifier\n",
        "from sklearn.metrics import classification_report\n",
        "\n",
        "clf = GradientBoostingClassifier()\n",
        "\n",
        "clf.fit(X_train_2d, y_train)\n",
        "\n",
        "y_pred = clf.predict(X_test_2d)\n",
        "\n",
        "print(classification_report(y_test, y_pred))"
      ],
      "metadata": {
        "colab": {
          "base_uri": "https://localhost:8080/"
        },
        "id": "uLVRav2KEAvz",
        "outputId": "412de8e2-a269-4bae-94bf-7de7afb01938"
      },
      "execution_count": null,
      "outputs": [
        {
          "output_type": "stream",
          "name": "stdout",
          "text": [
            "              precision    recall  f1-score   support\n",
            "\n",
            "           0       0.99      0.98      0.98      1000\n",
            "           1       0.98      0.99      0.98       980\n",
            "\n",
            "    accuracy                           0.98      1980\n",
            "   macro avg       0.98      0.98      0.98      1980\n",
            "weighted avg       0.98      0.98      0.98      1980\n",
            "\n"
          ]
        }
      ]
    },
    {
      "cell_type": "markdown",
      "source": [
        "**Make some predictions**"
      ],
      "metadata": {
        "id": "tWibUGMAF-So"
      }
    },
    {
      "cell_type": "code",
      "source": [
        "test_news = [\n",
        "    \"Michigan governor denies misleading U.S. House on Flint water (Reuters) - Michigan Governor Rick Snyder denied Thursday that he had misled a U.S. House of Representatives committee last year over testimony on Flintâ€™s water crisis after lawmakers asked if his testimony had been contradicted by a witness in a court hearing. The House Oversight and Government Reform Committee wrote Snyder earlier Thursday asking him about published reports that one of his aides, Harvey Hollins, testified in a court hearing last week in Michigan that he had notified Snyder of an outbreak of Legionnairesâ€™ disease linked to the Flint water crisis in December 2015, rather than 2016 as Snyder had testified. â€œMy testimony was truthful and I stand by it,â€ Snyder told the committee in a letter, adding that his office has provided tens of thousands of pages of records to the committee and would continue to cooperate fully.  Last week, prosecutors in Michigan said Dr. Eden Wells, the stateâ€™s chief medical executive who already faced lesser charges, would become the sixth current or former official to face involuntary manslaughter charges in connection with the crisis. The charges stem from more than 80 cases of Legionnairesâ€™ disease and at least 12 deaths that were believed to be linked to the water in Flint after the city switched its source from Lake Huron to the Flint River in April 2014. Wells was among six current and former Michigan and Flint officials charged in June. The other five, including Michigan Health and Human Services Director Nick Lyon, were charged at the time with involuntary manslaughter\",\n",
        "    \" WATCH: Fox News Host Loses Her Sh*t, Says Investigating Russia For Hacking Our Election Is Unpatriotic This woman is insane.In an incredibly disrespectful rant against President Obama and anyone else who supports investigating Russian interference in our election, Fox News host Jeanine Pirro said that anybody who is against Donald Trump is anti-American. Look, it s time to take sides,  she began.\",\n",
        "    \" Sarah Palin Celebrates After White Man Who Pulled Gun On Black Protesters Goes Unpunished (VIDEO) Sarah Palin, one of the nigh-innumerable  deplorables  in Donald Trump s  basket,  almost outdid herself in terms of horribleness on Friday.\"\n",
        "]\n",
        "\n",
        "test_news_vectors = [preprocess_and_vectorize(n) for n in test_news]\n",
        "clf.predict(test_news_vectors)"
      ],
      "metadata": {
        "colab": {
          "base_uri": "https://localhost:8080/"
        },
        "id": "e4007yAeF7BC",
        "outputId": "d96bd954-3065-4a77-ee7c-361b7f43775d"
      },
      "execution_count": null,
      "outputs": [
        {
          "output_type": "execute_result",
          "data": {
            "text/plain": [
              "array([1, 0, 0])"
            ]
          },
          "metadata": {},
          "execution_count": 27
        }
      ]
    },
    {
      "cell_type": "markdown",
      "source": [
        "**Confusion matrix**"
      ],
      "metadata": {
        "id": "UpeloFEXGK5g"
      }
    },
    {
      "cell_type": "code",
      "source": [
        "from sklearn.metrics import confusion_matrix\n",
        "\n",
        "cm = confusion_matrix(y_test, y_pred)"
      ],
      "metadata": {
        "id": "mXFMOU2BGOnv"
      },
      "execution_count": null,
      "outputs": []
    },
    {
      "cell_type": "code",
      "source": [
        "cm"
      ],
      "metadata": {
        "colab": {
          "base_uri": "https://localhost:8080/"
        },
        "id": "hQGk-04PGasO",
        "outputId": "ed87901a-a07a-4501-b434-0faf05d8922d"
      },
      "execution_count": null,
      "outputs": [
        {
          "output_type": "execute_result",
          "data": {
            "text/plain": [
              "array([[976,  24],\n",
              "       [ 11, 969]])"
            ]
          },
          "metadata": {},
          "execution_count": 29
        }
      ]
    },
    {
      "cell_type": "code",
      "source": [
        "from matplotlib import pyplot as plt\n",
        "import seaborn as sns\n",
        "\n",
        "plt.figure(figsize = (10, 7))\n",
        "sns.heatmap(cm, annot=True, fmt='d')\n",
        "plt.xlabel('Prediction')\n",
        "plt.ylabel('Truth')"
      ],
      "metadata": {
        "colab": {
          "base_uri": "https://localhost:8080/",
          "height": 636
        },
        "id": "OaYa1RiYGb0v",
        "outputId": "10425f75-39dd-4075-d465-b75dc70eb685"
      },
      "execution_count": null,
      "outputs": [
        {
          "output_type": "execute_result",
          "data": {
            "text/plain": [
              "Text(95.72222222222221, 0.5, 'Truth')"
            ]
          },
          "metadata": {},
          "execution_count": 30
        },
        {
          "output_type": "display_data",
          "data": {
            "text/plain": [
              "<Figure size 1000x700 with 2 Axes>"
            ],
            "image/png": "[encoded data removed]"
          },
          "metadata": {}
        }
      ]
    },
    {
      "cell_type": "markdown",
      "source": [
        "**2. Random Forest**"
      ],
      "metadata": {
        "id": "GhFkHBsMFaZd"
      }
    },
    {
      "cell_type": "code",
      "source": [
        "from sklearn.ensemble import RandomForestClassifier\n",
        "from sklearn.metrics import classification_report\n",
        "\n",
        "clf2 = RandomForestClassifier()\n",
        "\n",
        "clf2.fit(X_train_2d, y_train)\n",
        "\n",
        "y_pred = clf2.predict(X_test_2d)\n",
        "\n",
        "print(classification_report(y_test, y_pred))"
      ],
      "metadata": {
        "colab": {
          "base_uri": "https://localhost:8080/"
        },
        "id": "YSnDd54pE14T",
        "outputId": "258b880a-0f55-4ce1-dab9-e1b16cae1016"
      },
      "execution_count": null,
      "outputs": [
        {
          "output_type": "stream",
          "name": "stdout",
          "text": [
            "              precision    recall  f1-score   support\n",
            "\n",
            "           0       0.98      0.96      0.97      1000\n",
            "           1       0.96      0.98      0.97       980\n",
            "\n",
            "    accuracy                           0.97      1980\n",
            "   macro avg       0.97      0.97      0.97      1980\n",
            "weighted avg       0.97      0.97      0.97      1980\n",
            "\n"
          ]
        }
      ]
    },
    {
      "cell_type": "code",
      "source": [
        "cm = confusion_matrix(y_test, y_pred)\n",
        "plt.figure(figsize = (10, 7))\n",
        "sns.heatmap(cm, annot=True, fmt='d')\n",
        "plt.xlabel('Prediction')\n",
        "plt.ylabel('Truth')"
      ],
      "metadata": {
        "colab": {
          "base_uri": "https://localhost:8080/",
          "height": 636
        },
        "id": "86xvgZhBHG3x",
        "outputId": "8889dc25-cfce-45d0-d338-6e254135407c"
      },
      "execution_count": null,
      "outputs": [
        {
          "output_type": "execute_result",
          "data": {
            "text/plain": [
              "Text(95.72222222222221, 0.5, 'Truth')"
            ]
          },
          "metadata": {},
          "execution_count": 32
        },
        {
          "output_type": "display_data",
          "data": {
            "text/plain": [
              "<Figure size 1000x700 with 2 Axes>"
            ],
            "image/png": "[encoded data removed]"
          },
          "metadata": {}
        }
      ]
    }
  ]
}