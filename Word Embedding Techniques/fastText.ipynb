{
  "nbformat": 4,
  "nbformat_minor": 0,
  "metadata": {
    "colab": {
      "provenance": []
    },
    "kernelspec": {
      "name": "python3",
      "display_name": "Python 3"
    },
    "language_info": {
      "name": "python"
    }
  },
  "cells": [
    {
      "cell_type": "markdown",
      "source": [
        "# fastText"
      ],
      "metadata": {
        "id": "KbTIa6sU8ssg"
      }
    },
    {
      "cell_type": "markdown",
      "source": [
        "## Fun Facts\n",
        "\n",
        "- fastText can handle `OOV` better than `word2vec`.\n",
        "- fastText is often a first choice when you want to train `custom word` embeddings for your domain.\n",
        "- fastText is a technique (similar to word2vec) as well as a library."
      ],
      "metadata": {
        "id": "cPCqjPMs8w6H"
      }
    },
    {
      "cell_type": "code",
      "execution_count": null,
      "metadata": {
        "colab": {
          "base_uri": "https://localhost:8080/"
        },
        "collapsed": true,
        "id": "RPVQprA35P1H",
        "outputId": "f1486bbe-bfbc-4c33-c216-f5307e37e320"
      },
      "outputs": [
        {
          "output_type": "stream",
          "name": "stdout",
          "text": [
            "Requirement already satisfied: fasttext in /usr/local/lib/python3.10/dist-packages (0.9.3)\n",
            "Requirement already satisfied: pybind11>=2.2 in /usr/local/lib/python3.10/dist-packages (from fasttext) (2.13.6)\n",
            "Requirement already satisfied: setuptools>=0.7.0 in /usr/local/lib/python3.10/dist-packages (from fasttext) (75.1.0)\n",
            "Requirement already satisfied: numpy in /usr/local/lib/python3.10/dist-packages (from fasttext) (1.26.4)\n"
          ]
        }
      ],
      "source": [
        "!pip install fasttext"
      ]
    },
    {
      "cell_type": "code",
      "source": [
        "# creating a folder for fasttext model\n",
        "!mkdir -p fasttext_models"
      ],
      "metadata": {
        "id": "05hOcmGO_j_p"
      },
      "execution_count": null,
      "outputs": []
    },
    {
      "cell_type": "code",
      "source": [
        "# Download the English bin model\n",
        "!wget -P fasttext_models https://dl.fbaipublicfiles.com/fasttext/vectors-crawl/cc.en.300.bin.gz"
      ],
      "metadata": {
        "colab": {
          "base_uri": "https://localhost:8080/"
        },
        "collapsed": true,
        "id": "NBx9w7KkAt03",
        "outputId": "424175a2-2005-4384-8ba3-226dfc613637"
      },
      "execution_count": null,
      "outputs": [
        {
          "output_type": "stream",
          "name": "stdout",
          "text": [
            "--2024-12-21 06:59:21--  https://dl.fbaipublicfiles.com/fasttext/vectors-crawl/cc.en.300.bin.gz\n",
            "Resolving dl.fbaipublicfiles.com (dl.fbaipublicfiles.com)... 18.238.176.126, 18.238.176.19, 18.238.176.115, ...\n",
            "Connecting to dl.fbaipublicfiles.com (dl.fbaipublicfiles.com)|18.238.176.126|:443... connected.\n",
            "HTTP request sent, awaiting response... 200 OK\n",
            "Length: 4503593528 (4.2G) [application/octet-stream]\n",
            "Saving to: ‘fasttext_models/cc.en.300.bin.gz’\n",
            "\n",
            "cc.en.300.bin.gz    100%[===================>]   4.19G   137MB/s    in 27s     \n",
            "\n",
            "2024-12-21 06:59:48 (161 MB/s) - ‘fasttext_models/cc.en.300.bin.gz’ saved [4503593528/4503593528]\n",
            "\n"
          ]
        }
      ]
    },
    {
      "cell_type": "code",
      "source": [
        "# Unzip the downloaded file\n",
        "!gunzip fasttext_models/cc.en.300.bin.gz"
      ],
      "metadata": {
        "id": "U1_CglsKA3V0"
      },
      "execution_count": null,
      "outputs": []
    },
    {
      "cell_type": "code",
      "source": [
        "# downloading the Hindi model\n",
        "!wget -P fasttext_models https://dl.fbaipublicfiles.com/fasttext/vectors-crawl/cc.hi.300.bin.gz\n"
      ],
      "metadata": {
        "colab": {
          "base_uri": "https://localhost:8080/"
        },
        "collapsed": true,
        "id": "ze0uo9OnBlix",
        "outputId": "d88f61cf-a5d7-4583-fda9-510534377a3f"
      },
      "execution_count": null,
      "outputs": [
        {
          "output_type": "stream",
          "name": "stdout",
          "text": [
            "--2024-12-21 07:02:49--  https://dl.fbaipublicfiles.com/fasttext/vectors-crawl/cc.hi.300.bin.gz\n",
            "Resolving dl.fbaipublicfiles.com (dl.fbaipublicfiles.com)... 18.238.176.115, 18.238.176.44, 18.238.176.19, ...\n",
            "Connecting to dl.fbaipublicfiles.com (dl.fbaipublicfiles.com)|18.238.176.115|:443... connected.\n",
            "HTTP request sent, awaiting response... 200 OK\n",
            "Length: 4371554972 (4.1G) [application/octet-stream]\n",
            "Saving to: ‘fasttext_models/cc.hi.300.bin.gz’\n",
            "\n",
            "cc.hi.300.bin.gz    100%[===================>]   4.07G  61.4MB/s    in 72s     \n",
            "\n",
            "2024-12-21 07:04:02 (57.9 MB/s) - ‘fasttext_models/cc.hi.300.bin.gz’ saved [4371554972/4371554972]\n",
            "\n"
          ]
        }
      ]
    },
    {
      "cell_type": "code",
      "source": [
        "!gunzip fasttext_models/cc.hi.300.bin.gz"
      ],
      "metadata": {
        "id": "UHJITEljBqQO"
      },
      "execution_count": null,
      "outputs": []
    },
    {
      "cell_type": "markdown",
      "source": [
        "## Importing the model"
      ],
      "metadata": {
        "id": "ISdtQ-UCCK4r"
      }
    },
    {
      "cell_type": "code",
      "source": [
        "import fasttext\n",
        "\n",
        "model_en = fasttext.load_model('/content/fasttext_models/cc.en.300.bin')"
      ],
      "metadata": {
        "id": "L439rGM0CNbH"
      },
      "execution_count": null,
      "outputs": []
    },
    {
      "cell_type": "code",
      "source": [
        "# checking the methods available\n",
        "\n",
        "dir(model_en)"
      ],
      "metadata": {
        "colab": {
          "base_uri": "https://localhost:8080/"
        },
        "collapsed": true,
        "id": "f5nE6BoSCaqq",
        "outputId": "0b26c6e1-ee63-4092-9a57-c6afc4dd94d9"
      },
      "execution_count": null,
      "outputs": [
        {
          "output_type": "execute_result",
          "data": {
            "text/plain": [
              "['__class__',\n",
              " '__contains__',\n",
              " '__delattr__',\n",
              " '__dict__',\n",
              " '__dir__',\n",
              " '__doc__',\n",
              " '__eq__',\n",
              " '__format__',\n",
              " '__ge__',\n",
              " '__getattribute__',\n",
              " '__getitem__',\n",
              " '__gt__',\n",
              " '__hash__',\n",
              " '__init__',\n",
              " '__init_subclass__',\n",
              " '__le__',\n",
              " '__lt__',\n",
              " '__module__',\n",
              " '__ne__',\n",
              " '__new__',\n",
              " '__reduce__',\n",
              " '__reduce_ex__',\n",
              " '__repr__',\n",
              " '__setattr__',\n",
              " '__sizeof__',\n",
              " '__str__',\n",
              " '__subclasshook__',\n",
              " '__weakref__',\n",
              " '_labels',\n",
              " '_words',\n",
              " 'f',\n",
              " 'get_analogies',\n",
              " 'get_dimension',\n",
              " 'get_input_matrix',\n",
              " 'get_input_vector',\n",
              " 'get_label_id',\n",
              " 'get_labels',\n",
              " 'get_line',\n",
              " 'get_meter',\n",
              " 'get_nearest_neighbors',\n",
              " 'get_output_matrix',\n",
              " 'get_sentence_vector',\n",
              " 'get_subword_id',\n",
              " 'get_subwords',\n",
              " 'get_word_id',\n",
              " 'get_word_vector',\n",
              " 'get_words',\n",
              " 'is_quantized',\n",
              " 'labels',\n",
              " 'predict',\n",
              " 'quantize',\n",
              " 'save_model',\n",
              " 'set_args',\n",
              " 'set_matrices',\n",
              " 'test',\n",
              " 'test_label',\n",
              " 'words']"
            ]
          },
          "metadata": {},
          "execution_count": 8
        }
      ]
    },
    {
      "cell_type": "code",
      "source": [
        "model_en.get_nearest_neighbors(\"good\") # similar to gensim's \"most_similar()\" method."
      ],
      "metadata": {
        "colab": {
          "base_uri": "https://localhost:8080/"
        },
        "id": "Qo0x1oTqCw0y",
        "outputId": "a563f482-d981-4712-cb7e-74fb50f0e675"
      },
      "execution_count": null,
      "outputs": [
        {
          "output_type": "execute_result",
          "data": {
            "text/plain": [
              "[(0.7517593502998352, 'bad'),\n",
              " (0.7426098585128784, 'great'),\n",
              " (0.7299689054489136, 'decent'),\n",
              " (0.7123614549636841, 'nice'),\n",
              " (0.6796907186508179, 'Good'),\n",
              " (0.6737031936645508, 'excellent'),\n",
              " (0.669592022895813, 'goood'),\n",
              " (0.6602178812026978, 'ggod'),\n",
              " (0.6479219794273376, 'semi-good'),\n",
              " (0.6417751908302307, 'good.Good')]"
            ]
          },
          "metadata": {},
          "execution_count": 9
        }
      ]
    },
    {
      "cell_type": "code",
      "source": [
        "model_en.get_nearest_neighbors(\"Lion\")"
      ],
      "metadata": {
        "colab": {
          "base_uri": "https://localhost:8080/"
        },
        "id": "M0fFpb08C_a9",
        "outputId": "aa4d2cfc-71a4-4133-c4aa-613e83bd78c6"
      },
      "execution_count": null,
      "outputs": [
        {
          "output_type": "execute_result",
          "data": {
            "text/plain": [
              "[(0.6564886569976807, 'Lion-'),\n",
              " (0.6405343413352966, 'LionThe'),\n",
              " (0.6277195811271667, 'Leopard'),\n",
              " (0.6234227418899536, 'Lion.'),\n",
              " (0.6087048053741455, 'lion'),\n",
              " (0.5858215093612671, 'Tiger'),\n",
              " (0.5717810988426208, 'Lioness'),\n",
              " (0.5446290969848633, 'Elephant'),\n",
              " (0.5444255471229553, 'Eagle'),\n",
              " (0.5406057238578796, 'Lions')]"
            ]
          },
          "metadata": {},
          "execution_count": 10
        }
      ]
    },
    {
      "cell_type": "code",
      "source": [
        "# obtaining the word vector of an individual words using \"get_word_vector()\" method\n",
        "model_en.get_word_vector(\"good\")"
      ],
      "metadata": {
        "colab": {
          "base_uri": "https://localhost:8080/"
        },
        "collapsed": true,
        "id": "6-Xg2EfODqCG",
        "outputId": "7c013332-7cb6-4241-cc8b-f8f3208a0f0d"
      },
      "execution_count": null,
      "outputs": [
        {
          "output_type": "execute_result",
          "data": {
            "text/plain": [
              "array([-0.09213716, -0.0634383 ,  0.00173813,  0.13524324, -0.06561062,\n",
              "        0.00619071,  0.12609869, -0.01646539,  0.0174491 , -0.00126792,\n",
              "       -0.09709831,  0.02329333,  0.00996784,  0.00463419,  0.01587938,\n",
              "        0.00689824,  0.08575399, -0.01988525, -0.0601579 , -0.02327966,\n",
              "        0.01183712,  0.08217917,  0.01488847,  0.00902181,  0.00696296,\n",
              "       -0.06426616,  0.03345198, -0.02101481,  0.06767873,  0.03022419,\n",
              "        0.07203474, -0.05689922, -0.04370377,  0.00642597,  0.0439174 ,\n",
              "        0.0604848 , -0.00611545, -0.12256738, -0.03530414, -0.02696739,\n",
              "       -0.02058216,  0.00752347, -0.00686451,  0.0362783 , -0.03308735,\n",
              "        0.05801626,  0.00832448, -0.06336953, -0.05775082,  0.01089846,\n",
              "       -0.0925179 ,  0.01559984, -0.04079024,  0.0066871 , -0.06374165,\n",
              "        0.05881973,  0.07209535, -0.05387195, -0.14658651, -0.04046486,\n",
              "       -0.02507038, -0.04954465, -0.05224417, -0.06846938,  0.0467079 ,\n",
              "        0.00459271, -0.07522177,  0.03627685, -0.0698283 ,  0.0174791 ,\n",
              "       -0.03427085, -0.043176  ,  0.00764059,  0.05694873,  0.0064466 ,\n",
              "       -0.01078498,  0.02328758,  0.06951396,  0.05373847,  0.02533235,\n",
              "        0.04307906, -0.03298698, -0.01265992,  0.02883131,  0.01145704,\n",
              "       -0.03029559,  0.02814867,  0.09258693,  0.08908885,  0.21924517,\n",
              "        0.03836972,  0.05020344,  0.13716629, -0.00859585, -0.0113667 ,\n",
              "        0.10641211, -0.07889125,  0.08034115, -0.00441031, -0.04873084,\n",
              "        0.00183913,  0.06675661,  0.00995041,  0.03010932, -0.02987454,\n",
              "        0.02509423, -0.04333989, -0.0059728 , -0.00332469, -0.0522663 ,\n",
              "       -0.03281598,  0.12006998,  0.01166376, -0.03454734,  0.01907663,\n",
              "       -0.01262398, -0.02025696,  0.01866139,  0.05016267,  0.05604192,\n",
              "        0.04971652,  0.03597424, -0.00690809,  0.05734055,  0.05945349,\n",
              "        0.0261135 ,  0.01734888, -0.00711455, -0.1295353 ,  0.01600225,\n",
              "        0.00150194, -0.03631282, -0.00469453,  0.02215887, -0.00699799,\n",
              "       -0.02894606,  0.03908806,  0.0401371 , -0.03941151, -0.02646147,\n",
              "       -0.04718655,  0.02674983,  0.07485171,  0.03144611, -0.07028159,\n",
              "       -0.0424196 , -0.2054326 , -0.09083363, -0.01121964,  0.05520659,\n",
              "       -0.11916859,  0.00788128, -0.13444994, -0.01488061, -0.02091767,\n",
              "        0.09262317,  0.06291065, -0.02200251, -0.03655258,  0.02587264,\n",
              "        0.0447952 , -0.01287306, -0.0350248 , -0.02456109, -0.04746678,\n",
              "        0.00130645,  0.01147217, -0.00531678,  0.11162786,  0.0253936 ,\n",
              "       -0.03638908, -0.05931935, -0.00549408,  0.0074574 , -0.01289796,\n",
              "       -0.0719263 , -0.02486867, -0.04750141,  0.00194147, -0.1141203 ,\n",
              "        0.01648522,  0.05083858, -0.02679086, -0.04766015,  0.00518819,\n",
              "        0.04099732,  0.02709844, -0.06511603, -0.06652133, -0.07979076,\n",
              "        0.0491582 ,  0.05377757,  0.0200878 , -0.03799915, -0.02513728,\n",
              "        0.00410288, -0.04514588, -0.04708159, -0.00559349,  0.13073431,\n",
              "       -0.09549722,  0.16606593,  0.0221815 , -0.05887613, -0.02126267,\n",
              "        0.00425452, -0.05540022, -0.06286709, -0.05455609,  0.11610305,\n",
              "        0.12443443, -0.00741135,  0.01761745, -0.0075937 , -0.05616794,\n",
              "       -0.01676267,  0.07975771, -0.04046471,  0.07211975,  0.13321361,\n",
              "        0.07106   , -0.01443719,  0.02562447,  0.05690589, -0.0090815 ,\n",
              "       -0.00628489,  0.03647495,  0.00689165,  0.04463093,  0.01837448,\n",
              "        0.00218417, -0.02093561,  0.07896647, -0.05610979,  0.02535573,\n",
              "       -0.09674191, -0.03684152,  0.01628419,  0.00908958, -0.06135098,\n",
              "        0.05458912, -0.03850613,  0.03017449, -0.1417458 ,  0.17130415,\n",
              "       -0.05436675, -0.01079106,  0.04692602, -0.02894384, -0.0273016 ,\n",
              "        0.09735578, -0.13424474, -0.02024667, -0.04736632, -0.03244197,\n",
              "        0.00541304, -0.04343438, -0.0003211 ,  0.16816942,  0.03105447,\n",
              "       -0.03063404, -0.00045107,  0.04690041,  0.11270425, -0.13718411,\n",
              "        0.05740229,  0.00801181, -0.17329559,  0.03051268, -0.1268264 ,\n",
              "       -0.06074513, -0.03838078, -0.01737073,  0.12296247, -0.05316308,\n",
              "       -0.07613882,  0.02129988,  0.0121702 , -0.01287838,  0.0768657 ,\n",
              "       -0.26769733,  0.05321693, -0.12607867, -0.02812696,  0.07982896,\n",
              "       -0.02915069, -0.01767069, -0.10350563, -0.0471432 , -0.03033449,\n",
              "        0.08542065,  0.02928957, -0.11185424, -0.00142424,  0.0379483 ,\n",
              "        0.02438426, -0.01398861,  0.14165413, -0.05115522, -0.08859383],\n",
              "      dtype=float32)"
            ]
          },
          "metadata": {},
          "execution_count": 11
        }
      ]
    },
    {
      "cell_type": "markdown",
      "source": [
        "the **size** of this vector is 300."
      ],
      "metadata": {
        "id": "tM_TEEs0EEY7"
      }
    },
    {
      "cell_type": "code",
      "source": [
        "model_en.get_word_vector(\"good\").shape"
      ],
      "metadata": {
        "colab": {
          "base_uri": "https://localhost:8080/"
        },
        "id": "e_33zikcECF-",
        "outputId": "ab1c528e-2a24-46d8-9045-68c4b195ff37"
      },
      "execution_count": null,
      "outputs": [
        {
          "output_type": "execute_result",
          "data": {
            "text/plain": [
              "(300,)"
            ]
          },
          "metadata": {},
          "execution_count": 12
        }
      ]
    },
    {
      "cell_type": "code",
      "source": [
        "# finding the analogies with \"get_analogies()\" method.\n",
        "\n",
        "model_en.get_analogies(\"berlin\", \"germany\", \"india\")"
      ],
      "metadata": {
        "colab": {
          "base_uri": "https://localhost:8080/"
        },
        "id": "JEypjg_vEL2s",
        "outputId": "d2dabc08-8d7c-49d1-98e0-9cbf7f82a403"
      },
      "execution_count": null,
      "outputs": [
        {
          "output_type": "execute_result",
          "data": {
            "text/plain": [
              "[(0.7148876190185547, 'delhi'),\n",
              " (0.6974374055862427, 'mumbai'),\n",
              " (0.648612916469574, 'jaipur'),\n",
              " (0.6349966526031494, 'kolkata'),\n",
              " (0.6279922723770142, 'pune'),\n",
              " (0.6277596354484558, 'bangalore'),\n",
              " (0.6044078469276428, 'hyderabad'),\n",
              " (0.6021745800971985, 'noida'),\n",
              " (0.6018899083137512, 'bhubaneswar'),\n",
              " (0.599077582359314, 'nashik')]"
            ]
          },
          "metadata": {},
          "execution_count": 13
        }
      ]
    },
    {
      "cell_type": "markdown",
      "source": [
        "*It will first understand the relationship between `berlin` and `germany` and then predict the output for ` India`*"
      ],
      "metadata": {
        "id": "pU9AOXuMEsSb"
      }
    },
    {
      "cell_type": "code",
      "source": [
        "model_en.get_analogies(\"driving\", \"car\", \"phone\")"
      ],
      "metadata": {
        "colab": {
          "base_uri": "https://localhost:8080/"
        },
        "id": "dh-zTnT4EoJM",
        "outputId": "27684738-d11a-4fe9-ef5d-5953d5cad5eb"
      },
      "execution_count": null,
      "outputs": [
        {
          "output_type": "execute_result",
          "data": {
            "text/plain": [
              "[(0.610385537147522, 'texting'),\n",
              " (0.5203558802604675, 'phone-calling'),\n",
              " (0.5153835415840149, 'cellphone'),\n",
              " (0.5135326981544495, 'cell-phone'),\n",
              " (0.5117910504341125, 'dialing'),\n",
              " (0.5087355971336365, 'texing'),\n",
              " (0.5079342722892761, 'text-messaging'),\n",
              " (0.500900387763977, 'txting'),\n",
              " (0.4960441589355469, 'texting.'),\n",
              " (0.4951859414577484, 'Texting')]"
            ]
          },
          "metadata": {},
          "execution_count": 14
        }
      ]
    },
    {
      "cell_type": "code",
      "source": [
        "model_en.get_analogies(\"Lion\", \"carnivorous\", \"deer\")"
      ],
      "metadata": {
        "colab": {
          "base_uri": "https://localhost:8080/"
        },
        "id": "fBlfb_XeFLq8",
        "outputId": "40ee5927-c047-4d12-b82c-0afcace37f18"
      },
      "execution_count": null,
      "outputs": [
        {
          "output_type": "execute_result",
          "data": {
            "text/plain": [
              "[(0.5342251658439636, 'Deer'),\n",
              " (0.4726506173610687, 'deers'),\n",
              " (0.46525630354881287, 'Leopard'),\n",
              " (0.46158280968666077, 'Deers'),\n",
              " (0.4545937776565552, 'lion'),\n",
              " (0.44877374172210693, 'elk'),\n",
              " (0.44499215483665466, 'Stag'),\n",
              " (0.4286802411079407, 'Lion.'),\n",
              " (0.4252222180366516, 'Bear'),\n",
              " (0.42179834842681885, 'Lion-')]"
            ]
          },
          "metadata": {},
          "execution_count": 18
        }
      ]
    },
    {
      "cell_type": "markdown",
      "source": [
        "## Custom train word embeddings on indian food receipes 😋\n"
      ],
      "metadata": {
        "id": "z7GwCIw_JByM"
      }
    },
    {
      "cell_type": "code",
      "source": [
        "import pandas as pd\n",
        "import numpy as np\n",
        "\n",
        "df = pd.read_csv('/content/Cleaned_Indian_Food_Dataset.csv')"
      ],
      "metadata": {
        "id": "rVdLw27YHx9t"
      },
      "execution_count": null,
      "outputs": []
    },
    {
      "cell_type": "code",
      "source": [
        "df.head()"
      ],
      "metadata": {
        "colab": {
          "base_uri": "https://localhost:8080/",
          "height": 417
        },
        "id": "aqSilfJbJiMc",
        "outputId": "f98756f4-eb6a-4a66-8371-ad8faec6fe36"
      },
      "execution_count": null,
      "outputs": [
        {
          "output_type": "execute_result",
          "data": {
            "text/plain": [
              "                                TranslatedRecipeName  \\\n",
              "0                               Masala Karela Recipe   \n",
              "1                         Spicy Tomato Rice (Recipe)   \n",
              "2  Ragi Semiya Upma Recipe - Ragi Millet Vermicel...   \n",
              "3  Gongura Chicken Curry Recipe - Andhra Style Go...   \n",
              "4  Andhra Style Alam Pachadi Recipe - Adrak Chutn...   \n",
              "\n",
              "                               TranslatedIngredients  TotalTimeInMins  \\\n",
              "0  1 tablespoon Red Chilli powder,3 tablespoon Gr...               45   \n",
              "1   2 teaspoon cashew - or peanuts, 1/2 Teaspoon ...               15   \n",
              "2  1 Onion - sliced,1 teaspoon White Urad Dal (Sp...               50   \n",
              "3  1/2 teaspoon Turmeric powder (Haldi),1 tablesp...               45   \n",
              "4   oil - as per use, 1 tablespoon coriander seed...               30   \n",
              "\n",
              "                Cuisine                             TranslatedInstructions  \\\n",
              "0                Indian  To begin making the Masala Karela Recipe,de-se...   \n",
              "1  South Indian Recipes  To make tomato puliogere, first cut the tomato...   \n",
              "2  South Indian Recipes  To begin making the Ragi Vermicelli Recipe, fi...   \n",
              "3                Andhra  To begin making Gongura Chicken Curry Recipe f...   \n",
              "4                Andhra  To make Andhra Style Alam Pachadi, first heat ...   \n",
              "\n",
              "                                                 URL  \\\n",
              "0  https://www.archanaskitchen.com/masala-karela-...   \n",
              "1  https://www.archanaskitchen.com/spicy-tomato-r...   \n",
              "2  https://www.archanaskitchen.com/ragi-vermicell...   \n",
              "3  https://www.archanaskitchen.com/gongura-chicke...   \n",
              "4  https://www.archanaskitchen.com/andhra-style-a...   \n",
              "\n",
              "                                 Cleaned-Ingredients  \\\n",
              "0  salt,amchur (dry mango powder),karela (bitter ...   \n",
              "1  tomato,salt,chickpea lentils,green chilli,rice...   \n",
              "2  salt,rice vermicelli noodles (thin),asafoetida...   \n",
              "3  tomato,salt,ginger,sorrel leaves (gongura),fen...   \n",
              "4  tomato,salt,ginger,red chillies,curry,asafoeti...   \n",
              "\n",
              "                                           image-url  Ingredient-count  \n",
              "0  https://www.archanaskitchen.com/images/archana...                10  \n",
              "1  https://www.archanaskitchen.com/images/archana...                12  \n",
              "2  https://www.archanaskitchen.com/images/archana...                12  \n",
              "3  https://www.archanaskitchen.com/images/archana...                15  \n",
              "4  https://www.archanaskitchen.com/images/archana...                12  "
            ],
            "text/html": [
              "\n",
              "  <div id=\"df-66bef547-ed25-44aa-9a50-b7e308cb8f62\" class=\"colab-df-container\">\n",
              "    <div>\n",
              "<style scoped>\n",
              "    .dataframe tbody tr th:only-of-type {\n",
              "        vertical-align: middle;\n",
              "    }\n",
              "\n",
              "    .dataframe tbody tr th {\n",
              "        vertical-align: top;\n",
              "    }\n",
              "\n",
              "    .dataframe thead th {\n",
              "        text-align: right;\n",
              "    }\n",
              "</style>\n",
              "<table border=\"1\" class=\"dataframe\">\n",
              "  <thead>\n",
              "    <tr style=\"text-align: right;\">\n",
              "      <th></th>\n",
              "      <th>TranslatedRecipeName</th>\n",
              "      <th>TranslatedIngredients</th>\n",
              "      <th>TotalTimeInMins</th>\n",
              "      <th>Cuisine</th>\n",
              "      <th>TranslatedInstructions</th>\n",
              "      <th>URL</th>\n",
              "      <th>Cleaned-Ingredients</th>\n",
              "      <th>image-url</th>\n",
              "      <th>Ingredient-count</th>\n",
              "    </tr>\n",
              "  </thead>\n",
              "  <tbody>\n",
              "    <tr>\n",
              "      <th>0</th>\n",
              "      <td>Masala Karela Recipe</td>\n",
              "      <td>1 tablespoon Red Chilli powder,3 tablespoon Gr...</td>\n",
              "      <td>45</td>\n",
              "      <td>Indian</td>\n",
              "      <td>To begin making the Masala Karela Recipe,de-se...</td>\n",
              "      <td>https://www.archanaskitchen.com/masala-karela-...</td>\n",
              "      <td>salt,amchur (dry mango powder),karela (bitter ...</td>\n",
              "      <td>https://www.archanaskitchen.com/images/archana...</td>\n",
              "      <td>10</td>\n",
              "    </tr>\n",
              "    <tr>\n",
              "      <th>1</th>\n",
              "      <td>Spicy Tomato Rice (Recipe)</td>\n",
              "      <td>2 teaspoon cashew - or peanuts, 1/2 Teaspoon ...</td>\n",
              "      <td>15</td>\n",
              "      <td>South Indian Recipes</td>\n",
              "      <td>To make tomato puliogere, first cut the tomato...</td>\n",
              "      <td>https://www.archanaskitchen.com/spicy-tomato-r...</td>\n",
              "      <td>tomato,salt,chickpea lentils,green chilli,rice...</td>\n",
              "      <td>https://www.archanaskitchen.com/images/archana...</td>\n",
              "      <td>12</td>\n",
              "    </tr>\n",
              "    <tr>\n",
              "      <th>2</th>\n",
              "      <td>Ragi Semiya Upma Recipe - Ragi Millet Vermicel...</td>\n",
              "      <td>1 Onion - sliced,1 teaspoon White Urad Dal (Sp...</td>\n",
              "      <td>50</td>\n",
              "      <td>South Indian Recipes</td>\n",
              "      <td>To begin making the Ragi Vermicelli Recipe, fi...</td>\n",
              "      <td>https://www.archanaskitchen.com/ragi-vermicell...</td>\n",
              "      <td>salt,rice vermicelli noodles (thin),asafoetida...</td>\n",
              "      <td>https://www.archanaskitchen.com/images/archana...</td>\n",
              "      <td>12</td>\n",
              "    </tr>\n",
              "    <tr>\n",
              "      <th>3</th>\n",
              "      <td>Gongura Chicken Curry Recipe - Andhra Style Go...</td>\n",
              "      <td>1/2 teaspoon Turmeric powder (Haldi),1 tablesp...</td>\n",
              "      <td>45</td>\n",
              "      <td>Andhra</td>\n",
              "      <td>To begin making Gongura Chicken Curry Recipe f...</td>\n",
              "      <td>https://www.archanaskitchen.com/gongura-chicke...</td>\n",
              "      <td>tomato,salt,ginger,sorrel leaves (gongura),fen...</td>\n",
              "      <td>https://www.archanaskitchen.com/images/archana...</td>\n",
              "      <td>15</td>\n",
              "    </tr>\n",
              "    <tr>\n",
              "      <th>4</th>\n",
              "      <td>Andhra Style Alam Pachadi Recipe - Adrak Chutn...</td>\n",
              "      <td>oil - as per use, 1 tablespoon coriander seed...</td>\n",
              "      <td>30</td>\n",
              "      <td>Andhra</td>\n",
              "      <td>To make Andhra Style Alam Pachadi, first heat ...</td>\n",
              "      <td>https://www.archanaskitchen.com/andhra-style-a...</td>\n",
              "      <td>tomato,salt,ginger,red chillies,curry,asafoeti...</td>\n",
              "      <td>https://www.archanaskitchen.com/images/archana...</td>\n",
              "      <td>12</td>\n",
              "    </tr>\n",
              "  </tbody>\n",
              "</table>\n",
              "</div>\n",
              "    <div class=\"colab-df-buttons\">\n",
              "\n",
              "  <div class=\"colab-df-container\">\n",
              "    <button class=\"colab-df-convert\" onclick=\"convertToInteractive('df-66bef547-ed25-44aa-9a50-b7e308cb8f62')\"\n",
              "            title=\"Convert this dataframe to an interactive table.\"\n",
              "            style=\"display:none;\">\n",
              "\n",
              "  <svg xmlns=\"http://www.w3.org/2000/svg\" height=\"24px\" viewBox=\"0 -960 960 960\">\n",
              "    <path d=\"M120-120v-720h720v720H120Zm60-500h600v-160H180v160Zm220 220h160v-160H400v160Zm0 220h160v-160H400v160ZM180-400h160v-160H180v160Zm440 0h160v-160H620v160ZM180-180h160v-160H180v160Zm440 0h160v-160H620v160Z\"/>\n",
              "  </svg>\n",
              "    </button>\n",
              "\n",
              "  <style>\n",
              "    .colab-df-container {\n",
              "      display:flex;\n",
              "      gap: 12px;\n",
              "    }\n",
              "\n",
              "    .colab-df-convert {\n",
              "      background-color: #E8F0FE;\n",
              "      border: none;\n",
              "      border-radius: 50%;\n",
              "      cursor: pointer;\n",
              "      display: none;\n",
              "      fill: #1967D2;\n",
              "      height: 32px;\n",
              "      padding: 0 0 0 0;\n",
              "      width: 32px;\n",
              "    }\n",
              "\n",
              "    .colab-df-convert:hover {\n",
              "      background-color: #E2EBFA;\n",
              "      box-shadow: 0px 1px 2px rgba(60, 64, 67, 0.3), 0px 1px 3px 1px rgba(60, 64, 67, 0.15);\n",
              "      fill: #174EA6;\n",
              "    }\n",
              "\n",
              "    .colab-df-buttons div {\n",
              "      margin-bottom: 4px;\n",
              "    }\n",
              "\n",
              "    [theme=dark] .colab-df-convert {\n",
              "      background-color: #3B4455;\n",
              "      fill: #D2E3FC;\n",
              "    }\n",
              "\n",
              "    [theme=dark] .colab-df-convert:hover {\n",
              "      background-color: #434B5C;\n",
              "      box-shadow: 0px 1px 3px 1px rgba(0, 0, 0, 0.15);\n",
              "      filter: drop-shadow(0px 1px 2px rgba(0, 0, 0, 0.3));\n",
              "      fill: #FFFFFF;\n",
              "    }\n",
              "  </style>\n",
              "\n",
              "    <script>\n",
              "      const buttonEl =\n",
              "        document.querySelector('#df-66bef547-ed25-44aa-9a50-b7e308cb8f62 button.colab-df-convert');\n",
              "      buttonEl.style.display =\n",
              "        google.colab.kernel.accessAllowed ? 'block' : 'none';\n",
              "\n",
              "      async function convertToInteractive(key) {\n",
              "        const element = document.querySelector('#df-66bef547-ed25-44aa-9a50-b7e308cb8f62');\n",
              "        const dataTable =\n",
              "          await google.colab.kernel.invokeFunction('convertToInteractive',\n",
              "                                                    [key], {});\n",
              "        if (!dataTable) return;\n",
              "\n",
              "        const docLinkHtml = 'Like what you see? Visit the ' +\n",
              "          '<a target=\"_blank\" href=https://colab.research.google.com/notebooks/data_table.ipynb>data table notebook</a>'\n",
              "          + ' to learn more about interactive tables.';\n",
              "        element.innerHTML = '';\n",
              "        dataTable['output_type'] = 'display_data';\n",
              "        await google.colab.output.renderOutput(dataTable, element);\n",
              "        const docLink = document.createElement('div');\n",
              "        docLink.innerHTML = docLinkHtml;\n",
              "        element.appendChild(docLink);\n",
              "      }\n",
              "    </script>\n",
              "  </div>\n",
              "\n",
              "\n",
              "<div id=\"df-61cc5626-432f-4b9c-9af5-34746886a893\">\n",
              "  <button class=\"colab-df-quickchart\" onclick=\"quickchart('df-61cc5626-432f-4b9c-9af5-34746886a893')\"\n",
              "            title=\"Suggest charts\"\n",
              "            style=\"display:none;\">\n",
              "\n",
              "<svg xmlns=\"http://www.w3.org/2000/svg\" height=\"24px\"viewBox=\"0 0 24 24\"\n",
              "     width=\"24px\">\n",
              "    <g>\n",
              "        <path d=\"M19 3H5c-1.1 0-2 .9-2 2v14c0 1.1.9 2 2 2h14c1.1 0 2-.9 2-2V5c0-1.1-.9-2-2-2zM9 17H7v-7h2v7zm4 0h-2V7h2v10zm4 0h-2v-4h2v4z\"/>\n",
              "    </g>\n",
              "</svg>\n",
              "  </button>\n",
              "\n",
              "<style>\n",
              "  .colab-df-quickchart {\n",
              "      --bg-color: #E8F0FE;\n",
              "      --fill-color: #1967D2;\n",
              "      --hover-bg-color: #E2EBFA;\n",
              "      --hover-fill-color: #174EA6;\n",
              "      --disabled-fill-color: #AAA;\n",
              "      --disabled-bg-color: #DDD;\n",
              "  }\n",
              "\n",
              "  [theme=dark] .colab-df-quickchart {\n",
              "      --bg-color: #3B4455;\n",
              "      --fill-color: #D2E3FC;\n",
              "      --hover-bg-color: #434B5C;\n",
              "      --hover-fill-color: #FFFFFF;\n",
              "      --disabled-bg-color: #3B4455;\n",
              "      --disabled-fill-color: #666;\n",
              "  }\n",
              "\n",
              "  .colab-df-quickchart {\n",
              "    background-color: var(--bg-color);\n",
              "    border: none;\n",
              "    border-radius: 50%;\n",
              "    cursor: pointer;\n",
              "    display: none;\n",
              "    fill: var(--fill-color);\n",
              "    height: 32px;\n",
              "    padding: 0;\n",
              "    width: 32px;\n",
              "  }\n",
              "\n",
              "  .colab-df-quickchart:hover {\n",
              "    background-color: var(--hover-bg-color);\n",
              "    box-shadow: 0 1px 2px rgba(60, 64, 67, 0.3), 0 1px 3px 1px rgba(60, 64, 67, 0.15);\n",
              "    fill: var(--button-hover-fill-color);\n",
              "  }\n",
              "\n",
              "  .colab-df-quickchart-complete:disabled,\n",
              "  .colab-df-quickchart-complete:disabled:hover {\n",
              "    background-color: var(--disabled-bg-color);\n",
              "    fill: var(--disabled-fill-color);\n",
              "    box-shadow: none;\n",
              "  }\n",
              "\n",
              "  .colab-df-spinner {\n",
              "    border: 2px solid var(--fill-color);\n",
              "    border-color: transparent;\n",
              "    border-bottom-color: var(--fill-color);\n",
              "    animation:\n",
              "      spin 1s steps(1) infinite;\n",
              "  }\n",
              "\n",
              "  @keyframes spin {\n",
              "    0% {\n",
              "      border-color: transparent;\n",
              "      border-bottom-color: var(--fill-color);\n",
              "      border-left-color: var(--fill-color);\n",
              "    }\n",
              "    20% {\n",
              "      border-color: transparent;\n",
              "      border-left-color: var(--fill-color);\n",
              "      border-top-color: var(--fill-color);\n",
              "    }\n",
              "    30% {\n",
              "      border-color: transparent;\n",
              "      border-left-color: var(--fill-color);\n",
              "      border-top-color: var(--fill-color);\n",
              "      border-right-color: var(--fill-color);\n",
              "    }\n",
              "    40% {\n",
              "      border-color: transparent;\n",
              "      border-right-color: var(--fill-color);\n",
              "      border-top-color: var(--fill-color);\n",
              "    }\n",
              "    60% {\n",
              "      border-color: transparent;\n",
              "      border-right-color: var(--fill-color);\n",
              "    }\n",
              "    80% {\n",
              "      border-color: transparent;\n",
              "      border-right-color: var(--fill-color);\n",
              "      border-bottom-color: var(--fill-color);\n",
              "    }\n",
              "    90% {\n",
              "      border-color: transparent;\n",
              "      border-bottom-color: var(--fill-color);\n",
              "    }\n",
              "  }\n",
              "</style>\n",
              "\n",
              "  <script>\n",
              "    async function quickchart(key) {\n",
              "      const quickchartButtonEl =\n",
              "        document.querySelector('#' + key + ' button');\n",
              "      quickchartButtonEl.disabled = true;  // To prevent multiple clicks.\n",
              "      quickchartButtonEl.classList.add('colab-df-spinner');\n",
              "      try {\n",
              "        const charts = await google.colab.kernel.invokeFunction(\n",
              "            'suggestCharts', [key], {});\n",
              "      } catch (error) {\n",
              "        console.error('Error during call to suggestCharts:', error);\n",
              "      }\n",
              "      quickchartButtonEl.classList.remove('colab-df-spinner');\n",
              "      quickchartButtonEl.classList.add('colab-df-quickchart-complete');\n",
              "    }\n",
              "    (() => {\n",
              "      let quickchartButtonEl =\n",
              "        document.querySelector('#df-61cc5626-432f-4b9c-9af5-34746886a893 button');\n",
              "      quickchartButtonEl.style.display =\n",
              "        google.colab.kernel.accessAllowed ? 'block' : 'none';\n",
              "    })();\n",
              "  </script>\n",
              "</div>\n",
              "\n",
              "    </div>\n",
              "  </div>\n"
            ],
            "application/vnd.google.colaboratory.intrinsic+json": {
              "type": "dataframe",
              "variable_name": "df",
              "summary": "{\n  \"name\": \"df\",\n  \"rows\": 5938,\n  \"fields\": [\n    {\n      \"column\": \"TranslatedRecipeName\",\n      \"properties\": {\n        \"dtype\": \"string\",\n        \"num_unique_values\": 5928,\n        \"samples\": [\n          \"Moong Dal Methi Ki Sabzi (Recipe in Hindi)\",\n          \"Corn And Bell Pepper Sandwich Recipe\",\n          \"Savoury Yogurt Parfait Recipe\"\n        ],\n        \"semantic_type\": \"\",\n        \"description\": \"\"\n      }\n    },\n    {\n      \"column\": \"TranslatedIngredients\",\n      \"properties\": {\n        \"dtype\": \"string\",\n        \"num_unique_values\": 5934,\n        \"samples\": [\n          \"1/2 cup Cranberries,1 tablespoon Brown Sugar (Demerara Sugar),1 teaspoon Baking powder,1 tablespoon Cranberries,1-1/2 cups Whole Wheat Flour,1 teaspoon Vanilla Extract,3/4 cup Coconut Sugar,1 tablespoon Lemon zest,1/2 cup Buttermilk,2 Whole Eggs - or 2 flax eggs,1 tablespoon Corn flakes - or meuseli\",\n          \"Salt - as required,Sunflower Oil - as required,1 Green Chilli,1 teaspoon Cumin seeds (Jeera),Coriander (Dhania) Leaves - small bunch,1 Onion,1/2 cup Chana dal (Bengal Gram Dal),1/2 teaspoon Red Chilli powder,6 cloves Garlic\",\n          \"Salt - as required,2 sprig Coriander (Dhania) Leaves - finely chopped,1 inch Ginger - chopped,1/2 teaspoon Coriander Powder (Dhania),1 tablespoon Kasuri Methi (Dried Fenugreek Leaves),3 Papad,1/2 cup Curd (Dahi / Yogurt) - whisked,1 Green Chilli - chopped,1/2 teaspoon Red Chilli powder,1 tablespoon Ghee,1/4 teaspoon Asafoetida (hing),3 cloves Garlic,1/2 teaspoon Cumin (Jeera) seeds,1/4 teaspoon Turmeric powder (Haldi),2 Tomato - pureed\"\n        ],\n        \"semantic_type\": \"\",\n        \"description\": \"\"\n      }\n    },\n    {\n      \"column\": \"TotalTimeInMins\",\n      \"properties\": {\n        \"dtype\": \"number\",\n        \"std\": 86,\n        \"min\": 0,\n        \"max\": 2925,\n        \"num_unique_values\": 161,\n        \"samples\": [\n          400,\n          62,\n          215\n        ],\n        \"semantic_type\": \"\",\n        \"description\": \"\"\n      }\n    },\n    {\n      \"column\": \"Cuisine\",\n      \"properties\": {\n        \"dtype\": \"category\",\n        \"num_unique_values\": 82,\n        \"samples\": [\n          \"Goan Recipes\",\n          \"Indian\",\n          \"Middle Eastern\"\n        ],\n        \"semantic_type\": \"\",\n        \"description\": \"\"\n      }\n    },\n    {\n      \"column\": \"TranslatedInstructions\",\n      \"properties\": {\n        \"dtype\": \"string\",\n        \"num_unique_values\": 5937,\n        \"samples\": [\n          \"To begin making the Szechuan Style Chinese Samosa recipe, first prep all the ingredients and keep them ready.\\nWe will make the dough first and then fill them and proceed to deep fry the Chinese veg samosa in pure olive oil.To begin making the dough for the samosa crust, combine all the ingredients for the dough in a large mixing bowl.\\nRub the olive oil into the flour till you see coarse crumbs.Add  little water at a time and knead to make a firm and yet smooth dough.\\nCover the dough and keep it aside to rest while we prepare the Chinese filling.For the stuffing, heat olive oil in a wok or a heavy bottomed pan.\\nAdd the ginger, garlic, green chilies and spring onions and stir fry for a few seconds until you can smell the aromas coming through.Add the carrots, beans, capsicum and cabbage and stir fry on high heat until it is cooked through.\\nThe vegetables will be cooked yet firm.Once done, add the cooked noodles, that are roughly chopped, the chili sauce, salt and pepper.\\nStir together until the filling is combined with all the ingredients.\\nCheck the taste and adjust the salt and chili.Turn off the heat and keep the filling aside to cool.Preheat the oil for deep frying the samosaDivide the samosa dough into 12 equal portions.\\nDust it in a little flour and roll into a small square.Place a small portion of the Chinese filling into the rolled out dough.\\nAt this stage you can fold it like a wonton by bringing the edges together.\\nSeal the edges by pinching them well, so it gives a shape and stands out.Proceed the same way to make similar Szechuan Style Chinese Samosas.\\nPlace the Chinese Samosas in oil and deep fry them until crisp and golden brown.Once done, remove the Szechuan Style Chinese Samosas from the oven and serve.Serve the Veg Chinese Samosa along with a Schezwan sauce as an appetizer or a evening tea time snack for parties.\\n\",\n          \"To begin making the Mixed Vegetable Noodle Cutlet Recipe, Cook your instant noodles without the tastemaker according the instructions on the packet.\\n Once the noodles are cooked, drain any extra water and set the noodles aside to cool.In a large bowl, mash the boiled potato and mix with grated carrots and capsicum.\\nAdd, the cooked noodles and all the remaining cutlet ingredients except the crumbs and the oat bran and combine well.\\nCheck the salt and spices and adjust to suit your taste.Divide the cutlet mixture into equal parts and shape them into round discs of about an inch thickness.Combine the breadcrumbs and oat bran in a platter.\\nDip the vegetable noodle cutlet on the crumb-bran mixture.\\nHeat a skillet on medium heat and place the shaped noodle cutlets on them.\\nDrizzle a bit of oil over the cutlets and pan fry them until brown and crisp on both sides.Serve the Mixed Vegetable Noodle Cutlet Recipe as an appetizer, a tea time snack or even into the snack box for kids.\\nServe it along with a classic tomato ketchup or even a Yogurt Dip.\\n\",\n          \"To begin making the Gajar Shalgam Ka Paani Wala Achar recipe, cut vegetables into thick slices and wash it nicely.Add 1-1/2 cups of water and the vegetables in a pressure cooker and pressure cook for 1 whistle.Turn off the heat and allow the steam to release naturally.Once the steam is completely released, transfer the vegetables along with the water into a pan and keep aside.In a separate pan, dry roast mustard seeds, cumin and fennel along with some fenugreek seeds and crush them partially using a mortar pestle.Add vinegar, salt and the crushed spices to the cooked turnip and carrot and stir nicely.\\nGive a gentle boil and turn off the heat.Allow the pickle to cool down completely and later transfer it in a jar or any container and store in fridge.Serve Gajar Shalgam Ka Paani Wala Achar with Whole Wheat Lachha Paratha, Gajar Paratha or any other stuffed paratha for breakfast or dinner.\"\n        ],\n        \"semantic_type\": \"\",\n        \"description\": \"\"\n      }\n    },\n    {\n      \"column\": \"URL\",\n      \"properties\": {\n        \"dtype\": \"string\",\n        \"num_unique_values\": 5938,\n        \"samples\": [\n          \"https://www.archanaskitchen.com/spicy-thai-style-tofu-with-quinoa-recipe\",\n          \"https://www.archanaskitchen.com/mango-pickle-andhra-avakaya-recipe\",\n          \"https://www.archanaskitchen.com/chicken-65-recipe\"\n        ],\n        \"semantic_type\": \"\",\n        \"description\": \"\"\n      }\n    },\n    {\n      \"column\": \"Cleaned-Ingredients\",\n      \"properties\": {\n        \"dtype\": \"string\",\n        \"num_unique_values\": 5932,\n        \"samples\": [\n          \"coconut sugar,baking powder,wheat flour,cranberries,vanilla,lemon,brown sugar (demerara sugar),buttermilk,eggs flax eggs,corn flakes meuseli\",\n          \"coriander (dhania),salt,green chilli,red chilli powder,cloves garlic,onion,cumin seeds (jeera),chana dal (bengal gram dal),sunflower oil\",\n          \"salt,ginger,arhar dal (split toor dal),tamarind water,mustard seeds,brinjal (baingan eggsplant),coconut,jaggery,curry leaves,white urad dal (split),coriander (dhania) seeds,dry red chillies,black pepper powder,boiled peanuts,turmeric powder,chana dal (bengal gram dal),sunflower oil\"\n        ],\n        \"semantic_type\": \"\",\n        \"description\": \"\"\n      }\n    },\n    {\n      \"column\": \"image-url\",\n      \"properties\": {\n        \"dtype\": \"string\",\n        \"num_unique_values\": 5653,\n        \"samples\": [\n          \"https://www.archanaskitchen.com/images/archanaskitchen/1-Author/Smitha_Kalluraya/menthe-hittu-recipe-roasted-fenugreek-powder.jpg\",\n          \"https://www.archanaskitchen.com/images/archanaskitchen/1-Author/Lubna_Karim/BesanOats_Ladoo.jpg\",\n          \"https://www.archanaskitchen.com/images/archanaskitchen/1-Author/Roop/Dalia_Khichdi_Recipe_Broken_Wheat_Khichdi-1_preview.jpeg\"\n        ],\n        \"semantic_type\": \"\",\n        \"description\": \"\"\n      }\n    },\n    {\n      \"column\": \"Ingredient-count\",\n      \"properties\": {\n        \"dtype\": \"number\",\n        \"std\": 4,\n        \"min\": 3,\n        \"max\": 34,\n        \"num_unique_values\": 29,\n        \"samples\": [\n          32,\n          24,\n          20\n        ],\n        \"semantic_type\": \"\",\n        \"description\": \"\"\n      }\n    }\n  ]\n}"
            }
          },
          "metadata": {},
          "execution_count": 10
        }
      ]
    },
    {
      "cell_type": "code",
      "source": [
        "df.shape"
      ],
      "metadata": {
        "colab": {
          "base_uri": "https://localhost:8080/"
        },
        "id": "4Eq57W8pJjnK",
        "outputId": "eb5991ea-9802-43ad-a61a-fd09c9768de6"
      },
      "execution_count": null,
      "outputs": [
        {
          "output_type": "execute_result",
          "data": {
            "text/plain": [
              "(5938, 9)"
            ]
          },
          "metadata": {},
          "execution_count": 11
        }
      ]
    },
    {
      "cell_type": "code",
      "source": [
        "df.columns"
      ],
      "metadata": {
        "colab": {
          "base_uri": "https://localhost:8080/"
        },
        "id": "2K6N8TqoJlJW",
        "outputId": "1a30dde6-1f3a-4597-d410-c0a898710865"
      },
      "execution_count": null,
      "outputs": [
        {
          "output_type": "execute_result",
          "data": {
            "text/plain": [
              "Index(['TranslatedRecipeName', 'TranslatedIngredients', 'TotalTimeInMins',\n",
              "       'Cuisine', 'TranslatedInstructions', 'URL', 'Cleaned-Ingredients',\n",
              "       'image-url', 'Ingredient-count'],\n",
              "      dtype='object')"
            ]
          },
          "metadata": {},
          "execution_count": 12
        }
      ]
    },
    {
      "cell_type": "code",
      "source": [
        "df['TranslatedInstructions'][0]"
      ],
      "metadata": {
        "colab": {
          "base_uri": "https://localhost:8080/",
          "height": 123
        },
        "id": "1LwBVzNPJ1rx",
        "outputId": "a9b1b0ec-d3ed-4211-d817-4832919340e3"
      },
      "execution_count": null,
      "outputs": [
        {
          "output_type": "execute_result",
          "data": {
            "text/plain": [
              "'To begin making the Masala Karela Recipe,de-seed the karela and slice.\\nDo not remove the skin as the skin has all the nutrients.\\nAdd the karela to the pressure cooker with 3 tablespoon of water, salt and turmeric powder and pressure cook for three whistles.\\nRelease the pressure immediately and open the lids.\\nKeep aside.Heat oil in a heavy bottomed pan or a kadhai.\\nAdd cumin seeds and let it sizzle.Once the cumin seeds have sizzled, add onions and saute them till it turns golden brown in color.Add the karela, red chilli powder, amchur powder, coriander powder and besan.\\nStir to combine the masalas into the karela.Drizzle a little extra oil on the top and mix again.\\nCover the pan and simmer Masala Karela stirring occasionally until everything comes together well.\\nTurn off the heat.Transfer Masala Karela into a serving bowl and serve.Serve Masala Karela along with Panchmel Dal and Phulka for a weekday meal with your family.\\n'"
            ],
            "application/vnd.google.colaboratory.intrinsic+json": {
              "type": "string"
            }
          },
          "metadata": {},
          "execution_count": 13
        }
      ]
    },
    {
      "cell_type": "code",
      "source": [
        "# performing preprocessing with regex.\n",
        "import re\n",
        "\n",
        "text = 'To begin making the Masala Karela Recipe,de-seed the karela and slice.\\nDo not remove the skin as the skin has all the nutrients.\\nAdd the karela to the pressure cooker with 3 tablespoon of water, salt and turmeric powder and pressure cook for three whistles.\\nRelease the pressure immediately and open the lids.\\nKeep aside.Heat oil in a heavy bottomed pan or a kadhai.\\nAdd cumin seeds and let it sizzle.Once the cumin seeds have sizzled, add onions and saute them till it turns golden brown in color.Add the karela, red chilli powder, amchur powder, coriander powder and besan.\\nStir to combine the masalas into the karela.Drizzle a little extra oil on the top and mix again.\\nCover the pan and simmer Masala Karela stirring occasionally until everything comes together well.\\nTurn off the heat.Transfer Masala Karela into a serving bowl and serve.Serve Masala Karela along with Panchmel Dal and Phulka for a weekday meal with your family.\\n'"
      ],
      "metadata": {
        "id": "40oHLfcPJ6Dz"
      },
      "execution_count": null,
      "outputs": []
    },
    {
      "cell_type": "code",
      "source": [
        "re.sub(r'[^\\w\\s]', ' ', text, flags=re.MULTILINE)"
      ],
      "metadata": {
        "colab": {
          "base_uri": "https://localhost:8080/",
          "height": 123
        },
        "id": "k0GJ211WKsR8",
        "outputId": "2a21c7e1-936b-48e1-aca3-b81548a69a09"
      },
      "execution_count": null,
      "outputs": [
        {
          "output_type": "execute_result",
          "data": {
            "text/plain": [
              "'To begin making the Masala Karela Recipe de seed the karela and slice \\nDo not remove the skin as the skin has all the nutrients \\nAdd the karela to the pressure cooker with 3 tablespoon of water  salt and turmeric powder and pressure cook for three whistles \\nRelease the pressure immediately and open the lids \\nKeep aside Heat oil in a heavy bottomed pan or a kadhai \\nAdd cumin seeds and let it sizzle Once the cumin seeds have sizzled  add onions and saute them till it turns golden brown in color Add the karela  red chilli powder  amchur powder  coriander powder and besan \\nStir to combine the masalas into the karela Drizzle a little extra oil on the top and mix again \\nCover the pan and simmer Masala Karela stirring occasionally until everything comes together well \\nTurn off the heat Transfer Masala Karela into a serving bowl and serve Serve Masala Karela along with Panchmel Dal and Phulka for a weekday meal with your family \\n'"
            ],
            "application/vnd.google.colaboratory.intrinsic+json": {
              "type": "string"
            }
          },
          "metadata": {},
          "execution_count": 15
        }
      ]
    },
    {
      "cell_type": "code",
      "source": [
        "# removing extra spaces\n",
        "re.sub(\" +\", \" \", text, flags=re.MULTILINE)"
      ],
      "metadata": {
        "colab": {
          "base_uri": "https://localhost:8080/",
          "height": 123
        },
        "id": "haVLnF4YK5Js",
        "outputId": "398fe8e9-0f22-45ae-c624-b207d9473313"
      },
      "execution_count": null,
      "outputs": [
        {
          "output_type": "execute_result",
          "data": {
            "text/plain": [
              "'To begin making the Masala Karela Recipe,de-seed the karela and slice.\\nDo not remove the skin as the skin has all the nutrients.\\nAdd the karela to the pressure cooker with 3 tablespoon of water, salt and turmeric powder and pressure cook for three whistles.\\nRelease the pressure immediately and open the lids.\\nKeep aside.Heat oil in a heavy bottomed pan or a kadhai.\\nAdd cumin seeds and let it sizzle.Once the cumin seeds have sizzled, add onions and saute them till it turns golden brown in color.Add the karela, red chilli powder, amchur powder, coriander powder and besan.\\nStir to combine the masalas into the karela.Drizzle a little extra oil on the top and mix again.\\nCover the pan and simmer Masala Karela stirring occasionally until everything comes together well.\\nTurn off the heat.Transfer Masala Karela into a serving bowl and serve.Serve Masala Karela along with Panchmel Dal and Phulka for a weekday meal with your family.\\n'"
            ],
            "application/vnd.google.colaboratory.intrinsic+json": {
              "type": "string"
            }
          },
          "metadata": {},
          "execution_count": 16
        }
      ]
    },
    {
      "cell_type": "code",
      "source": [
        "# removing \\n\n",
        "re.sub(r'[\\n]', ' ', text, flags=re.MULTILINE)"
      ],
      "metadata": {
        "colab": {
          "base_uri": "https://localhost:8080/",
          "height": 123
        },
        "id": "GzeMGwicLYua",
        "outputId": "f24f4b5c-72a7-46c8-ed4b-9a8d9c6a7a49"
      },
      "execution_count": null,
      "outputs": [
        {
          "output_type": "execute_result",
          "data": {
            "text/plain": [
              "'To begin making the Masala Karela Recipe,de-seed the karela and slice. Do not remove the skin as the skin has all the nutrients. Add the karela to the pressure cooker with 3 tablespoon of water, salt and turmeric powder and pressure cook for three whistles. Release the pressure immediately and open the lids. Keep aside.Heat oil in a heavy bottomed pan or a kadhai. Add cumin seeds and let it sizzle.Once the cumin seeds have sizzled, add onions and saute them till it turns golden brown in color.Add the karela, red chilli powder, amchur powder, coriander powder and besan. Stir to combine the masalas into the karela.Drizzle a little extra oil on the top and mix again. Cover the pan and simmer Masala Karela stirring occasionally until everything comes together well. Turn off the heat.Transfer Masala Karela into a serving bowl and serve.Serve Masala Karela along with Panchmel Dal and Phulka for a weekday meal with your family. '"
            ],
            "application/vnd.google.colaboratory.intrinsic+json": {
              "type": "string"
            }
          },
          "metadata": {},
          "execution_count": 17
        }
      ]
    },
    {
      "cell_type": "code",
      "source": [
        "# combining all\n",
        "def preprocess(text):\n",
        "  text = re.sub(r'[^\\w\\s\\']', ' ', text)\n",
        "  text = re.sub(r'[ \\n]+', ' ', text)\n",
        "\n",
        "  return text.strip().lower()"
      ],
      "metadata": {
        "id": "0Whj4lM0Lu5n"
      },
      "execution_count": null,
      "outputs": []
    },
    {
      "cell_type": "code",
      "source": [
        "preprocess(text)"
      ],
      "metadata": {
        "colab": {
          "base_uri": "https://localhost:8080/",
          "height": 123
        },
        "id": "T4Gosau5MQe_",
        "outputId": "438f6dc4-efa0-4a37-bf89-c5a56b81d40e"
      },
      "execution_count": null,
      "outputs": [
        {
          "output_type": "execute_result",
          "data": {
            "text/plain": [
              "'to begin making the masala karela recipe de seed the karela and slice do not remove the skin as the skin has all the nutrients add the karela to the pressure cooker with 3 tablespoon of water salt and turmeric powder and pressure cook for three whistles release the pressure immediately and open the lids keep aside heat oil in a heavy bottomed pan or a kadhai add cumin seeds and let it sizzle once the cumin seeds have sizzled add onions and saute them till it turns golden brown in color add the karela red chilli powder amchur powder coriander powder and besan stir to combine the masalas into the karela drizzle a little extra oil on the top and mix again cover the pan and simmer masala karela stirring occasionally until everything comes together well turn off the heat transfer masala karela into a serving bowl and serve serve masala karela along with panchmel dal and phulka for a weekday meal with your family'"
            ],
            "application/vnd.google.colaboratory.intrinsic+json": {
              "type": "string"
            }
          },
          "metadata": {},
          "execution_count": 21
        }
      ]
    },
    {
      "cell_type": "code",
      "source": [
        "df.TranslatedInstructions = df.TranslatedInstructions.map(preprocess)"
      ],
      "metadata": {
        "id": "eY6zCOjMMR2D"
      },
      "execution_count": null,
      "outputs": []
    },
    {
      "cell_type": "code",
      "source": [
        "df.head()"
      ],
      "metadata": {
        "colab": {
          "base_uri": "https://localhost:8080/",
          "height": 417
        },
        "id": "Im-2riAwMqGn",
        "outputId": "f548cf5f-76bb-4f06-f42b-98f7be5bf141"
      },
      "execution_count": null,
      "outputs": [
        {
          "output_type": "execute_result",
          "data": {
            "text/plain": [
              "                                TranslatedRecipeName  \\\n",
              "0                               Masala Karela Recipe   \n",
              "1                         Spicy Tomato Rice (Recipe)   \n",
              "2  Ragi Semiya Upma Recipe - Ragi Millet Vermicel...   \n",
              "3  Gongura Chicken Curry Recipe - Andhra Style Go...   \n",
              "4  Andhra Style Alam Pachadi Recipe - Adrak Chutn...   \n",
              "\n",
              "                               TranslatedIngredients  TotalTimeInMins  \\\n",
              "0  1 tablespoon Red Chilli powder,3 tablespoon Gr...               45   \n",
              "1   2 teaspoon cashew - or peanuts, 1/2 Teaspoon ...               15   \n",
              "2  1 Onion - sliced,1 teaspoon White Urad Dal (Sp...               50   \n",
              "3  1/2 teaspoon Turmeric powder (Haldi),1 tablesp...               45   \n",
              "4   oil - as per use, 1 tablespoon coriander seed...               30   \n",
              "\n",
              "                Cuisine                             TranslatedInstructions  \\\n",
              "0                Indian  to begin making the masala karela recipe de se...   \n",
              "1  South Indian Recipes  to make tomato puliogere first cut the tomatoe...   \n",
              "2  South Indian Recipes  to begin making the ragi vermicelli recipe fir...   \n",
              "3                Andhra  to begin making gongura chicken curry recipe f...   \n",
              "4                Andhra  to make andhra style alam pachadi first heat o...   \n",
              "\n",
              "                                                 URL  \\\n",
              "0  https://www.archanaskitchen.com/masala-karela-...   \n",
              "1  https://www.archanaskitchen.com/spicy-tomato-r...   \n",
              "2  https://www.archanaskitchen.com/ragi-vermicell...   \n",
              "3  https://www.archanaskitchen.com/gongura-chicke...   \n",
              "4  https://www.archanaskitchen.com/andhra-style-a...   \n",
              "\n",
              "                                 Cleaned-Ingredients  \\\n",
              "0  salt,amchur (dry mango powder),karela (bitter ...   \n",
              "1  tomato,salt,chickpea lentils,green chilli,rice...   \n",
              "2  salt,rice vermicelli noodles (thin),asafoetida...   \n",
              "3  tomato,salt,ginger,sorrel leaves (gongura),fen...   \n",
              "4  tomato,salt,ginger,red chillies,curry,asafoeti...   \n",
              "\n",
              "                                           image-url  Ingredient-count  \n",
              "0  https://www.archanaskitchen.com/images/archana...                10  \n",
              "1  https://www.archanaskitchen.com/images/archana...                12  \n",
              "2  https://www.archanaskitchen.com/images/archana...                12  \n",
              "3  https://www.archanaskitchen.com/images/archana...                15  \n",
              "4  https://www.archanaskitchen.com/images/archana...                12  "
            ],
            "text/html": [
              "\n",
              "  <div id=\"df-5b0674c8-6d22-4a3b-8d61-ce0bd3c0107b\" class=\"colab-df-container\">\n",
              "    <div>\n",
              "<style scoped>\n",
              "    .dataframe tbody tr th:only-of-type {\n",
              "        vertical-align: middle;\n",
              "    }\n",
              "\n",
              "    .dataframe tbody tr th {\n",
              "        vertical-align: top;\n",
              "    }\n",
              "\n",
              "    .dataframe thead th {\n",
              "        text-align: right;\n",
              "    }\n",
              "</style>\n",
              "<table border=\"1\" class=\"dataframe\">\n",
              "  <thead>\n",
              "    <tr style=\"text-align: right;\">\n",
              "      <th></th>\n",
              "      <th>TranslatedRecipeName</th>\n",
              "      <th>TranslatedIngredients</th>\n",
              "      <th>TotalTimeInMins</th>\n",
              "      <th>Cuisine</th>\n",
              "      <th>TranslatedInstructions</th>\n",
              "      <th>URL</th>\n",
              "      <th>Cleaned-Ingredients</th>\n",
              "      <th>image-url</th>\n",
              "      <th>Ingredient-count</th>\n",
              "    </tr>\n",
              "  </thead>\n",
              "  <tbody>\n",
              "    <tr>\n",
              "      <th>0</th>\n",
              "      <td>Masala Karela Recipe</td>\n",
              "      <td>1 tablespoon Red Chilli powder,3 tablespoon Gr...</td>\n",
              "      <td>45</td>\n",
              "      <td>Indian</td>\n",
              "      <td>to begin making the masala karela recipe de se...</td>\n",
              "      <td>https://www.archanaskitchen.com/masala-karela-...</td>\n",
              "      <td>salt,amchur (dry mango powder),karela (bitter ...</td>\n",
              "      <td>https://www.archanaskitchen.com/images/archana...</td>\n",
              "      <td>10</td>\n",
              "    </tr>\n",
              "    <tr>\n",
              "      <th>1</th>\n",
              "      <td>Spicy Tomato Rice (Recipe)</td>\n",
              "      <td>2 teaspoon cashew - or peanuts, 1/2 Teaspoon ...</td>\n",
              "      <td>15</td>\n",
              "      <td>South Indian Recipes</td>\n",
              "      <td>to make tomato puliogere first cut the tomatoe...</td>\n",
              "      <td>https://www.archanaskitchen.com/spicy-tomato-r...</td>\n",
              "      <td>tomato,salt,chickpea lentils,green chilli,rice...</td>\n",
              "      <td>https://www.archanaskitchen.com/images/archana...</td>\n",
              "      <td>12</td>\n",
              "    </tr>\n",
              "    <tr>\n",
              "      <th>2</th>\n",
              "      <td>Ragi Semiya Upma Recipe - Ragi Millet Vermicel...</td>\n",
              "      <td>1 Onion - sliced,1 teaspoon White Urad Dal (Sp...</td>\n",
              "      <td>50</td>\n",
              "      <td>South Indian Recipes</td>\n",
              "      <td>to begin making the ragi vermicelli recipe fir...</td>\n",
              "      <td>https://www.archanaskitchen.com/ragi-vermicell...</td>\n",
              "      <td>salt,rice vermicelli noodles (thin),asafoetida...</td>\n",
              "      <td>https://www.archanaskitchen.com/images/archana...</td>\n",
              "      <td>12</td>\n",
              "    </tr>\n",
              "    <tr>\n",
              "      <th>3</th>\n",
              "      <td>Gongura Chicken Curry Recipe - Andhra Style Go...</td>\n",
              "      <td>1/2 teaspoon Turmeric powder (Haldi),1 tablesp...</td>\n",
              "      <td>45</td>\n",
              "      <td>Andhra</td>\n",
              "      <td>to begin making gongura chicken curry recipe f...</td>\n",
              "      <td>https://www.archanaskitchen.com/gongura-chicke...</td>\n",
              "      <td>tomato,salt,ginger,sorrel leaves (gongura),fen...</td>\n",
              "      <td>https://www.archanaskitchen.com/images/archana...</td>\n",
              "      <td>15</td>\n",
              "    </tr>\n",
              "    <tr>\n",
              "      <th>4</th>\n",
              "      <td>Andhra Style Alam Pachadi Recipe - Adrak Chutn...</td>\n",
              "      <td>oil - as per use, 1 tablespoon coriander seed...</td>\n",
              "      <td>30</td>\n",
              "      <td>Andhra</td>\n",
              "      <td>to make andhra style alam pachadi first heat o...</td>\n",
              "      <td>https://www.archanaskitchen.com/andhra-style-a...</td>\n",
              "      <td>tomato,salt,ginger,red chillies,curry,asafoeti...</td>\n",
              "      <td>https://www.archanaskitchen.com/images/archana...</td>\n",
              "      <td>12</td>\n",
              "    </tr>\n",
              "  </tbody>\n",
              "</table>\n",
              "</div>\n",
              "    <div class=\"colab-df-buttons\">\n",
              "\n",
              "  <div class=\"colab-df-container\">\n",
              "    <button class=\"colab-df-convert\" onclick=\"convertToInteractive('df-5b0674c8-6d22-4a3b-8d61-ce0bd3c0107b')\"\n",
              "            title=\"Convert this dataframe to an interactive table.\"\n",
              "            style=\"display:none;\">\n",
              "\n",
              "  <svg xmlns=\"http://www.w3.org/2000/svg\" height=\"24px\" viewBox=\"0 -960 960 960\">\n",
              "    <path d=\"M120-120v-720h720v720H120Zm60-500h600v-160H180v160Zm220 220h160v-160H400v160Zm0 220h160v-160H400v160ZM180-400h160v-160H180v160Zm440 0h160v-160H620v160ZM180-180h160v-160H180v160Zm440 0h160v-160H620v160Z\"/>\n",
              "  </svg>\n",
              "    </button>\n",
              "\n",
              "  <style>\n",
              "    .colab-df-container {\n",
              "      display:flex;\n",
              "      gap: 12px;\n",
              "    }\n",
              "\n",
              "    .colab-df-convert {\n",
              "      background-color: #E8F0FE;\n",
              "      border: none;\n",
              "      border-radius: 50%;\n",
              "      cursor: pointer;\n",
              "      display: none;\n",
              "      fill: #1967D2;\n",
              "      height: 32px;\n",
              "      padding: 0 0 0 0;\n",
              "      width: 32px;\n",
              "    }\n",
              "\n",
              "    .colab-df-convert:hover {\n",
              "      background-color: #E2EBFA;\n",
              "      box-shadow: 0px 1px 2px rgba(60, 64, 67, 0.3), 0px 1px 3px 1px rgba(60, 64, 67, 0.15);\n",
              "      fill: #174EA6;\n",
              "    }\n",
              "\n",
              "    .colab-df-buttons div {\n",
              "      margin-bottom: 4px;\n",
              "    }\n",
              "\n",
              "    [theme=dark] .colab-df-convert {\n",
              "      background-color: #3B4455;\n",
              "      fill: #D2E3FC;\n",
              "    }\n",
              "\n",
              "    [theme=dark] .colab-df-convert:hover {\n",
              "      background-color: #434B5C;\n",
              "      box-shadow: 0px 1px 3px 1px rgba(0, 0, 0, 0.15);\n",
              "      filter: drop-shadow(0px 1px 2px rgba(0, 0, 0, 0.3));\n",
              "      fill: #FFFFFF;\n",
              "    }\n",
              "  </style>\n",
              "\n",
              "    <script>\n",
              "      const buttonEl =\n",
              "        document.querySelector('#df-5b0674c8-6d22-4a3b-8d61-ce0bd3c0107b button.colab-df-convert');\n",
              "      buttonEl.style.display =\n",
              "        google.colab.kernel.accessAllowed ? 'block' : 'none';\n",
              "\n",
              "      async function convertToInteractive(key) {\n",
              "        const element = document.querySelector('#df-5b0674c8-6d22-4a3b-8d61-ce0bd3c0107b');\n",
              "        const dataTable =\n",
              "          await google.colab.kernel.invokeFunction('convertToInteractive',\n",
              "                                                    [key], {});\n",
              "        if (!dataTable) return;\n",
              "\n",
              "        const docLinkHtml = 'Like what you see? Visit the ' +\n",
              "          '<a target=\"_blank\" href=https://colab.research.google.com/notebooks/data_table.ipynb>data table notebook</a>'\n",
              "          + ' to learn more about interactive tables.';\n",
              "        element.innerHTML = '';\n",
              "        dataTable['output_type'] = 'display_data';\n",
              "        await google.colab.output.renderOutput(dataTable, element);\n",
              "        const docLink = document.createElement('div');\n",
              "        docLink.innerHTML = docLinkHtml;\n",
              "        element.appendChild(docLink);\n",
              "      }\n",
              "    </script>\n",
              "  </div>\n",
              "\n",
              "\n",
              "<div id=\"df-dad85e53-c242-4231-a2d5-0203bc576b82\">\n",
              "  <button class=\"colab-df-quickchart\" onclick=\"quickchart('df-dad85e53-c242-4231-a2d5-0203bc576b82')\"\n",
              "            title=\"Suggest charts\"\n",
              "            style=\"display:none;\">\n",
              "\n",
              "<svg xmlns=\"http://www.w3.org/2000/svg\" height=\"24px\"viewBox=\"0 0 24 24\"\n",
              "     width=\"24px\">\n",
              "    <g>\n",
              "        <path d=\"M19 3H5c-1.1 0-2 .9-2 2v14c0 1.1.9 2 2 2h14c1.1 0 2-.9 2-2V5c0-1.1-.9-2-2-2zM9 17H7v-7h2v7zm4 0h-2V7h2v10zm4 0h-2v-4h2v4z\"/>\n",
              "    </g>\n",
              "</svg>\n",
              "  </button>\n",
              "\n",
              "<style>\n",
              "  .colab-df-quickchart {\n",
              "      --bg-color: #E8F0FE;\n",
              "      --fill-color: #1967D2;\n",
              "      --hover-bg-color: #E2EBFA;\n",
              "      --hover-fill-color: #174EA6;\n",
              "      --disabled-fill-color: #AAA;\n",
              "      --disabled-bg-color: #DDD;\n",
              "  }\n",
              "\n",
              "  [theme=dark] .colab-df-quickchart {\n",
              "      --bg-color: #3B4455;\n",
              "      --fill-color: #D2E3FC;\n",
              "      --hover-bg-color: #434B5C;\n",
              "      --hover-fill-color: #FFFFFF;\n",
              "      --disabled-bg-color: #3B4455;\n",
              "      --disabled-fill-color: #666;\n",
              "  }\n",
              "\n",
              "  .colab-df-quickchart {\n",
              "    background-color: var(--bg-color);\n",
              "    border: none;\n",
              "    border-radius: 50%;\n",
              "    cursor: pointer;\n",
              "    display: none;\n",
              "    fill: var(--fill-color);\n",
              "    height: 32px;\n",
              "    padding: 0;\n",
              "    width: 32px;\n",
              "  }\n",
              "\n",
              "  .colab-df-quickchart:hover {\n",
              "    background-color: var(--hover-bg-color);\n",
              "    box-shadow: 0 1px 2px rgba(60, 64, 67, 0.3), 0 1px 3px 1px rgba(60, 64, 67, 0.15);\n",
              "    fill: var(--button-hover-fill-color);\n",
              "  }\n",
              "\n",
              "  .colab-df-quickchart-complete:disabled,\n",
              "  .colab-df-quickchart-complete:disabled:hover {\n",
              "    background-color: var(--disabled-bg-color);\n",
              "    fill: var(--disabled-fill-color);\n",
              "    box-shadow: none;\n",
              "  }\n",
              "\n",
              "  .colab-df-spinner {\n",
              "    border: 2px solid var(--fill-color);\n",
              "    border-color: transparent;\n",
              "    border-bottom-color: var(--fill-color);\n",
              "    animation:\n",
              "      spin 1s steps(1) infinite;\n",
              "  }\n",
              "\n",
              "  @keyframes spin {\n",
              "    0% {\n",
              "      border-color: transparent;\n",
              "      border-bottom-color: var(--fill-color);\n",
              "      border-left-color: var(--fill-color);\n",
              "    }\n",
              "    20% {\n",
              "      border-color: transparent;\n",
              "      border-left-color: var(--fill-color);\n",
              "      border-top-color: var(--fill-color);\n",
              "    }\n",
              "    30% {\n",
              "      border-color: transparent;\n",
              "      border-left-color: var(--fill-color);\n",
              "      border-top-color: var(--fill-color);\n",
              "      border-right-color: var(--fill-color);\n",
              "    }\n",
              "    40% {\n",
              "      border-color: transparent;\n",
              "      border-right-color: var(--fill-color);\n",
              "      border-top-color: var(--fill-color);\n",
              "    }\n",
              "    60% {\n",
              "      border-color: transparent;\n",
              "      border-right-color: var(--fill-color);\n",
              "    }\n",
              "    80% {\n",
              "      border-color: transparent;\n",
              "      border-right-color: var(--fill-color);\n",
              "      border-bottom-color: var(--fill-color);\n",
              "    }\n",
              "    90% {\n",
              "      border-color: transparent;\n",
              "      border-bottom-color: var(--fill-color);\n",
              "    }\n",
              "  }\n",
              "</style>\n",
              "\n",
              "  <script>\n",
              "    async function quickchart(key) {\n",
              "      const quickchartButtonEl =\n",
              "        document.querySelector('#' + key + ' button');\n",
              "      quickchartButtonEl.disabled = true;  // To prevent multiple clicks.\n",
              "      quickchartButtonEl.classList.add('colab-df-spinner');\n",
              "      try {\n",
              "        const charts = await google.colab.kernel.invokeFunction(\n",
              "            'suggestCharts', [key], {});\n",
              "      } catch (error) {\n",
              "        console.error('Error during call to suggestCharts:', error);\n",
              "      }\n",
              "      quickchartButtonEl.classList.remove('colab-df-spinner');\n",
              "      quickchartButtonEl.classList.add('colab-df-quickchart-complete');\n",
              "    }\n",
              "    (() => {\n",
              "      let quickchartButtonEl =\n",
              "        document.querySelector('#df-dad85e53-c242-4231-a2d5-0203bc576b82 button');\n",
              "      quickchartButtonEl.style.display =\n",
              "        google.colab.kernel.accessAllowed ? 'block' : 'none';\n",
              "    })();\n",
              "  </script>\n",
              "</div>\n",
              "\n",
              "    </div>\n",
              "  </div>\n"
            ],
            "application/vnd.google.colaboratory.intrinsic+json": {
              "type": "dataframe",
              "variable_name": "df",
              "summary": "{\n  \"name\": \"df\",\n  \"rows\": 5938,\n  \"fields\": [\n    {\n      \"column\": \"TranslatedRecipeName\",\n      \"properties\": {\n        \"dtype\": \"string\",\n        \"num_unique_values\": 5928,\n        \"samples\": [\n          \"Moong Dal Methi Ki Sabzi (Recipe in Hindi)\",\n          \"Corn And Bell Pepper Sandwich Recipe\",\n          \"Savoury Yogurt Parfait Recipe\"\n        ],\n        \"semantic_type\": \"\",\n        \"description\": \"\"\n      }\n    },\n    {\n      \"column\": \"TranslatedIngredients\",\n      \"properties\": {\n        \"dtype\": \"string\",\n        \"num_unique_values\": 5934,\n        \"samples\": [\n          \"1/2 cup Cranberries,1 tablespoon Brown Sugar (Demerara Sugar),1 teaspoon Baking powder,1 tablespoon Cranberries,1-1/2 cups Whole Wheat Flour,1 teaspoon Vanilla Extract,3/4 cup Coconut Sugar,1 tablespoon Lemon zest,1/2 cup Buttermilk,2 Whole Eggs - or 2 flax eggs,1 tablespoon Corn flakes - or meuseli\",\n          \"Salt - as required,Sunflower Oil - as required,1 Green Chilli,1 teaspoon Cumin seeds (Jeera),Coriander (Dhania) Leaves - small bunch,1 Onion,1/2 cup Chana dal (Bengal Gram Dal),1/2 teaspoon Red Chilli powder,6 cloves Garlic\",\n          \"Salt - as required,2 sprig Coriander (Dhania) Leaves - finely chopped,1 inch Ginger - chopped,1/2 teaspoon Coriander Powder (Dhania),1 tablespoon Kasuri Methi (Dried Fenugreek Leaves),3 Papad,1/2 cup Curd (Dahi / Yogurt) - whisked,1 Green Chilli - chopped,1/2 teaspoon Red Chilli powder,1 tablespoon Ghee,1/4 teaspoon Asafoetida (hing),3 cloves Garlic,1/2 teaspoon Cumin (Jeera) seeds,1/4 teaspoon Turmeric powder (Haldi),2 Tomato - pureed\"\n        ],\n        \"semantic_type\": \"\",\n        \"description\": \"\"\n      }\n    },\n    {\n      \"column\": \"TotalTimeInMins\",\n      \"properties\": {\n        \"dtype\": \"number\",\n        \"std\": 86,\n        \"min\": 0,\n        \"max\": 2925,\n        \"num_unique_values\": 161,\n        \"samples\": [\n          400,\n          62,\n          215\n        ],\n        \"semantic_type\": \"\",\n        \"description\": \"\"\n      }\n    },\n    {\n      \"column\": \"Cuisine\",\n      \"properties\": {\n        \"dtype\": \"category\",\n        \"num_unique_values\": 82,\n        \"samples\": [\n          \"Goan Recipes\",\n          \"Indian\",\n          \"Middle Eastern\"\n        ],\n        \"semantic_type\": \"\",\n        \"description\": \"\"\n      }\n    },\n    {\n      \"column\": \"TranslatedInstructions\",\n      \"properties\": {\n        \"dtype\": \"string\",\n        \"num_unique_values\": 5937,\n        \"samples\": [\n          \"to begin making the szechuan style chinese samosa recipe first prep all the ingredients and keep them ready we will make the dough first and then fill them and proceed to deep fry the chinese veg samosa in pure olive oil to begin making the dough for the samosa crust combine all the ingredients for the dough in a large mixing bowl rub the olive oil into the flour till you see coarse crumbs add little water at a time and knead to make a firm and yet smooth dough cover the dough and keep it aside to rest while we prepare the chinese filling for the stuffing heat olive oil in a wok or a heavy bottomed pan add the ginger garlic green chilies and spring onions and stir fry for a few seconds until you can smell the aromas coming through add the carrots beans capsicum and cabbage and stir fry on high heat until it is cooked through the vegetables will be cooked yet firm once done add the cooked noodles that are roughly chopped the chili sauce salt and pepper stir together until the filling is combined with all the ingredients check the taste and adjust the salt and chili turn off the heat and keep the filling aside to cool preheat the oil for deep frying the samosadivide the samosa dough into 12 equal portions dust it in a little flour and roll into a small square place a small portion of the chinese filling into the rolled out dough at this stage you can fold it like a wonton by bringing the edges together seal the edges by pinching them well so it gives a shape and stands out proceed the same way to make similar szechuan style chinese samosas place the chinese samosas in oil and deep fry them until crisp and golden brown once done remove the szechuan style chinese samosas from the oven and serve serve the veg chinese samosa along with a schezwan sauce as an appetizer or a evening tea time snack for parties\",\n          \"to begin making the mixed vegetable noodle cutlet recipe cook your instant noodles without the tastemaker according the instructions on the packet once the noodles are cooked drain any extra water and set the noodles aside to cool in a large bowl mash the boiled potato and mix with grated carrots and capsicum add the cooked noodles and all the remaining cutlet ingredients except the crumbs and the oat bran and combine well check the salt and spices and adjust to suit your taste divide the cutlet mixture into equal parts and shape them into round discs of about an inch thickness combine the breadcrumbs and oat bran in a platter dip the vegetable noodle cutlet on the crumb bran mixture heat a skillet on medium heat and place the shaped noodle cutlets on them drizzle a bit of oil over the cutlets and pan fry them until brown and crisp on both sides serve the mixed vegetable noodle cutlet recipe as an appetizer a tea time snack or even into the snack box for kids serve it along with a classic tomato ketchup or even a yogurt dip\",\n          \"to begin making the gajar shalgam ka paani wala achar recipe cut vegetables into thick slices and wash it nicely add 1 1 2 cups of water and the vegetables in a pressure cooker and pressure cook for 1 whistle turn off the heat and allow the steam to release naturally once the steam is completely released transfer the vegetables along with the water into a pan and keep aside in a separate pan dry roast mustard seeds cumin and fennel along with some fenugreek seeds and crush them partially using a mortar pestle add vinegar salt and the crushed spices to the cooked turnip and carrot and stir nicely give a gentle boil and turn off the heat allow the pickle to cool down completely and later transfer it in a jar or any container and store in fridge serve gajar shalgam ka paani wala achar with whole wheat lachha paratha gajar paratha or any other stuffed paratha for breakfast or dinner\"\n        ],\n        \"semantic_type\": \"\",\n        \"description\": \"\"\n      }\n    },\n    {\n      \"column\": \"URL\",\n      \"properties\": {\n        \"dtype\": \"string\",\n        \"num_unique_values\": 5938,\n        \"samples\": [\n          \"https://www.archanaskitchen.com/spicy-thai-style-tofu-with-quinoa-recipe\",\n          \"https://www.archanaskitchen.com/mango-pickle-andhra-avakaya-recipe\",\n          \"https://www.archanaskitchen.com/chicken-65-recipe\"\n        ],\n        \"semantic_type\": \"\",\n        \"description\": \"\"\n      }\n    },\n    {\n      \"column\": \"Cleaned-Ingredients\",\n      \"properties\": {\n        \"dtype\": \"string\",\n        \"num_unique_values\": 5932,\n        \"samples\": [\n          \"coconut sugar,baking powder,wheat flour,cranberries,vanilla,lemon,brown sugar (demerara sugar),buttermilk,eggs flax eggs,corn flakes meuseli\",\n          \"coriander (dhania),salt,green chilli,red chilli powder,cloves garlic,onion,cumin seeds (jeera),chana dal (bengal gram dal),sunflower oil\",\n          \"salt,ginger,arhar dal (split toor dal),tamarind water,mustard seeds,brinjal (baingan eggsplant),coconut,jaggery,curry leaves,white urad dal (split),coriander (dhania) seeds,dry red chillies,black pepper powder,boiled peanuts,turmeric powder,chana dal (bengal gram dal),sunflower oil\"\n        ],\n        \"semantic_type\": \"\",\n        \"description\": \"\"\n      }\n    },\n    {\n      \"column\": \"image-url\",\n      \"properties\": {\n        \"dtype\": \"string\",\n        \"num_unique_values\": 5653,\n        \"samples\": [\n          \"https://www.archanaskitchen.com/images/archanaskitchen/1-Author/Smitha_Kalluraya/menthe-hittu-recipe-roasted-fenugreek-powder.jpg\",\n          \"https://www.archanaskitchen.com/images/archanaskitchen/1-Author/Lubna_Karim/BesanOats_Ladoo.jpg\",\n          \"https://www.archanaskitchen.com/images/archanaskitchen/1-Author/Roop/Dalia_Khichdi_Recipe_Broken_Wheat_Khichdi-1_preview.jpeg\"\n        ],\n        \"semantic_type\": \"\",\n        \"description\": \"\"\n      }\n    },\n    {\n      \"column\": \"Ingredient-count\",\n      \"properties\": {\n        \"dtype\": \"number\",\n        \"std\": 4,\n        \"min\": 3,\n        \"max\": 34,\n        \"num_unique_values\": 29,\n        \"samples\": [\n          32,\n          24,\n          20\n        ],\n        \"semantic_type\": \"\",\n        \"description\": \"\"\n      }\n    }\n  ]\n}"
            }
          },
          "metadata": {},
          "execution_count": 23
        }
      ]
    },
    {
      "cell_type": "code",
      "source": [
        "df.to_csv('food_receipes.txt', columns = ['TranslatedInstructions'], header=None, index=False)"
      ],
      "metadata": {
        "id": "JQLQkdphMr1i"
      },
      "execution_count": null,
      "outputs": []
    },
    {
      "cell_type": "markdown",
      "source": [
        "**fasttext uses `skipgram`, which is a unsupervised learning method.**"
      ],
      "metadata": {
        "id": "W4trNvu4NvpH"
      }
    },
    {
      "cell_type": "code",
      "source": [
        "model = fasttext.train_unsupervised(\"food_receipes.txt\")"
      ],
      "metadata": {
        "id": "qFLLlJHXNcuH"
      },
      "execution_count": null,
      "outputs": []
    },
    {
      "cell_type": "markdown",
      "source": [
        "After training, fasttext will get the `word vectors`."
      ],
      "metadata": {
        "id": "QANJbWPvOnGm"
      }
    },
    {
      "cell_type": "code",
      "source": [
        "# now we can get the correct \"nearest_neighbors\" for custom words.\n",
        "model.get_nearest_neighbors(\"chutney\")"
      ],
      "metadata": {
        "colab": {
          "base_uri": "https://localhost:8080/"
        },
        "id": "HNk6bw0iOKYN",
        "outputId": "8052d8d6-1647-42e5-c405-2dc4b62bc562"
      },
      "execution_count": null,
      "outputs": [
        {
          "output_type": "execute_result",
          "data": {
            "text/plain": [
              "[(0.9275704622268677, 'chutneys'),\n",
              " (0.7463748455047607, 'dhaniya'),\n",
              " (0.7132056951522827, 'imli'),\n",
              " (0.7042087316513062, 'khajur'),\n",
              " (0.6639349460601807, 'kanchipuram'),\n",
              " (0.6590506434440613, 'pudina'),\n",
              " (0.6549491286277771, 'gothsu'),\n",
              " (0.6544407606124878, 'chammanthi'),\n",
              " (0.6525646448135376, 'south'),\n",
              " (0.6511055827140808, 'madurai')]"
            ]
          },
          "metadata": {},
          "execution_count": 27
        }
      ]
    },
    {
      "cell_type": "code",
      "source": [
        "model.get_nearest_neighbors(\"Halwa\")"
      ],
      "metadata": {
        "colab": {
          "base_uri": "https://localhost:8080/"
        },
        "id": "RhitHGd4PSfN",
        "outputId": "8bad4a72-0a18-41d9-a77e-64b4f1aec856"
      },
      "execution_count": null,
      "outputs": [
        {
          "output_type": "execute_result",
          "data": {
            "text/plain": [
              "[(0.9746202230453491, 'halwa'),\n",
              " (0.712103545665741, 'khoya'),\n",
              " (0.6994524598121643, 'burfi'),\n",
              " (0.6804381012916565, 'rabri'),\n",
              " (0.6798492670059204, 'sheera'),\n",
              " (0.6793428063392639, 'mawa'),\n",
              " (0.6720821261405945, 'badam'),\n",
              " (0.6708599328994751, 'mohan'),\n",
              " (0.6636401414871216, 'kheer'),\n",
              " (0.6382583379745483, 'basundi')]"
            ]
          },
          "metadata": {},
          "execution_count": 28
        }
      ]
    },
    {
      "cell_type": "code",
      "source": [
        "model.get_nearest_neighbors(\"paneer\")"
      ],
      "metadata": {
        "colab": {
          "base_uri": "https://localhost:8080/"
        },
        "id": "aM2MlIjoPcdN",
        "outputId": "19efca6f-e1f8-46a7-9c73-1037574f3146"
      },
      "execution_count": null,
      "outputs": [
        {
          "output_type": "execute_result",
          "data": {
            "text/plain": [
              "[(0.7046746611595154, 'tikka'),\n",
              " (0.6630706191062927, 'tikkas'),\n",
              " (0.6622522473335266, 'tandoori'),\n",
              " (0.6518504619598389, 'bhurji'),\n",
              " (0.6466901302337646, 'reshmi'),\n",
              " (0.6369193196296692, 'nawabi'),\n",
              " (0.6190375685691833, 'makhanwala'),\n",
              " (0.6179590821266174, 'hariyali'),\n",
              " (0.6143130660057068, 'makhani'),\n",
              " (0.5987952351570129, 'malai')]"
            ]
          },
          "metadata": {},
          "execution_count": 29
        }
      ]
    },
    {
      "cell_type": "code",
      "source": [],
      "metadata": {
        "id": "z0KV9WG2PkYP"
      },
      "execution_count": null,
      "outputs": []
    }
  ]
}